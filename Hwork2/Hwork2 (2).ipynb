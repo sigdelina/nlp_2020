{
  "nbformat": 4,
  "nbformat_minor": 0,
  "metadata": {
    "colab": {
      "name": "Hwork2.ipynb",
      "provenance": [],
      "collapsed_sections": [],
      "toc_visible": true
    },
    "kernelspec": {
      "display_name": "Python 3",
      "name": "python3"
    },
    "widgets": {
      "application/vnd.jupyter.widget-state+json": {
        "8815e0833a314b40b76fdad70938e5c3": {
          "model_module": "@jupyter-widgets/controls",
          "model_name": "HBoxModel",
          "state": {
            "_view_name": "HBoxView",
            "_dom_classes": [],
            "_model_name": "HBoxModel",
            "_view_module": "@jupyter-widgets/controls",
            "_model_module_version": "1.5.0",
            "_view_count": null,
            "_view_module_version": "1.5.0",
            "box_style": "",
            "layout": "IPY_MODEL_70d64071e27e477b9da7b1dd23d57ef7",
            "_model_module": "@jupyter-widgets/controls",
            "children": [
              "IPY_MODEL_f852a35ac8b047aab2196b7a97d31be1",
              "IPY_MODEL_cd1f2d145c474291a72ebc04f67aa131"
            ]
          }
        },
        "70d64071e27e477b9da7b1dd23d57ef7": {
          "model_module": "@jupyter-widgets/base",
          "model_name": "LayoutModel",
          "state": {
            "_view_name": "LayoutView",
            "grid_template_rows": null,
            "right": null,
            "justify_content": null,
            "_view_module": "@jupyter-widgets/base",
            "overflow": null,
            "_model_module_version": "1.2.0",
            "_view_count": null,
            "flex_flow": null,
            "width": null,
            "min_width": null,
            "border": null,
            "align_items": null,
            "bottom": null,
            "_model_module": "@jupyter-widgets/base",
            "top": null,
            "grid_column": null,
            "overflow_y": null,
            "overflow_x": null,
            "grid_auto_flow": null,
            "grid_area": null,
            "grid_template_columns": null,
            "flex": null,
            "_model_name": "LayoutModel",
            "justify_items": null,
            "grid_row": null,
            "max_height": null,
            "align_content": null,
            "visibility": null,
            "align_self": null,
            "height": null,
            "min_height": null,
            "padding": null,
            "grid_auto_rows": null,
            "grid_gap": null,
            "max_width": null,
            "order": null,
            "_view_module_version": "1.2.0",
            "grid_template_areas": null,
            "object_position": null,
            "object_fit": null,
            "grid_auto_columns": null,
            "margin": null,
            "display": null,
            "left": null
          }
        },
        "f852a35ac8b047aab2196b7a97d31be1": {
          "model_module": "@jupyter-widgets/controls",
          "model_name": "FloatProgressModel",
          "state": {
            "_view_name": "ProgressView",
            "style": "IPY_MODEL_868513e2a21a46f6b8e1e1d037ccc891",
            "_dom_classes": [],
            "description": "100%",
            "_model_name": "FloatProgressModel",
            "bar_style": "success",
            "max": 78931,
            "_view_module": "@jupyter-widgets/controls",
            "_model_module_version": "1.5.0",
            "value": 78931,
            "_view_count": null,
            "_view_module_version": "1.5.0",
            "orientation": "horizontal",
            "min": 0,
            "description_tooltip": null,
            "_model_module": "@jupyter-widgets/controls",
            "layout": "IPY_MODEL_41bf9e2822da4a0cba49726a0ac2f7b0"
          }
        },
        "cd1f2d145c474291a72ebc04f67aa131": {
          "model_module": "@jupyter-widgets/controls",
          "model_name": "HTMLModel",
          "state": {
            "_view_name": "HTMLView",
            "style": "IPY_MODEL_951e97e7b95d4d91b337014c036d5a61",
            "_dom_classes": [],
            "description": "",
            "_model_name": "HTMLModel",
            "placeholder": "​",
            "_view_module": "@jupyter-widgets/controls",
            "_model_module_version": "1.5.0",
            "value": " 78931/78931 [00:01&lt;00:00, 48056.38it/s]",
            "_view_count": null,
            "_view_module_version": "1.5.0",
            "description_tooltip": null,
            "_model_module": "@jupyter-widgets/controls",
            "layout": "IPY_MODEL_dc8f2ff882bb43599df7c6a9a3372bfa"
          }
        },
        "868513e2a21a46f6b8e1e1d037ccc891": {
          "model_module": "@jupyter-widgets/controls",
          "model_name": "ProgressStyleModel",
          "state": {
            "_view_name": "StyleView",
            "_model_name": "ProgressStyleModel",
            "description_width": "initial",
            "_view_module": "@jupyter-widgets/base",
            "_model_module_version": "1.5.0",
            "_view_count": null,
            "_view_module_version": "1.2.0",
            "bar_color": null,
            "_model_module": "@jupyter-widgets/controls"
          }
        },
        "41bf9e2822da4a0cba49726a0ac2f7b0": {
          "model_module": "@jupyter-widgets/base",
          "model_name": "LayoutModel",
          "state": {
            "_view_name": "LayoutView",
            "grid_template_rows": null,
            "right": null,
            "justify_content": null,
            "_view_module": "@jupyter-widgets/base",
            "overflow": null,
            "_model_module_version": "1.2.0",
            "_view_count": null,
            "flex_flow": null,
            "width": null,
            "min_width": null,
            "border": null,
            "align_items": null,
            "bottom": null,
            "_model_module": "@jupyter-widgets/base",
            "top": null,
            "grid_column": null,
            "overflow_y": null,
            "overflow_x": null,
            "grid_auto_flow": null,
            "grid_area": null,
            "grid_template_columns": null,
            "flex": null,
            "_model_name": "LayoutModel",
            "justify_items": null,
            "grid_row": null,
            "max_height": null,
            "align_content": null,
            "visibility": null,
            "align_self": null,
            "height": null,
            "min_height": null,
            "padding": null,
            "grid_auto_rows": null,
            "grid_gap": null,
            "max_width": null,
            "order": null,
            "_view_module_version": "1.2.0",
            "grid_template_areas": null,
            "object_position": null,
            "object_fit": null,
            "grid_auto_columns": null,
            "margin": null,
            "display": null,
            "left": null
          }
        },
        "951e97e7b95d4d91b337014c036d5a61": {
          "model_module": "@jupyter-widgets/controls",
          "model_name": "DescriptionStyleModel",
          "state": {
            "_view_name": "StyleView",
            "_model_name": "DescriptionStyleModel",
            "description_width": "",
            "_view_module": "@jupyter-widgets/base",
            "_model_module_version": "1.5.0",
            "_view_count": null,
            "_view_module_version": "1.2.0",
            "_model_module": "@jupyter-widgets/controls"
          }
        },
        "dc8f2ff882bb43599df7c6a9a3372bfa": {
          "model_module": "@jupyter-widgets/base",
          "model_name": "LayoutModel",
          "state": {
            "_view_name": "LayoutView",
            "grid_template_rows": null,
            "right": null,
            "justify_content": null,
            "_view_module": "@jupyter-widgets/base",
            "overflow": null,
            "_model_module_version": "1.2.0",
            "_view_count": null,
            "flex_flow": null,
            "width": null,
            "min_width": null,
            "border": null,
            "align_items": null,
            "bottom": null,
            "_model_module": "@jupyter-widgets/base",
            "top": null,
            "grid_column": null,
            "overflow_y": null,
            "overflow_x": null,
            "grid_auto_flow": null,
            "grid_area": null,
            "grid_template_columns": null,
            "flex": null,
            "_model_name": "LayoutModel",
            "justify_items": null,
            "grid_row": null,
            "max_height": null,
            "align_content": null,
            "visibility": null,
            "align_self": null,
            "height": null,
            "min_height": null,
            "padding": null,
            "grid_auto_rows": null,
            "grid_gap": null,
            "max_width": null,
            "order": null,
            "_view_module_version": "1.2.0",
            "grid_template_areas": null,
            "object_position": null,
            "object_fit": null,
            "grid_auto_columns": null,
            "margin": null,
            "display": null,
            "left": null
          }
        },
        "efd917298fdf4d60adfee8fb09918997": {
          "model_module": "@jupyter-widgets/controls",
          "model_name": "HBoxModel",
          "state": {
            "_view_name": "HBoxView",
            "_dom_classes": [],
            "_model_name": "HBoxModel",
            "_view_module": "@jupyter-widgets/controls",
            "_model_module_version": "1.5.0",
            "_view_count": null,
            "_view_module_version": "1.5.0",
            "box_style": "",
            "layout": "IPY_MODEL_22b672a65f754fa89d6042aca68bb758",
            "_model_module": "@jupyter-widgets/controls",
            "children": [
              "IPY_MODEL_386e111942514d46b49bdc1cba9fa0bb",
              "IPY_MODEL_89e797888374418eb3d53203c072bf0a"
            ]
          }
        },
        "22b672a65f754fa89d6042aca68bb758": {
          "model_module": "@jupyter-widgets/base",
          "model_name": "LayoutModel",
          "state": {
            "_view_name": "LayoutView",
            "grid_template_rows": null,
            "right": null,
            "justify_content": null,
            "_view_module": "@jupyter-widgets/base",
            "overflow": null,
            "_model_module_version": "1.2.0",
            "_view_count": null,
            "flex_flow": null,
            "width": null,
            "min_width": null,
            "border": null,
            "align_items": null,
            "bottom": null,
            "_model_module": "@jupyter-widgets/base",
            "top": null,
            "grid_column": null,
            "overflow_y": null,
            "overflow_x": null,
            "grid_auto_flow": null,
            "grid_area": null,
            "grid_template_columns": null,
            "flex": null,
            "_model_name": "LayoutModel",
            "justify_items": null,
            "grid_row": null,
            "max_height": null,
            "align_content": null,
            "visibility": null,
            "align_self": null,
            "height": null,
            "min_height": null,
            "padding": null,
            "grid_auto_rows": null,
            "grid_gap": null,
            "max_width": null,
            "order": null,
            "_view_module_version": "1.2.0",
            "grid_template_areas": null,
            "object_position": null,
            "object_fit": null,
            "grid_auto_columns": null,
            "margin": null,
            "display": null,
            "left": null
          }
        },
        "386e111942514d46b49bdc1cba9fa0bb": {
          "model_module": "@jupyter-widgets/controls",
          "model_name": "FloatProgressModel",
          "state": {
            "_view_name": "ProgressView",
            "style": "IPY_MODEL_0c1f5412d7884e8ca92631d4f2651c52",
            "_dom_classes": [],
            "description": "100%",
            "_model_name": "FloatProgressModel",
            "bar_style": "success",
            "max": 78930,
            "_view_module": "@jupyter-widgets/controls",
            "_model_module_version": "1.5.0",
            "value": 78930,
            "_view_count": null,
            "_view_module_version": "1.5.0",
            "orientation": "horizontal",
            "min": 0,
            "description_tooltip": null,
            "_model_module": "@jupyter-widgets/controls",
            "layout": "IPY_MODEL_9697ac1551394618a6c89421ea5e20b9"
          }
        },
        "89e797888374418eb3d53203c072bf0a": {
          "model_module": "@jupyter-widgets/controls",
          "model_name": "HTMLModel",
          "state": {
            "_view_name": "HTMLView",
            "style": "IPY_MODEL_76aebf1081cb4303b14d96e4c4bc3706",
            "_dom_classes": [],
            "description": "",
            "_model_name": "HTMLModel",
            "placeholder": "​",
            "_view_module": "@jupyter-widgets/controls",
            "_model_module_version": "1.5.0",
            "value": " 78930/78930 [01:14&lt;00:00, 1055.46it/s]",
            "_view_count": null,
            "_view_module_version": "1.5.0",
            "description_tooltip": null,
            "_model_module": "@jupyter-widgets/controls",
            "layout": "IPY_MODEL_d5e41df6b22c48329a89868e60e08343"
          }
        },
        "0c1f5412d7884e8ca92631d4f2651c52": {
          "model_module": "@jupyter-widgets/controls",
          "model_name": "ProgressStyleModel",
          "state": {
            "_view_name": "StyleView",
            "_model_name": "ProgressStyleModel",
            "description_width": "initial",
            "_view_module": "@jupyter-widgets/base",
            "_model_module_version": "1.5.0",
            "_view_count": null,
            "_view_module_version": "1.2.0",
            "bar_color": null,
            "_model_module": "@jupyter-widgets/controls"
          }
        },
        "9697ac1551394618a6c89421ea5e20b9": {
          "model_module": "@jupyter-widgets/base",
          "model_name": "LayoutModel",
          "state": {
            "_view_name": "LayoutView",
            "grid_template_rows": null,
            "right": null,
            "justify_content": null,
            "_view_module": "@jupyter-widgets/base",
            "overflow": null,
            "_model_module_version": "1.2.0",
            "_view_count": null,
            "flex_flow": null,
            "width": null,
            "min_width": null,
            "border": null,
            "align_items": null,
            "bottom": null,
            "_model_module": "@jupyter-widgets/base",
            "top": null,
            "grid_column": null,
            "overflow_y": null,
            "overflow_x": null,
            "grid_auto_flow": null,
            "grid_area": null,
            "grid_template_columns": null,
            "flex": null,
            "_model_name": "LayoutModel",
            "justify_items": null,
            "grid_row": null,
            "max_height": null,
            "align_content": null,
            "visibility": null,
            "align_self": null,
            "height": null,
            "min_height": null,
            "padding": null,
            "grid_auto_rows": null,
            "grid_gap": null,
            "max_width": null,
            "order": null,
            "_view_module_version": "1.2.0",
            "grid_template_areas": null,
            "object_position": null,
            "object_fit": null,
            "grid_auto_columns": null,
            "margin": null,
            "display": null,
            "left": null
          }
        },
        "76aebf1081cb4303b14d96e4c4bc3706": {
          "model_module": "@jupyter-widgets/controls",
          "model_name": "DescriptionStyleModel",
          "state": {
            "_view_name": "StyleView",
            "_model_name": "DescriptionStyleModel",
            "description_width": "",
            "_view_module": "@jupyter-widgets/base",
            "_model_module_version": "1.5.0",
            "_view_count": null,
            "_view_module_version": "1.2.0",
            "_model_module": "@jupyter-widgets/controls"
          }
        },
        "d5e41df6b22c48329a89868e60e08343": {
          "model_module": "@jupyter-widgets/base",
          "model_name": "LayoutModel",
          "state": {
            "_view_name": "LayoutView",
            "grid_template_rows": null,
            "right": null,
            "justify_content": null,
            "_view_module": "@jupyter-widgets/base",
            "overflow": null,
            "_model_module_version": "1.2.0",
            "_view_count": null,
            "flex_flow": null,
            "width": null,
            "min_width": null,
            "border": null,
            "align_items": null,
            "bottom": null,
            "_model_module": "@jupyter-widgets/base",
            "top": null,
            "grid_column": null,
            "overflow_y": null,
            "overflow_x": null,
            "grid_auto_flow": null,
            "grid_area": null,
            "grid_template_columns": null,
            "flex": null,
            "_model_name": "LayoutModel",
            "justify_items": null,
            "grid_row": null,
            "max_height": null,
            "align_content": null,
            "visibility": null,
            "align_self": null,
            "height": null,
            "min_height": null,
            "padding": null,
            "grid_auto_rows": null,
            "grid_gap": null,
            "max_width": null,
            "order": null,
            "_view_module_version": "1.2.0",
            "grid_template_areas": null,
            "object_position": null,
            "object_fit": null,
            "grid_auto_columns": null,
            "margin": null,
            "display": null,
            "left": null
          }
        },
        "94448ca0657647f3822ad91b6df93470": {
          "model_module": "@jupyter-widgets/controls",
          "model_name": "HBoxModel",
          "state": {
            "_view_name": "HBoxView",
            "_dom_classes": [],
            "_model_name": "HBoxModel",
            "_view_module": "@jupyter-widgets/controls",
            "_model_module_version": "1.5.0",
            "_view_count": null,
            "_view_module_version": "1.5.0",
            "box_style": "",
            "layout": "IPY_MODEL_99a4d4a69ae9494ab6697d8b3b3ee83d",
            "_model_module": "@jupyter-widgets/controls",
            "children": [
              "IPY_MODEL_7e92e421c8ed4e46a815b9c825bf3715",
              "IPY_MODEL_bde26f15abe5404088f69b61d342ea29"
            ]
          }
        },
        "99a4d4a69ae9494ab6697d8b3b3ee83d": {
          "model_module": "@jupyter-widgets/base",
          "model_name": "LayoutModel",
          "state": {
            "_view_name": "LayoutView",
            "grid_template_rows": null,
            "right": null,
            "justify_content": null,
            "_view_module": "@jupyter-widgets/base",
            "overflow": null,
            "_model_module_version": "1.2.0",
            "_view_count": null,
            "flex_flow": null,
            "width": null,
            "min_width": null,
            "border": null,
            "align_items": null,
            "bottom": null,
            "_model_module": "@jupyter-widgets/base",
            "top": null,
            "grid_column": null,
            "overflow_y": null,
            "overflow_x": null,
            "grid_auto_flow": null,
            "grid_area": null,
            "grid_template_columns": null,
            "flex": null,
            "_model_name": "LayoutModel",
            "justify_items": null,
            "grid_row": null,
            "max_height": null,
            "align_content": null,
            "visibility": null,
            "align_self": null,
            "height": null,
            "min_height": null,
            "padding": null,
            "grid_auto_rows": null,
            "grid_gap": null,
            "max_width": null,
            "order": null,
            "_view_module_version": "1.2.0",
            "grid_template_areas": null,
            "object_position": null,
            "object_fit": null,
            "grid_auto_columns": null,
            "margin": null,
            "display": null,
            "left": null
          }
        },
        "7e92e421c8ed4e46a815b9c825bf3715": {
          "model_module": "@jupyter-widgets/controls",
          "model_name": "FloatProgressModel",
          "state": {
            "_view_name": "ProgressView",
            "style": "IPY_MODEL_fa3facfae42543d0836978d5d7789c69",
            "_dom_classes": [],
            "description": "100%",
            "_model_name": "FloatProgressModel",
            "bar_style": "success",
            "max": 78930,
            "_view_module": "@jupyter-widgets/controls",
            "_model_module_version": "1.5.0",
            "value": 78930,
            "_view_count": null,
            "_view_module_version": "1.5.0",
            "orientation": "horizontal",
            "min": 0,
            "description_tooltip": null,
            "_model_module": "@jupyter-widgets/controls",
            "layout": "IPY_MODEL_053ac632977246d2a746736ea9a6549a"
          }
        },
        "bde26f15abe5404088f69b61d342ea29": {
          "model_module": "@jupyter-widgets/controls",
          "model_name": "HTMLModel",
          "state": {
            "_view_name": "HTMLView",
            "style": "IPY_MODEL_ab0282e5fdad4f6586ebf096e1425de2",
            "_dom_classes": [],
            "description": "",
            "_model_name": "HTMLModel",
            "placeholder": "​",
            "_view_module": "@jupyter-widgets/controls",
            "_model_module_version": "1.5.0",
            "value": " 78930/78930 [3:46:46&lt;00:00,  5.80it/s]",
            "_view_count": null,
            "_view_module_version": "1.5.0",
            "description_tooltip": null,
            "_model_module": "@jupyter-widgets/controls",
            "layout": "IPY_MODEL_05be7efe1c854af286733494078d277f"
          }
        },
        "fa3facfae42543d0836978d5d7789c69": {
          "model_module": "@jupyter-widgets/controls",
          "model_name": "ProgressStyleModel",
          "state": {
            "_view_name": "StyleView",
            "_model_name": "ProgressStyleModel",
            "description_width": "initial",
            "_view_module": "@jupyter-widgets/base",
            "_model_module_version": "1.5.0",
            "_view_count": null,
            "_view_module_version": "1.2.0",
            "bar_color": null,
            "_model_module": "@jupyter-widgets/controls"
          }
        },
        "053ac632977246d2a746736ea9a6549a": {
          "model_module": "@jupyter-widgets/base",
          "model_name": "LayoutModel",
          "state": {
            "_view_name": "LayoutView",
            "grid_template_rows": null,
            "right": null,
            "justify_content": null,
            "_view_module": "@jupyter-widgets/base",
            "overflow": null,
            "_model_module_version": "1.2.0",
            "_view_count": null,
            "flex_flow": null,
            "width": null,
            "min_width": null,
            "border": null,
            "align_items": null,
            "bottom": null,
            "_model_module": "@jupyter-widgets/base",
            "top": null,
            "grid_column": null,
            "overflow_y": null,
            "overflow_x": null,
            "grid_auto_flow": null,
            "grid_area": null,
            "grid_template_columns": null,
            "flex": null,
            "_model_name": "LayoutModel",
            "justify_items": null,
            "grid_row": null,
            "max_height": null,
            "align_content": null,
            "visibility": null,
            "align_self": null,
            "height": null,
            "min_height": null,
            "padding": null,
            "grid_auto_rows": null,
            "grid_gap": null,
            "max_width": null,
            "order": null,
            "_view_module_version": "1.2.0",
            "grid_template_areas": null,
            "object_position": null,
            "object_fit": null,
            "grid_auto_columns": null,
            "margin": null,
            "display": null,
            "left": null
          }
        },
        "ab0282e5fdad4f6586ebf096e1425de2": {
          "model_module": "@jupyter-widgets/controls",
          "model_name": "DescriptionStyleModel",
          "state": {
            "_view_name": "StyleView",
            "_model_name": "DescriptionStyleModel",
            "description_width": "",
            "_view_module": "@jupyter-widgets/base",
            "_model_module_version": "1.5.0",
            "_view_count": null,
            "_view_module_version": "1.2.0",
            "_model_module": "@jupyter-widgets/controls"
          }
        },
        "05be7efe1c854af286733494078d277f": {
          "model_module": "@jupyter-widgets/base",
          "model_name": "LayoutModel",
          "state": {
            "_view_name": "LayoutView",
            "grid_template_rows": null,
            "right": null,
            "justify_content": null,
            "_view_module": "@jupyter-widgets/base",
            "overflow": null,
            "_model_module_version": "1.2.0",
            "_view_count": null,
            "flex_flow": null,
            "width": null,
            "min_width": null,
            "border": null,
            "align_items": null,
            "bottom": null,
            "_model_module": "@jupyter-widgets/base",
            "top": null,
            "grid_column": null,
            "overflow_y": null,
            "overflow_x": null,
            "grid_auto_flow": null,
            "grid_area": null,
            "grid_template_columns": null,
            "flex": null,
            "_model_name": "LayoutModel",
            "justify_items": null,
            "grid_row": null,
            "max_height": null,
            "align_content": null,
            "visibility": null,
            "align_self": null,
            "height": null,
            "min_height": null,
            "padding": null,
            "grid_auto_rows": null,
            "grid_gap": null,
            "max_width": null,
            "order": null,
            "_view_module_version": "1.2.0",
            "grid_template_areas": null,
            "object_position": null,
            "object_fit": null,
            "grid_auto_columns": null,
            "margin": null,
            "display": null,
            "left": null
          }
        },
        "2d586f03f75448eab460fd3df82bd055": {
          "model_module": "@jupyter-widgets/controls",
          "model_name": "HBoxModel",
          "state": {
            "_view_name": "HBoxView",
            "_dom_classes": [],
            "_model_name": "HBoxModel",
            "_view_module": "@jupyter-widgets/controls",
            "_model_module_version": "1.5.0",
            "_view_count": null,
            "_view_module_version": "1.5.0",
            "box_style": "",
            "layout": "IPY_MODEL_c79b99a32d924530825ddfee75e83acb",
            "_model_module": "@jupyter-widgets/controls",
            "children": [
              "IPY_MODEL_5a89f2a9b70c4e0593bd2da551f24aa5",
              "IPY_MODEL_9695c4de573e4a69a9238ad69c337494"
            ]
          }
        },
        "c79b99a32d924530825ddfee75e83acb": {
          "model_module": "@jupyter-widgets/base",
          "model_name": "LayoutModel",
          "state": {
            "_view_name": "LayoutView",
            "grid_template_rows": null,
            "right": null,
            "justify_content": null,
            "_view_module": "@jupyter-widgets/base",
            "overflow": null,
            "_model_module_version": "1.2.0",
            "_view_count": null,
            "flex_flow": null,
            "width": null,
            "min_width": null,
            "border": null,
            "align_items": null,
            "bottom": null,
            "_model_module": "@jupyter-widgets/base",
            "top": null,
            "grid_column": null,
            "overflow_y": null,
            "overflow_x": null,
            "grid_auto_flow": null,
            "grid_area": null,
            "grid_template_columns": null,
            "flex": null,
            "_model_name": "LayoutModel",
            "justify_items": null,
            "grid_row": null,
            "max_height": null,
            "align_content": null,
            "visibility": null,
            "align_self": null,
            "height": null,
            "min_height": null,
            "padding": null,
            "grid_auto_rows": null,
            "grid_gap": null,
            "max_width": null,
            "order": null,
            "_view_module_version": "1.2.0",
            "grid_template_areas": null,
            "object_position": null,
            "object_fit": null,
            "grid_auto_columns": null,
            "margin": null,
            "display": null,
            "left": null
          }
        },
        "5a89f2a9b70c4e0593bd2da551f24aa5": {
          "model_module": "@jupyter-widgets/controls",
          "model_name": "FloatProgressModel",
          "state": {
            "_view_name": "ProgressView",
            "style": "IPY_MODEL_b644ca73ee3e440a96bb22deb590d549",
            "_dom_classes": [],
            "description": "100%",
            "_model_name": "FloatProgressModel",
            "bar_style": "success",
            "max": 78930,
            "_view_module": "@jupyter-widgets/controls",
            "_model_module_version": "1.5.0",
            "value": 78930,
            "_view_count": null,
            "_view_module_version": "1.5.0",
            "orientation": "horizontal",
            "min": 0,
            "description_tooltip": null,
            "_model_module": "@jupyter-widgets/controls",
            "layout": "IPY_MODEL_33416758d7af4df2b02ca814b29d8c2e"
          }
        },
        "9695c4de573e4a69a9238ad69c337494": {
          "model_module": "@jupyter-widgets/controls",
          "model_name": "HTMLModel",
          "state": {
            "_view_name": "HTMLView",
            "style": "IPY_MODEL_2a1689bc47bd4c4d8b0909794119581e",
            "_dom_classes": [],
            "description": "",
            "_model_name": "HTMLModel",
            "placeholder": "​",
            "_view_module": "@jupyter-widgets/controls",
            "_model_module_version": "1.5.0",
            "value": " 78930/78930 [02:25&lt;00:00, 543.46it/s]",
            "_view_count": null,
            "_view_module_version": "1.5.0",
            "description_tooltip": null,
            "_model_module": "@jupyter-widgets/controls",
            "layout": "IPY_MODEL_aa78f7e5245a4f3b97513105732b5776"
          }
        },
        "b644ca73ee3e440a96bb22deb590d549": {
          "model_module": "@jupyter-widgets/controls",
          "model_name": "ProgressStyleModel",
          "state": {
            "_view_name": "StyleView",
            "_model_name": "ProgressStyleModel",
            "description_width": "initial",
            "_view_module": "@jupyter-widgets/base",
            "_model_module_version": "1.5.0",
            "_view_count": null,
            "_view_module_version": "1.2.0",
            "bar_color": null,
            "_model_module": "@jupyter-widgets/controls"
          }
        },
        "33416758d7af4df2b02ca814b29d8c2e": {
          "model_module": "@jupyter-widgets/base",
          "model_name": "LayoutModel",
          "state": {
            "_view_name": "LayoutView",
            "grid_template_rows": null,
            "right": null,
            "justify_content": null,
            "_view_module": "@jupyter-widgets/base",
            "overflow": null,
            "_model_module_version": "1.2.0",
            "_view_count": null,
            "flex_flow": null,
            "width": null,
            "min_width": null,
            "border": null,
            "align_items": null,
            "bottom": null,
            "_model_module": "@jupyter-widgets/base",
            "top": null,
            "grid_column": null,
            "overflow_y": null,
            "overflow_x": null,
            "grid_auto_flow": null,
            "grid_area": null,
            "grid_template_columns": null,
            "flex": null,
            "_model_name": "LayoutModel",
            "justify_items": null,
            "grid_row": null,
            "max_height": null,
            "align_content": null,
            "visibility": null,
            "align_self": null,
            "height": null,
            "min_height": null,
            "padding": null,
            "grid_auto_rows": null,
            "grid_gap": null,
            "max_width": null,
            "order": null,
            "_view_module_version": "1.2.0",
            "grid_template_areas": null,
            "object_position": null,
            "object_fit": null,
            "grid_auto_columns": null,
            "margin": null,
            "display": null,
            "left": null
          }
        },
        "2a1689bc47bd4c4d8b0909794119581e": {
          "model_module": "@jupyter-widgets/controls",
          "model_name": "DescriptionStyleModel",
          "state": {
            "_view_name": "StyleView",
            "_model_name": "DescriptionStyleModel",
            "description_width": "",
            "_view_module": "@jupyter-widgets/base",
            "_model_module_version": "1.5.0",
            "_view_count": null,
            "_view_module_version": "1.2.0",
            "_model_module": "@jupyter-widgets/controls"
          }
        },
        "aa78f7e5245a4f3b97513105732b5776": {
          "model_module": "@jupyter-widgets/base",
          "model_name": "LayoutModel",
          "state": {
            "_view_name": "LayoutView",
            "grid_template_rows": null,
            "right": null,
            "justify_content": null,
            "_view_module": "@jupyter-widgets/base",
            "overflow": null,
            "_model_module_version": "1.2.0",
            "_view_count": null,
            "flex_flow": null,
            "width": null,
            "min_width": null,
            "border": null,
            "align_items": null,
            "bottom": null,
            "_model_module": "@jupyter-widgets/base",
            "top": null,
            "grid_column": null,
            "overflow_y": null,
            "overflow_x": null,
            "grid_auto_flow": null,
            "grid_area": null,
            "grid_template_columns": null,
            "flex": null,
            "_model_name": "LayoutModel",
            "justify_items": null,
            "grid_row": null,
            "max_height": null,
            "align_content": null,
            "visibility": null,
            "align_self": null,
            "height": null,
            "min_height": null,
            "padding": null,
            "grid_auto_rows": null,
            "grid_gap": null,
            "max_width": null,
            "order": null,
            "_view_module_version": "1.2.0",
            "grid_template_areas": null,
            "object_position": null,
            "object_fit": null,
            "grid_auto_columns": null,
            "margin": null,
            "display": null,
            "left": null
          }
        },
        "1471c46db3d948158bee5683e8adb811": {
          "model_module": "@jupyter-widgets/controls",
          "model_name": "HBoxModel",
          "state": {
            "_view_name": "HBoxView",
            "_dom_classes": [],
            "_model_name": "HBoxModel",
            "_view_module": "@jupyter-widgets/controls",
            "_model_module_version": "1.5.0",
            "_view_count": null,
            "_view_module_version": "1.5.0",
            "box_style": "",
            "layout": "IPY_MODEL_f2b214679cb14221a9e68ce908e55343",
            "_model_module": "@jupyter-widgets/controls",
            "children": [
              "IPY_MODEL_282732a8ddc24d99ad13a51c95635585",
              "IPY_MODEL_232d4bb819874968a5da56d22c6c33ad"
            ]
          }
        },
        "f2b214679cb14221a9e68ce908e55343": {
          "model_module": "@jupyter-widgets/base",
          "model_name": "LayoutModel",
          "state": {
            "_view_name": "LayoutView",
            "grid_template_rows": null,
            "right": null,
            "justify_content": null,
            "_view_module": "@jupyter-widgets/base",
            "overflow": null,
            "_model_module_version": "1.2.0",
            "_view_count": null,
            "flex_flow": null,
            "width": null,
            "min_width": null,
            "border": null,
            "align_items": null,
            "bottom": null,
            "_model_module": "@jupyter-widgets/base",
            "top": null,
            "grid_column": null,
            "overflow_y": null,
            "overflow_x": null,
            "grid_auto_flow": null,
            "grid_area": null,
            "grid_template_columns": null,
            "flex": null,
            "_model_name": "LayoutModel",
            "justify_items": null,
            "grid_row": null,
            "max_height": null,
            "align_content": null,
            "visibility": null,
            "align_self": null,
            "height": null,
            "min_height": null,
            "padding": null,
            "grid_auto_rows": null,
            "grid_gap": null,
            "max_width": null,
            "order": null,
            "_view_module_version": "1.2.0",
            "grid_template_areas": null,
            "object_position": null,
            "object_fit": null,
            "grid_auto_columns": null,
            "margin": null,
            "display": null,
            "left": null
          }
        },
        "282732a8ddc24d99ad13a51c95635585": {
          "model_module": "@jupyter-widgets/controls",
          "model_name": "FloatProgressModel",
          "state": {
            "_view_name": "ProgressView",
            "style": "IPY_MODEL_fe83b96299b847d4acf96936f6e7b798",
            "_dom_classes": [],
            "description": "100%",
            "_model_name": "FloatProgressModel",
            "bar_style": "success",
            "max": 78931,
            "_view_module": "@jupyter-widgets/controls",
            "_model_module_version": "1.5.0",
            "value": 78931,
            "_view_count": null,
            "_view_module_version": "1.5.0",
            "orientation": "horizontal",
            "min": 0,
            "description_tooltip": null,
            "_model_module": "@jupyter-widgets/controls",
            "layout": "IPY_MODEL_57dd3f50239b41219d4832f158d0f09f"
          }
        },
        "232d4bb819874968a5da56d22c6c33ad": {
          "model_module": "@jupyter-widgets/controls",
          "model_name": "HTMLModel",
          "state": {
            "_view_name": "HTMLView",
            "style": "IPY_MODEL_fb75b2c05f714ec181cfc8220f39cfd5",
            "_dom_classes": [],
            "description": "",
            "_model_name": "HTMLModel",
            "placeholder": "​",
            "_view_module": "@jupyter-widgets/controls",
            "_model_module_version": "1.5.0",
            "value": " 78931/78931 [01:16&lt;00:00, 1027.36it/s]",
            "_view_count": null,
            "_view_module_version": "1.5.0",
            "description_tooltip": null,
            "_model_module": "@jupyter-widgets/controls",
            "layout": "IPY_MODEL_77071bb8994045ddabaeebd4b899e177"
          }
        },
        "fe83b96299b847d4acf96936f6e7b798": {
          "model_module": "@jupyter-widgets/controls",
          "model_name": "ProgressStyleModel",
          "state": {
            "_view_name": "StyleView",
            "_model_name": "ProgressStyleModel",
            "description_width": "initial",
            "_view_module": "@jupyter-widgets/base",
            "_model_module_version": "1.5.0",
            "_view_count": null,
            "_view_module_version": "1.2.0",
            "bar_color": null,
            "_model_module": "@jupyter-widgets/controls"
          }
        },
        "57dd3f50239b41219d4832f158d0f09f": {
          "model_module": "@jupyter-widgets/base",
          "model_name": "LayoutModel",
          "state": {
            "_view_name": "LayoutView",
            "grid_template_rows": null,
            "right": null,
            "justify_content": null,
            "_view_module": "@jupyter-widgets/base",
            "overflow": null,
            "_model_module_version": "1.2.0",
            "_view_count": null,
            "flex_flow": null,
            "width": null,
            "min_width": null,
            "border": null,
            "align_items": null,
            "bottom": null,
            "_model_module": "@jupyter-widgets/base",
            "top": null,
            "grid_column": null,
            "overflow_y": null,
            "overflow_x": null,
            "grid_auto_flow": null,
            "grid_area": null,
            "grid_template_columns": null,
            "flex": null,
            "_model_name": "LayoutModel",
            "justify_items": null,
            "grid_row": null,
            "max_height": null,
            "align_content": null,
            "visibility": null,
            "align_self": null,
            "height": null,
            "min_height": null,
            "padding": null,
            "grid_auto_rows": null,
            "grid_gap": null,
            "max_width": null,
            "order": null,
            "_view_module_version": "1.2.0",
            "grid_template_areas": null,
            "object_position": null,
            "object_fit": null,
            "grid_auto_columns": null,
            "margin": null,
            "display": null,
            "left": null
          }
        },
        "fb75b2c05f714ec181cfc8220f39cfd5": {
          "model_module": "@jupyter-widgets/controls",
          "model_name": "DescriptionStyleModel",
          "state": {
            "_view_name": "StyleView",
            "_model_name": "DescriptionStyleModel",
            "description_width": "",
            "_view_module": "@jupyter-widgets/base",
            "_model_module_version": "1.5.0",
            "_view_count": null,
            "_view_module_version": "1.2.0",
            "_model_module": "@jupyter-widgets/controls"
          }
        },
        "77071bb8994045ddabaeebd4b899e177": {
          "model_module": "@jupyter-widgets/base",
          "model_name": "LayoutModel",
          "state": {
            "_view_name": "LayoutView",
            "grid_template_rows": null,
            "right": null,
            "justify_content": null,
            "_view_module": "@jupyter-widgets/base",
            "overflow": null,
            "_model_module_version": "1.2.0",
            "_view_count": null,
            "flex_flow": null,
            "width": null,
            "min_width": null,
            "border": null,
            "align_items": null,
            "bottom": null,
            "_model_module": "@jupyter-widgets/base",
            "top": null,
            "grid_column": null,
            "overflow_y": null,
            "overflow_x": null,
            "grid_auto_flow": null,
            "grid_area": null,
            "grid_template_columns": null,
            "flex": null,
            "_model_name": "LayoutModel",
            "justify_items": null,
            "grid_row": null,
            "max_height": null,
            "align_content": null,
            "visibility": null,
            "align_self": null,
            "height": null,
            "min_height": null,
            "padding": null,
            "grid_auto_rows": null,
            "grid_gap": null,
            "max_width": null,
            "order": null,
            "_view_module_version": "1.2.0",
            "grid_template_areas": null,
            "object_position": null,
            "object_fit": null,
            "grid_auto_columns": null,
            "margin": null,
            "display": null,
            "left": null
          }
        },
        "d30718a2ec8349398a7d2ebc98f71c35": {
          "model_module": "@jupyter-widgets/controls",
          "model_name": "HBoxModel",
          "state": {
            "_view_name": "HBoxView",
            "_dom_classes": [],
            "_model_name": "HBoxModel",
            "_view_module": "@jupyter-widgets/controls",
            "_model_module_version": "1.5.0",
            "_view_count": null,
            "_view_module_version": "1.5.0",
            "box_style": "",
            "layout": "IPY_MODEL_c5d96ad90aca4ff799ab1f619c010465",
            "_model_module": "@jupyter-widgets/controls",
            "children": [
              "IPY_MODEL_999a53792d6a40459b7ee533d3c63270",
              "IPY_MODEL_8cfa355af92d4c38b4e4c3b37bef2859"
            ]
          }
        },
        "c5d96ad90aca4ff799ab1f619c010465": {
          "model_module": "@jupyter-widgets/base",
          "model_name": "LayoutModel",
          "state": {
            "_view_name": "LayoutView",
            "grid_template_rows": null,
            "right": null,
            "justify_content": null,
            "_view_module": "@jupyter-widgets/base",
            "overflow": null,
            "_model_module_version": "1.2.0",
            "_view_count": null,
            "flex_flow": null,
            "width": null,
            "min_width": null,
            "border": null,
            "align_items": null,
            "bottom": null,
            "_model_module": "@jupyter-widgets/base",
            "top": null,
            "grid_column": null,
            "overflow_y": null,
            "overflow_x": null,
            "grid_auto_flow": null,
            "grid_area": null,
            "grid_template_columns": null,
            "flex": null,
            "_model_name": "LayoutModel",
            "justify_items": null,
            "grid_row": null,
            "max_height": null,
            "align_content": null,
            "visibility": null,
            "align_self": null,
            "height": null,
            "min_height": null,
            "padding": null,
            "grid_auto_rows": null,
            "grid_gap": null,
            "max_width": null,
            "order": null,
            "_view_module_version": "1.2.0",
            "grid_template_areas": null,
            "object_position": null,
            "object_fit": null,
            "grid_auto_columns": null,
            "margin": null,
            "display": null,
            "left": null
          }
        },
        "999a53792d6a40459b7ee533d3c63270": {
          "model_module": "@jupyter-widgets/controls",
          "model_name": "FloatProgressModel",
          "state": {
            "_view_name": "ProgressView",
            "style": "IPY_MODEL_7b881314ee1e45efae6d6acb856bb34c",
            "_dom_classes": [],
            "description": "100%",
            "_model_name": "FloatProgressModel",
            "bar_style": "success",
            "max": 7150,
            "_view_module": "@jupyter-widgets/controls",
            "_model_module_version": "1.5.0",
            "value": 7150,
            "_view_count": null,
            "_view_module_version": "1.5.0",
            "orientation": "horizontal",
            "min": 0,
            "description_tooltip": null,
            "_model_module": "@jupyter-widgets/controls",
            "layout": "IPY_MODEL_bedbb31afff1490d98581ebfec0c1844"
          }
        },
        "8cfa355af92d4c38b4e4c3b37bef2859": {
          "model_module": "@jupyter-widgets/controls",
          "model_name": "HTMLModel",
          "state": {
            "_view_name": "HTMLView",
            "style": "IPY_MODEL_c675070562424a76b7854a559539060a",
            "_dom_classes": [],
            "description": "",
            "_model_name": "HTMLModel",
            "placeholder": "​",
            "_view_module": "@jupyter-widgets/controls",
            "_model_module_version": "1.5.0",
            "value": " 7150/7150 [00:57&lt;00:00, 125.12it/s]",
            "_view_count": null,
            "_view_module_version": "1.5.0",
            "description_tooltip": null,
            "_model_module": "@jupyter-widgets/controls",
            "layout": "IPY_MODEL_b0191e1d152d4408ad67faf13f7470fa"
          }
        },
        "7b881314ee1e45efae6d6acb856bb34c": {
          "model_module": "@jupyter-widgets/controls",
          "model_name": "ProgressStyleModel",
          "state": {
            "_view_name": "StyleView",
            "_model_name": "ProgressStyleModel",
            "description_width": "initial",
            "_view_module": "@jupyter-widgets/base",
            "_model_module_version": "1.5.0",
            "_view_count": null,
            "_view_module_version": "1.2.0",
            "bar_color": null,
            "_model_module": "@jupyter-widgets/controls"
          }
        },
        "bedbb31afff1490d98581ebfec0c1844": {
          "model_module": "@jupyter-widgets/base",
          "model_name": "LayoutModel",
          "state": {
            "_view_name": "LayoutView",
            "grid_template_rows": null,
            "right": null,
            "justify_content": null,
            "_view_module": "@jupyter-widgets/base",
            "overflow": null,
            "_model_module_version": "1.2.0",
            "_view_count": null,
            "flex_flow": null,
            "width": null,
            "min_width": null,
            "border": null,
            "align_items": null,
            "bottom": null,
            "_model_module": "@jupyter-widgets/base",
            "top": null,
            "grid_column": null,
            "overflow_y": null,
            "overflow_x": null,
            "grid_auto_flow": null,
            "grid_area": null,
            "grid_template_columns": null,
            "flex": null,
            "_model_name": "LayoutModel",
            "justify_items": null,
            "grid_row": null,
            "max_height": null,
            "align_content": null,
            "visibility": null,
            "align_self": null,
            "height": null,
            "min_height": null,
            "padding": null,
            "grid_auto_rows": null,
            "grid_gap": null,
            "max_width": null,
            "order": null,
            "_view_module_version": "1.2.0",
            "grid_template_areas": null,
            "object_position": null,
            "object_fit": null,
            "grid_auto_columns": null,
            "margin": null,
            "display": null,
            "left": null
          }
        },
        "c675070562424a76b7854a559539060a": {
          "model_module": "@jupyter-widgets/controls",
          "model_name": "DescriptionStyleModel",
          "state": {
            "_view_name": "StyleView",
            "_model_name": "DescriptionStyleModel",
            "description_width": "",
            "_view_module": "@jupyter-widgets/base",
            "_model_module_version": "1.5.0",
            "_view_count": null,
            "_view_module_version": "1.2.0",
            "_model_module": "@jupyter-widgets/controls"
          }
        },
        "b0191e1d152d4408ad67faf13f7470fa": {
          "model_module": "@jupyter-widgets/base",
          "model_name": "LayoutModel",
          "state": {
            "_view_name": "LayoutView",
            "grid_template_rows": null,
            "right": null,
            "justify_content": null,
            "_view_module": "@jupyter-widgets/base",
            "overflow": null,
            "_model_module_version": "1.2.0",
            "_view_count": null,
            "flex_flow": null,
            "width": null,
            "min_width": null,
            "border": null,
            "align_items": null,
            "bottom": null,
            "_model_module": "@jupyter-widgets/base",
            "top": null,
            "grid_column": null,
            "overflow_y": null,
            "overflow_x": null,
            "grid_auto_flow": null,
            "grid_area": null,
            "grid_template_columns": null,
            "flex": null,
            "_model_name": "LayoutModel",
            "justify_items": null,
            "grid_row": null,
            "max_height": null,
            "align_content": null,
            "visibility": null,
            "align_self": null,
            "height": null,
            "min_height": null,
            "padding": null,
            "grid_auto_rows": null,
            "grid_gap": null,
            "max_width": null,
            "order": null,
            "_view_module_version": "1.2.0",
            "grid_template_areas": null,
            "object_position": null,
            "object_fit": null,
            "grid_auto_columns": null,
            "margin": null,
            "display": null,
            "left": null
          }
        },
        "7031626123414c77b3ac279d08719f13": {
          "model_module": "@jupyter-widgets/controls",
          "model_name": "HBoxModel",
          "state": {
            "_view_name": "HBoxView",
            "_dom_classes": [],
            "_model_name": "HBoxModel",
            "_view_module": "@jupyter-widgets/controls",
            "_model_module_version": "1.5.0",
            "_view_count": null,
            "_view_module_version": "1.5.0",
            "box_style": "",
            "layout": "IPY_MODEL_628c2f58470a454597ac891a452ace04",
            "_model_module": "@jupyter-widgets/controls",
            "children": [
              "IPY_MODEL_a2a427798a2f4118be6e914cced92bb5",
              "IPY_MODEL_7dbd166a22f647658162a7aea3bb7fcc"
            ]
          }
        },
        "628c2f58470a454597ac891a452ace04": {
          "model_module": "@jupyter-widgets/base",
          "model_name": "LayoutModel",
          "state": {
            "_view_name": "LayoutView",
            "grid_template_rows": null,
            "right": null,
            "justify_content": null,
            "_view_module": "@jupyter-widgets/base",
            "overflow": null,
            "_model_module_version": "1.2.0",
            "_view_count": null,
            "flex_flow": null,
            "width": null,
            "min_width": null,
            "border": null,
            "align_items": null,
            "bottom": null,
            "_model_module": "@jupyter-widgets/base",
            "top": null,
            "grid_column": null,
            "overflow_y": null,
            "overflow_x": null,
            "grid_auto_flow": null,
            "grid_area": null,
            "grid_template_columns": null,
            "flex": null,
            "_model_name": "LayoutModel",
            "justify_items": null,
            "grid_row": null,
            "max_height": null,
            "align_content": null,
            "visibility": null,
            "align_self": null,
            "height": null,
            "min_height": null,
            "padding": null,
            "grid_auto_rows": null,
            "grid_gap": null,
            "max_width": null,
            "order": null,
            "_view_module_version": "1.2.0",
            "grid_template_areas": null,
            "object_position": null,
            "object_fit": null,
            "grid_auto_columns": null,
            "margin": null,
            "display": null,
            "left": null
          }
        },
        "a2a427798a2f4118be6e914cced92bb5": {
          "model_module": "@jupyter-widgets/controls",
          "model_name": "FloatProgressModel",
          "state": {
            "_view_name": "ProgressView",
            "style": "IPY_MODEL_4cdafe717b354d79880a1d115697dd76",
            "_dom_classes": [],
            "description": "100%",
            "_model_name": "FloatProgressModel",
            "bar_style": "success",
            "max": 7150,
            "_view_module": "@jupyter-widgets/controls",
            "_model_module_version": "1.5.0",
            "value": 7150,
            "_view_count": null,
            "_view_module_version": "1.5.0",
            "orientation": "horizontal",
            "min": 0,
            "description_tooltip": null,
            "_model_module": "@jupyter-widgets/controls",
            "layout": "IPY_MODEL_ddc42867ff6c435eb0eed7bb34d54092"
          }
        },
        "7dbd166a22f647658162a7aea3bb7fcc": {
          "model_module": "@jupyter-widgets/controls",
          "model_name": "HTMLModel",
          "state": {
            "_view_name": "HTMLView",
            "style": "IPY_MODEL_be2b5caa66994af197143083ce2ff9b5",
            "_dom_classes": [],
            "description": "",
            "_model_name": "HTMLModel",
            "placeholder": "​",
            "_view_module": "@jupyter-widgets/controls",
            "_model_module_version": "1.5.0",
            "value": " 7150/7150 [20:21&lt;00:00,  5.85it/s]",
            "_view_count": null,
            "_view_module_version": "1.5.0",
            "description_tooltip": null,
            "_model_module": "@jupyter-widgets/controls",
            "layout": "IPY_MODEL_088b41d4a06545af82c459d2efd315ee"
          }
        },
        "4cdafe717b354d79880a1d115697dd76": {
          "model_module": "@jupyter-widgets/controls",
          "model_name": "ProgressStyleModel",
          "state": {
            "_view_name": "StyleView",
            "_model_name": "ProgressStyleModel",
            "description_width": "initial",
            "_view_module": "@jupyter-widgets/base",
            "_model_module_version": "1.5.0",
            "_view_count": null,
            "_view_module_version": "1.2.0",
            "bar_color": null,
            "_model_module": "@jupyter-widgets/controls"
          }
        },
        "ddc42867ff6c435eb0eed7bb34d54092": {
          "model_module": "@jupyter-widgets/base",
          "model_name": "LayoutModel",
          "state": {
            "_view_name": "LayoutView",
            "grid_template_rows": null,
            "right": null,
            "justify_content": null,
            "_view_module": "@jupyter-widgets/base",
            "overflow": null,
            "_model_module_version": "1.2.0",
            "_view_count": null,
            "flex_flow": null,
            "width": null,
            "min_width": null,
            "border": null,
            "align_items": null,
            "bottom": null,
            "_model_module": "@jupyter-widgets/base",
            "top": null,
            "grid_column": null,
            "overflow_y": null,
            "overflow_x": null,
            "grid_auto_flow": null,
            "grid_area": null,
            "grid_template_columns": null,
            "flex": null,
            "_model_name": "LayoutModel",
            "justify_items": null,
            "grid_row": null,
            "max_height": null,
            "align_content": null,
            "visibility": null,
            "align_self": null,
            "height": null,
            "min_height": null,
            "padding": null,
            "grid_auto_rows": null,
            "grid_gap": null,
            "max_width": null,
            "order": null,
            "_view_module_version": "1.2.0",
            "grid_template_areas": null,
            "object_position": null,
            "object_fit": null,
            "grid_auto_columns": null,
            "margin": null,
            "display": null,
            "left": null
          }
        },
        "be2b5caa66994af197143083ce2ff9b5": {
          "model_module": "@jupyter-widgets/controls",
          "model_name": "DescriptionStyleModel",
          "state": {
            "_view_name": "StyleView",
            "_model_name": "DescriptionStyleModel",
            "description_width": "",
            "_view_module": "@jupyter-widgets/base",
            "_model_module_version": "1.5.0",
            "_view_count": null,
            "_view_module_version": "1.2.0",
            "_model_module": "@jupyter-widgets/controls"
          }
        },
        "088b41d4a06545af82c459d2efd315ee": {
          "model_module": "@jupyter-widgets/base",
          "model_name": "LayoutModel",
          "state": {
            "_view_name": "LayoutView",
            "grid_template_rows": null,
            "right": null,
            "justify_content": null,
            "_view_module": "@jupyter-widgets/base",
            "overflow": null,
            "_model_module_version": "1.2.0",
            "_view_count": null,
            "flex_flow": null,
            "width": null,
            "min_width": null,
            "border": null,
            "align_items": null,
            "bottom": null,
            "_model_module": "@jupyter-widgets/base",
            "top": null,
            "grid_column": null,
            "overflow_y": null,
            "overflow_x": null,
            "grid_auto_flow": null,
            "grid_area": null,
            "grid_template_columns": null,
            "flex": null,
            "_model_name": "LayoutModel",
            "justify_items": null,
            "grid_row": null,
            "max_height": null,
            "align_content": null,
            "visibility": null,
            "align_self": null,
            "height": null,
            "min_height": null,
            "padding": null,
            "grid_auto_rows": null,
            "grid_gap": null,
            "max_width": null,
            "order": null,
            "_view_module_version": "1.2.0",
            "grid_template_areas": null,
            "object_position": null,
            "object_fit": null,
            "grid_auto_columns": null,
            "margin": null,
            "display": null,
            "left": null
          }
        },
        "131ad2ef68c741b0ab0bd26388d2dfb0": {
          "model_module": "@jupyter-widgets/controls",
          "model_name": "HBoxModel",
          "state": {
            "_view_name": "HBoxView",
            "_dom_classes": [],
            "_model_name": "HBoxModel",
            "_view_module": "@jupyter-widgets/controls",
            "_model_module_version": "1.5.0",
            "_view_count": null,
            "_view_module_version": "1.5.0",
            "box_style": "",
            "layout": "IPY_MODEL_bd8f9bde388d4700b53c186784c28aa8",
            "_model_module": "@jupyter-widgets/controls",
            "children": [
              "IPY_MODEL_e1458cc0dae84999881e4e6725c14277",
              "IPY_MODEL_a80a2b2b9a1a4101b596419710010b57"
            ]
          }
        },
        "bd8f9bde388d4700b53c186784c28aa8": {
          "model_module": "@jupyter-widgets/base",
          "model_name": "LayoutModel",
          "state": {
            "_view_name": "LayoutView",
            "grid_template_rows": null,
            "right": null,
            "justify_content": null,
            "_view_module": "@jupyter-widgets/base",
            "overflow": null,
            "_model_module_version": "1.2.0",
            "_view_count": null,
            "flex_flow": null,
            "width": null,
            "min_width": null,
            "border": null,
            "align_items": null,
            "bottom": null,
            "_model_module": "@jupyter-widgets/base",
            "top": null,
            "grid_column": null,
            "overflow_y": null,
            "overflow_x": null,
            "grid_auto_flow": null,
            "grid_area": null,
            "grid_template_columns": null,
            "flex": null,
            "_model_name": "LayoutModel",
            "justify_items": null,
            "grid_row": null,
            "max_height": null,
            "align_content": null,
            "visibility": null,
            "align_self": null,
            "height": null,
            "min_height": null,
            "padding": null,
            "grid_auto_rows": null,
            "grid_gap": null,
            "max_width": null,
            "order": null,
            "_view_module_version": "1.2.0",
            "grid_template_areas": null,
            "object_position": null,
            "object_fit": null,
            "grid_auto_columns": null,
            "margin": null,
            "display": null,
            "left": null
          }
        },
        "e1458cc0dae84999881e4e6725c14277": {
          "model_module": "@jupyter-widgets/controls",
          "model_name": "FloatProgressModel",
          "state": {
            "_view_name": "ProgressView",
            "style": "IPY_MODEL_81c3b36798e74e8497de117b20e89c59",
            "_dom_classes": [],
            "description": "100%",
            "_model_name": "FloatProgressModel",
            "bar_style": "success",
            "max": 7150,
            "_view_module": "@jupyter-widgets/controls",
            "_model_module_version": "1.5.0",
            "value": 7150,
            "_view_count": null,
            "_view_module_version": "1.5.0",
            "orientation": "horizontal",
            "min": 0,
            "description_tooltip": null,
            "_model_module": "@jupyter-widgets/controls",
            "layout": "IPY_MODEL_13e6da3d6b79494589c1518f3067e3e1"
          }
        },
        "a80a2b2b9a1a4101b596419710010b57": {
          "model_module": "@jupyter-widgets/controls",
          "model_name": "HTMLModel",
          "state": {
            "_view_name": "HTMLView",
            "style": "IPY_MODEL_64ba8137b3c640038a2049aacb63c087",
            "_dom_classes": [],
            "description": "",
            "_model_name": "HTMLModel",
            "placeholder": "​",
            "_view_module": "@jupyter-widgets/controls",
            "_model_module_version": "1.5.0",
            "value": " 7150/7150 [06:47&lt;00:00, 17.54it/s]",
            "_view_count": null,
            "_view_module_version": "1.5.0",
            "description_tooltip": null,
            "_model_module": "@jupyter-widgets/controls",
            "layout": "IPY_MODEL_4941397425b24f3aad6189e973becd78"
          }
        },
        "81c3b36798e74e8497de117b20e89c59": {
          "model_module": "@jupyter-widgets/controls",
          "model_name": "ProgressStyleModel",
          "state": {
            "_view_name": "StyleView",
            "_model_name": "ProgressStyleModel",
            "description_width": "initial",
            "_view_module": "@jupyter-widgets/base",
            "_model_module_version": "1.5.0",
            "_view_count": null,
            "_view_module_version": "1.2.0",
            "bar_color": null,
            "_model_module": "@jupyter-widgets/controls"
          }
        },
        "13e6da3d6b79494589c1518f3067e3e1": {
          "model_module": "@jupyter-widgets/base",
          "model_name": "LayoutModel",
          "state": {
            "_view_name": "LayoutView",
            "grid_template_rows": null,
            "right": null,
            "justify_content": null,
            "_view_module": "@jupyter-widgets/base",
            "overflow": null,
            "_model_module_version": "1.2.0",
            "_view_count": null,
            "flex_flow": null,
            "width": null,
            "min_width": null,
            "border": null,
            "align_items": null,
            "bottom": null,
            "_model_module": "@jupyter-widgets/base",
            "top": null,
            "grid_column": null,
            "overflow_y": null,
            "overflow_x": null,
            "grid_auto_flow": null,
            "grid_area": null,
            "grid_template_columns": null,
            "flex": null,
            "_model_name": "LayoutModel",
            "justify_items": null,
            "grid_row": null,
            "max_height": null,
            "align_content": null,
            "visibility": null,
            "align_self": null,
            "height": null,
            "min_height": null,
            "padding": null,
            "grid_auto_rows": null,
            "grid_gap": null,
            "max_width": null,
            "order": null,
            "_view_module_version": "1.2.0",
            "grid_template_areas": null,
            "object_position": null,
            "object_fit": null,
            "grid_auto_columns": null,
            "margin": null,
            "display": null,
            "left": null
          }
        },
        "64ba8137b3c640038a2049aacb63c087": {
          "model_module": "@jupyter-widgets/controls",
          "model_name": "DescriptionStyleModel",
          "state": {
            "_view_name": "StyleView",
            "_model_name": "DescriptionStyleModel",
            "description_width": "",
            "_view_module": "@jupyter-widgets/base",
            "_model_module_version": "1.5.0",
            "_view_count": null,
            "_view_module_version": "1.2.0",
            "_model_module": "@jupyter-widgets/controls"
          }
        },
        "4941397425b24f3aad6189e973becd78": {
          "model_module": "@jupyter-widgets/base",
          "model_name": "LayoutModel",
          "state": {
            "_view_name": "LayoutView",
            "grid_template_rows": null,
            "right": null,
            "justify_content": null,
            "_view_module": "@jupyter-widgets/base",
            "overflow": null,
            "_model_module_version": "1.2.0",
            "_view_count": null,
            "flex_flow": null,
            "width": null,
            "min_width": null,
            "border": null,
            "align_items": null,
            "bottom": null,
            "_model_module": "@jupyter-widgets/base",
            "top": null,
            "grid_column": null,
            "overflow_y": null,
            "overflow_x": null,
            "grid_auto_flow": null,
            "grid_area": null,
            "grid_template_columns": null,
            "flex": null,
            "_model_name": "LayoutModel",
            "justify_items": null,
            "grid_row": null,
            "max_height": null,
            "align_content": null,
            "visibility": null,
            "align_self": null,
            "height": null,
            "min_height": null,
            "padding": null,
            "grid_auto_rows": null,
            "grid_gap": null,
            "max_width": null,
            "order": null,
            "_view_module_version": "1.2.0",
            "grid_template_areas": null,
            "object_position": null,
            "object_fit": null,
            "grid_auto_columns": null,
            "margin": null,
            "display": null,
            "left": null
          }
        },
        "2fe3e55f72eb42cb8dbd280371a943a1": {
          "model_module": "@jupyter-widgets/controls",
          "model_name": "HBoxModel",
          "state": {
            "_view_name": "HBoxView",
            "_dom_classes": [],
            "_model_name": "HBoxModel",
            "_view_module": "@jupyter-widgets/controls",
            "_model_module_version": "1.5.0",
            "_view_count": null,
            "_view_module_version": "1.5.0",
            "box_style": "",
            "layout": "IPY_MODEL_8931e305b90640c6a211f7eee48ad876",
            "_model_module": "@jupyter-widgets/controls",
            "children": [
              "IPY_MODEL_7ff7bae6aac6459280124071d8fcd6c9",
              "IPY_MODEL_b72135012ba84d909681894c28ff128a"
            ]
          }
        },
        "8931e305b90640c6a211f7eee48ad876": {
          "model_module": "@jupyter-widgets/base",
          "model_name": "LayoutModel",
          "state": {
            "_view_name": "LayoutView",
            "grid_template_rows": null,
            "right": null,
            "justify_content": null,
            "_view_module": "@jupyter-widgets/base",
            "overflow": null,
            "_model_module_version": "1.2.0",
            "_view_count": null,
            "flex_flow": null,
            "width": null,
            "min_width": null,
            "border": null,
            "align_items": null,
            "bottom": null,
            "_model_module": "@jupyter-widgets/base",
            "top": null,
            "grid_column": null,
            "overflow_y": null,
            "overflow_x": null,
            "grid_auto_flow": null,
            "grid_area": null,
            "grid_template_columns": null,
            "flex": null,
            "_model_name": "LayoutModel",
            "justify_items": null,
            "grid_row": null,
            "max_height": null,
            "align_content": null,
            "visibility": null,
            "align_self": null,
            "height": null,
            "min_height": null,
            "padding": null,
            "grid_auto_rows": null,
            "grid_gap": null,
            "max_width": null,
            "order": null,
            "_view_module_version": "1.2.0",
            "grid_template_areas": null,
            "object_position": null,
            "object_fit": null,
            "grid_auto_columns": null,
            "margin": null,
            "display": null,
            "left": null
          }
        },
        "7ff7bae6aac6459280124071d8fcd6c9": {
          "model_module": "@jupyter-widgets/controls",
          "model_name": "FloatProgressModel",
          "state": {
            "_view_name": "ProgressView",
            "style": "IPY_MODEL_74f81ba31e4c498d925b228f84e87080",
            "_dom_classes": [],
            "description": "100%",
            "_model_name": "FloatProgressModel",
            "bar_style": "success",
            "max": 78930,
            "_view_module": "@jupyter-widgets/controls",
            "_model_module_version": "1.5.0",
            "value": 78930,
            "_view_count": null,
            "_view_module_version": "1.5.0",
            "orientation": "horizontal",
            "min": 0,
            "description_tooltip": null,
            "_model_module": "@jupyter-widgets/controls",
            "layout": "IPY_MODEL_ea64292e001849d99c78d27f8ba75fbc"
          }
        },
        "b72135012ba84d909681894c28ff128a": {
          "model_module": "@jupyter-widgets/controls",
          "model_name": "HTMLModel",
          "state": {
            "_view_name": "HTMLView",
            "style": "IPY_MODEL_393a1518816a4fd18f7c551dd93be4f6",
            "_dom_classes": [],
            "description": "",
            "_model_name": "HTMLModel",
            "placeholder": "​",
            "_view_module": "@jupyter-widgets/controls",
            "_model_module_version": "1.5.0",
            "value": " 78930/78930 [01:40&lt;00:00, 788.47it/s]",
            "_view_count": null,
            "_view_module_version": "1.5.0",
            "description_tooltip": null,
            "_model_module": "@jupyter-widgets/controls",
            "layout": "IPY_MODEL_479fe4a19db64fe6ab1714d672054912"
          }
        },
        "74f81ba31e4c498d925b228f84e87080": {
          "model_module": "@jupyter-widgets/controls",
          "model_name": "ProgressStyleModel",
          "state": {
            "_view_name": "StyleView",
            "_model_name": "ProgressStyleModel",
            "description_width": "initial",
            "_view_module": "@jupyter-widgets/base",
            "_model_module_version": "1.5.0",
            "_view_count": null,
            "_view_module_version": "1.2.0",
            "bar_color": null,
            "_model_module": "@jupyter-widgets/controls"
          }
        },
        "ea64292e001849d99c78d27f8ba75fbc": {
          "model_module": "@jupyter-widgets/base",
          "model_name": "LayoutModel",
          "state": {
            "_view_name": "LayoutView",
            "grid_template_rows": null,
            "right": null,
            "justify_content": null,
            "_view_module": "@jupyter-widgets/base",
            "overflow": null,
            "_model_module_version": "1.2.0",
            "_view_count": null,
            "flex_flow": null,
            "width": null,
            "min_width": null,
            "border": null,
            "align_items": null,
            "bottom": null,
            "_model_module": "@jupyter-widgets/base",
            "top": null,
            "grid_column": null,
            "overflow_y": null,
            "overflow_x": null,
            "grid_auto_flow": null,
            "grid_area": null,
            "grid_template_columns": null,
            "flex": null,
            "_model_name": "LayoutModel",
            "justify_items": null,
            "grid_row": null,
            "max_height": null,
            "align_content": null,
            "visibility": null,
            "align_self": null,
            "height": null,
            "min_height": null,
            "padding": null,
            "grid_auto_rows": null,
            "grid_gap": null,
            "max_width": null,
            "order": null,
            "_view_module_version": "1.2.0",
            "grid_template_areas": null,
            "object_position": null,
            "object_fit": null,
            "grid_auto_columns": null,
            "margin": null,
            "display": null,
            "left": null
          }
        },
        "393a1518816a4fd18f7c551dd93be4f6": {
          "model_module": "@jupyter-widgets/controls",
          "model_name": "DescriptionStyleModel",
          "state": {
            "_view_name": "StyleView",
            "_model_name": "DescriptionStyleModel",
            "description_width": "",
            "_view_module": "@jupyter-widgets/base",
            "_model_module_version": "1.5.0",
            "_view_count": null,
            "_view_module_version": "1.2.0",
            "_model_module": "@jupyter-widgets/controls"
          }
        },
        "479fe4a19db64fe6ab1714d672054912": {
          "model_module": "@jupyter-widgets/base",
          "model_name": "LayoutModel",
          "state": {
            "_view_name": "LayoutView",
            "grid_template_rows": null,
            "right": null,
            "justify_content": null,
            "_view_module": "@jupyter-widgets/base",
            "overflow": null,
            "_model_module_version": "1.2.0",
            "_view_count": null,
            "flex_flow": null,
            "width": null,
            "min_width": null,
            "border": null,
            "align_items": null,
            "bottom": null,
            "_model_module": "@jupyter-widgets/base",
            "top": null,
            "grid_column": null,
            "overflow_y": null,
            "overflow_x": null,
            "grid_auto_flow": null,
            "grid_area": null,
            "grid_template_columns": null,
            "flex": null,
            "_model_name": "LayoutModel",
            "justify_items": null,
            "grid_row": null,
            "max_height": null,
            "align_content": null,
            "visibility": null,
            "align_self": null,
            "height": null,
            "min_height": null,
            "padding": null,
            "grid_auto_rows": null,
            "grid_gap": null,
            "max_width": null,
            "order": null,
            "_view_module_version": "1.2.0",
            "grid_template_areas": null,
            "object_position": null,
            "object_fit": null,
            "grid_auto_columns": null,
            "margin": null,
            "display": null,
            "left": null
          }
        },
        "4404b1eb1b894227a5e7276fedea8c05": {
          "model_module": "@jupyter-widgets/controls",
          "model_name": "HBoxModel",
          "state": {
            "_view_name": "HBoxView",
            "_dom_classes": [],
            "_model_name": "HBoxModel",
            "_view_module": "@jupyter-widgets/controls",
            "_model_module_version": "1.5.0",
            "_view_count": null,
            "_view_module_version": "1.5.0",
            "box_style": "",
            "layout": "IPY_MODEL_35d26f0ce7a24b1a83a9d44009226214",
            "_model_module": "@jupyter-widgets/controls",
            "children": [
              "IPY_MODEL_07a4391a0d80437d9488fd3c94f009cd",
              "IPY_MODEL_57531aae5fe743e4a59a625cdcbb325b"
            ]
          }
        },
        "35d26f0ce7a24b1a83a9d44009226214": {
          "model_module": "@jupyter-widgets/base",
          "model_name": "LayoutModel",
          "state": {
            "_view_name": "LayoutView",
            "grid_template_rows": null,
            "right": null,
            "justify_content": null,
            "_view_module": "@jupyter-widgets/base",
            "overflow": null,
            "_model_module_version": "1.2.0",
            "_view_count": null,
            "flex_flow": null,
            "width": null,
            "min_width": null,
            "border": null,
            "align_items": null,
            "bottom": null,
            "_model_module": "@jupyter-widgets/base",
            "top": null,
            "grid_column": null,
            "overflow_y": null,
            "overflow_x": null,
            "grid_auto_flow": null,
            "grid_area": null,
            "grid_template_columns": null,
            "flex": null,
            "_model_name": "LayoutModel",
            "justify_items": null,
            "grid_row": null,
            "max_height": null,
            "align_content": null,
            "visibility": null,
            "align_self": null,
            "height": null,
            "min_height": null,
            "padding": null,
            "grid_auto_rows": null,
            "grid_gap": null,
            "max_width": null,
            "order": null,
            "_view_module_version": "1.2.0",
            "grid_template_areas": null,
            "object_position": null,
            "object_fit": null,
            "grid_auto_columns": null,
            "margin": null,
            "display": null,
            "left": null
          }
        },
        "07a4391a0d80437d9488fd3c94f009cd": {
          "model_module": "@jupyter-widgets/controls",
          "model_name": "FloatProgressModel",
          "state": {
            "_view_name": "ProgressView",
            "style": "IPY_MODEL_0bc12cb2ff6548909764076a88811deb",
            "_dom_classes": [],
            "description": "",
            "_model_name": "FloatProgressModel",
            "bar_style": "success",
            "max": 1,
            "_view_module": "@jupyter-widgets/controls",
            "_model_module_version": "1.5.0",
            "value": 1,
            "_view_count": null,
            "_view_module_version": "1.5.0",
            "orientation": "horizontal",
            "min": 0,
            "description_tooltip": null,
            "_model_module": "@jupyter-widgets/controls",
            "layout": "IPY_MODEL_a3555553b9da45009e6b843247d218c5"
          }
        },
        "57531aae5fe743e4a59a625cdcbb325b": {
          "model_module": "@jupyter-widgets/controls",
          "model_name": "HTMLModel",
          "state": {
            "_view_name": "HTMLView",
            "style": "IPY_MODEL_fe51972c4ee04b07aa4b8cf7f79eea0a",
            "_dom_classes": [],
            "description": "",
            "_model_name": "HTMLModel",
            "placeholder": "​",
            "_view_module": "@jupyter-widgets/controls",
            "_model_module_version": "1.5.0",
            "value": " 78930/? [00:02&lt;00:00, 31071.82it/s]",
            "_view_count": null,
            "_view_module_version": "1.5.0",
            "description_tooltip": null,
            "_model_module": "@jupyter-widgets/controls",
            "layout": "IPY_MODEL_de3cb4fda8c84fcda486c3300873adb4"
          }
        },
        "0bc12cb2ff6548909764076a88811deb": {
          "model_module": "@jupyter-widgets/controls",
          "model_name": "ProgressStyleModel",
          "state": {
            "_view_name": "StyleView",
            "_model_name": "ProgressStyleModel",
            "description_width": "initial",
            "_view_module": "@jupyter-widgets/base",
            "_model_module_version": "1.5.0",
            "_view_count": null,
            "_view_module_version": "1.2.0",
            "bar_color": null,
            "_model_module": "@jupyter-widgets/controls"
          }
        },
        "a3555553b9da45009e6b843247d218c5": {
          "model_module": "@jupyter-widgets/base",
          "model_name": "LayoutModel",
          "state": {
            "_view_name": "LayoutView",
            "grid_template_rows": null,
            "right": null,
            "justify_content": null,
            "_view_module": "@jupyter-widgets/base",
            "overflow": null,
            "_model_module_version": "1.2.0",
            "_view_count": null,
            "flex_flow": null,
            "width": null,
            "min_width": null,
            "border": null,
            "align_items": null,
            "bottom": null,
            "_model_module": "@jupyter-widgets/base",
            "top": null,
            "grid_column": null,
            "overflow_y": null,
            "overflow_x": null,
            "grid_auto_flow": null,
            "grid_area": null,
            "grid_template_columns": null,
            "flex": null,
            "_model_name": "LayoutModel",
            "justify_items": null,
            "grid_row": null,
            "max_height": null,
            "align_content": null,
            "visibility": null,
            "align_self": null,
            "height": null,
            "min_height": null,
            "padding": null,
            "grid_auto_rows": null,
            "grid_gap": null,
            "max_width": null,
            "order": null,
            "_view_module_version": "1.2.0",
            "grid_template_areas": null,
            "object_position": null,
            "object_fit": null,
            "grid_auto_columns": null,
            "margin": null,
            "display": null,
            "left": null
          }
        },
        "fe51972c4ee04b07aa4b8cf7f79eea0a": {
          "model_module": "@jupyter-widgets/controls",
          "model_name": "DescriptionStyleModel",
          "state": {
            "_view_name": "StyleView",
            "_model_name": "DescriptionStyleModel",
            "description_width": "",
            "_view_module": "@jupyter-widgets/base",
            "_model_module_version": "1.5.0",
            "_view_count": null,
            "_view_module_version": "1.2.0",
            "_model_module": "@jupyter-widgets/controls"
          }
        },
        "de3cb4fda8c84fcda486c3300873adb4": {
          "model_module": "@jupyter-widgets/base",
          "model_name": "LayoutModel",
          "state": {
            "_view_name": "LayoutView",
            "grid_template_rows": null,
            "right": null,
            "justify_content": null,
            "_view_module": "@jupyter-widgets/base",
            "overflow": null,
            "_model_module_version": "1.2.0",
            "_view_count": null,
            "flex_flow": null,
            "width": null,
            "min_width": null,
            "border": null,
            "align_items": null,
            "bottom": null,
            "_model_module": "@jupyter-widgets/base",
            "top": null,
            "grid_column": null,
            "overflow_y": null,
            "overflow_x": null,
            "grid_auto_flow": null,
            "grid_area": null,
            "grid_template_columns": null,
            "flex": null,
            "_model_name": "LayoutModel",
            "justify_items": null,
            "grid_row": null,
            "max_height": null,
            "align_content": null,
            "visibility": null,
            "align_self": null,
            "height": null,
            "min_height": null,
            "padding": null,
            "grid_auto_rows": null,
            "grid_gap": null,
            "max_width": null,
            "order": null,
            "_view_module_version": "1.2.0",
            "grid_template_areas": null,
            "object_position": null,
            "object_fit": null,
            "grid_auto_columns": null,
            "margin": null,
            "display": null,
            "left": null
          }
        },
        "3d03b60b2ef149f0adb87942266ef16a": {
          "model_module": "@jupyter-widgets/controls",
          "model_name": "HBoxModel",
          "state": {
            "_view_name": "HBoxView",
            "_dom_classes": [],
            "_model_name": "HBoxModel",
            "_view_module": "@jupyter-widgets/controls",
            "_model_module_version": "1.5.0",
            "_view_count": null,
            "_view_module_version": "1.5.0",
            "box_style": "",
            "layout": "IPY_MODEL_24a40bddccb84c3bb00ff6e8a2f45d62",
            "_model_module": "@jupyter-widgets/controls",
            "children": [
              "IPY_MODEL_fdb2a2e267b04118a8adb28bd6801280",
              "IPY_MODEL_6a76cf2a420e4ac4a486de3453c1de9b"
            ]
          }
        },
        "24a40bddccb84c3bb00ff6e8a2f45d62": {
          "model_module": "@jupyter-widgets/base",
          "model_name": "LayoutModel",
          "state": {
            "_view_name": "LayoutView",
            "grid_template_rows": null,
            "right": null,
            "justify_content": null,
            "_view_module": "@jupyter-widgets/base",
            "overflow": null,
            "_model_module_version": "1.2.0",
            "_view_count": null,
            "flex_flow": null,
            "width": null,
            "min_width": null,
            "border": null,
            "align_items": null,
            "bottom": null,
            "_model_module": "@jupyter-widgets/base",
            "top": null,
            "grid_column": null,
            "overflow_y": null,
            "overflow_x": null,
            "grid_auto_flow": null,
            "grid_area": null,
            "grid_template_columns": null,
            "flex": null,
            "_model_name": "LayoutModel",
            "justify_items": null,
            "grid_row": null,
            "max_height": null,
            "align_content": null,
            "visibility": null,
            "align_self": null,
            "height": null,
            "min_height": null,
            "padding": null,
            "grid_auto_rows": null,
            "grid_gap": null,
            "max_width": null,
            "order": null,
            "_view_module_version": "1.2.0",
            "grid_template_areas": null,
            "object_position": null,
            "object_fit": null,
            "grid_auto_columns": null,
            "margin": null,
            "display": null,
            "left": null
          }
        },
        "fdb2a2e267b04118a8adb28bd6801280": {
          "model_module": "@jupyter-widgets/controls",
          "model_name": "FloatProgressModel",
          "state": {
            "_view_name": "ProgressView",
            "style": "IPY_MODEL_34d3a69f72fa4deaa3985b712c78eedd",
            "_dom_classes": [],
            "description": "",
            "_model_name": "FloatProgressModel",
            "bar_style": "success",
            "max": 1,
            "_view_module": "@jupyter-widgets/controls",
            "_model_module_version": "1.5.0",
            "value": 1,
            "_view_count": null,
            "_view_module_version": "1.5.0",
            "orientation": "horizontal",
            "min": 0,
            "description_tooltip": null,
            "_model_module": "@jupyter-widgets/controls",
            "layout": "IPY_MODEL_958789c6b8ce42b198f3af2796274464"
          }
        },
        "6a76cf2a420e4ac4a486de3453c1de9b": {
          "model_module": "@jupyter-widgets/controls",
          "model_name": "HTMLModel",
          "state": {
            "_view_name": "HTMLView",
            "style": "IPY_MODEL_a7f1d849d3204d7ba76718dddb504b0e",
            "_dom_classes": [],
            "description": "",
            "_model_name": "HTMLModel",
            "placeholder": "​",
            "_view_module": "@jupyter-widgets/controls",
            "_model_module_version": "1.5.0",
            "value": " 78930/? [00:02&lt;00:00, 30539.24it/s]",
            "_view_count": null,
            "_view_module_version": "1.5.0",
            "description_tooltip": null,
            "_model_module": "@jupyter-widgets/controls",
            "layout": "IPY_MODEL_7b54689e606b4a4c96a5fe7c73884b8a"
          }
        },
        "34d3a69f72fa4deaa3985b712c78eedd": {
          "model_module": "@jupyter-widgets/controls",
          "model_name": "ProgressStyleModel",
          "state": {
            "_view_name": "StyleView",
            "_model_name": "ProgressStyleModel",
            "description_width": "initial",
            "_view_module": "@jupyter-widgets/base",
            "_model_module_version": "1.5.0",
            "_view_count": null,
            "_view_module_version": "1.2.0",
            "bar_color": null,
            "_model_module": "@jupyter-widgets/controls"
          }
        },
        "958789c6b8ce42b198f3af2796274464": {
          "model_module": "@jupyter-widgets/base",
          "model_name": "LayoutModel",
          "state": {
            "_view_name": "LayoutView",
            "grid_template_rows": null,
            "right": null,
            "justify_content": null,
            "_view_module": "@jupyter-widgets/base",
            "overflow": null,
            "_model_module_version": "1.2.0",
            "_view_count": null,
            "flex_flow": null,
            "width": null,
            "min_width": null,
            "border": null,
            "align_items": null,
            "bottom": null,
            "_model_module": "@jupyter-widgets/base",
            "top": null,
            "grid_column": null,
            "overflow_y": null,
            "overflow_x": null,
            "grid_auto_flow": null,
            "grid_area": null,
            "grid_template_columns": null,
            "flex": null,
            "_model_name": "LayoutModel",
            "justify_items": null,
            "grid_row": null,
            "max_height": null,
            "align_content": null,
            "visibility": null,
            "align_self": null,
            "height": null,
            "min_height": null,
            "padding": null,
            "grid_auto_rows": null,
            "grid_gap": null,
            "max_width": null,
            "order": null,
            "_view_module_version": "1.2.0",
            "grid_template_areas": null,
            "object_position": null,
            "object_fit": null,
            "grid_auto_columns": null,
            "margin": null,
            "display": null,
            "left": null
          }
        },
        "a7f1d849d3204d7ba76718dddb504b0e": {
          "model_module": "@jupyter-widgets/controls",
          "model_name": "DescriptionStyleModel",
          "state": {
            "_view_name": "StyleView",
            "_model_name": "DescriptionStyleModel",
            "description_width": "",
            "_view_module": "@jupyter-widgets/base",
            "_model_module_version": "1.5.0",
            "_view_count": null,
            "_view_module_version": "1.2.0",
            "_model_module": "@jupyter-widgets/controls"
          }
        },
        "7b54689e606b4a4c96a5fe7c73884b8a": {
          "model_module": "@jupyter-widgets/base",
          "model_name": "LayoutModel",
          "state": {
            "_view_name": "LayoutView",
            "grid_template_rows": null,
            "right": null,
            "justify_content": null,
            "_view_module": "@jupyter-widgets/base",
            "overflow": null,
            "_model_module_version": "1.2.0",
            "_view_count": null,
            "flex_flow": null,
            "width": null,
            "min_width": null,
            "border": null,
            "align_items": null,
            "bottom": null,
            "_model_module": "@jupyter-widgets/base",
            "top": null,
            "grid_column": null,
            "overflow_y": null,
            "overflow_x": null,
            "grid_auto_flow": null,
            "grid_area": null,
            "grid_template_columns": null,
            "flex": null,
            "_model_name": "LayoutModel",
            "justify_items": null,
            "grid_row": null,
            "max_height": null,
            "align_content": null,
            "visibility": null,
            "align_self": null,
            "height": null,
            "min_height": null,
            "padding": null,
            "grid_auto_rows": null,
            "grid_gap": null,
            "max_width": null,
            "order": null,
            "_view_module_version": "1.2.0",
            "grid_template_areas": null,
            "object_position": null,
            "object_fit": null,
            "grid_auto_columns": null,
            "margin": null,
            "display": null,
            "left": null
          }
        }
      }
    }
  },
  "cells": [
    {
      "cell_type": "markdown",
      "metadata": {
        "id": "TCMrE6a7--ZT"
      },
      "source": [
        "# Домашнее задание 2. Извлечение коллокаций + NER\n",
        "\n",
        "## Дедлайн\n",
        "23 ноября 2020 (понедельник) 23:59 мск\n",
        "\n",
        "## Описание\n",
        "\n",
        "Выберите корпус отзывов на товары одной из категорий Amazon:\n",
        "http://snap.stanford.edu/data/web-Amazon-links.html\n",
        "\n",
        "(В низу страницы по ссылке есть код для загрузки данных, можете им воспользоваться)\n",
        "\n",
        "Допустим, что вам нужно подготовить аналитический отчет по этим отзывам — например, для производителя нового продукта этой категории. Для этого будем искать упоминания товаров в отзывах (будем считать их NE). Учтите, что упоминание может выглядеть не только как \"Iphone 10\", но и как \"модель\", \"телефон\" и т.п.\n",
        "\n",
        "**Важное замечание**: в задании приводятся примеры решений, вы можете их использовать!\n",
        "\n",
        "1. (3 балла) Предложите 3 способа найти упоминания товаров в отзывах. \n",
        "Например, использовать bootstrapping: составить шаблоны вида \"холодильник XXX\", найти все соответствующие n-граммы и выделить из них называние товара.\n",
        "Могут помочь заголовки и дополнительные данные с Amazon (Metadata [здесь](https://nijianmo.github.io/amazon/index.html))\n",
        "Какие данные необходимы для каждого из способов? Какие есть достоинства/недостатки?\n",
        "\n",
        "2. (2 балла) Реализуйте один из предложенных вами способов.\n",
        "\n",
        "Примеры в качестве подсказки (можно использовать один из них): \n",
        "- написать правила с помощью [natasha/yargy](https://github.com/natasha/yargy)\n",
        "- составить мини-словарь сущностей/дескрипторов, расширить с помощью эмбеддингов (например, word2vec)\n",
        "\n",
        "3. (1 балл) Соберите n-граммы с полученными сущностями (NE + левый сосед / NE + правый сосед)\n",
        "\n",
        "4. (3 балла) Ранжируйте n-граммы с помощью 3 коллокационных метрик (t-score, PMI и т.д.). Не забудьте про частотный фильтр / сглаживание.\n",
        "Выберите лучший результат (какая метрика  ранжирует выше коллокации, подходящие для отчёта).\n",
        "\n",
        "5. (1 балл) Сгруппируйте полученные коллокации по NE, выведите примеры для 5 товаров.\n",
        "Должны получиться примерно такие группы:\n",
        "\n",
        "```\n",
        "watch \n",
        "---\n",
        "stylish watch\n",
        "good watches\n",
        "great watch\n",
        "love this watch\n",
        "...\n",
        "```\n",
        "\n",
        "**Бонус** (2 балла): \n",
        "если придумаете способ объединить синонимичные упоминания (например, \"Samsung Galaxy Watch\", \"watch\", \"smartwatch\")\n",
        "\n",
        "## Формат выполнения\n",
        "\n",
        "jupyter-ноутбук + укажите, какие данные брали — или положите их тоже в репозиторий."
      ]
    },
    {
      "cell_type": "markdown",
      "metadata": {
        "id": "4OBvEWSo32oY"
      },
      "source": [
        "[Корпус, который я брала](http://snap.stanford.edu/data/amazon/Cell_Phones_&_Accessories.txt.gz)"
      ]
    },
    {
      "cell_type": "code",
      "metadata": {
        "colab": {
          "base_uri": "https://localhost:8080/"
        },
        "id": "mFGsay4dBnCh",
        "outputId": "47ee6fdf-ce47-43f9-fbfa-6ca096226412"
      },
      "source": [
        "!pip install simplejson"
      ],
      "execution_count": null,
      "outputs": [
        {
          "output_type": "stream",
          "text": [
            "Collecting simplejson\n",
            "\u001b[?25l  Downloading https://files.pythonhosted.org/packages/73/96/1e6b19045375890068d7342cbe280dd64ae73fd90b9735b5efb8d1e044a1/simplejson-3.17.2-cp36-cp36m-manylinux2010_x86_64.whl (127kB)\n",
            "\r\u001b[K     |██▋                             | 10kB 16.8MB/s eta 0:00:01\r\u001b[K     |█████▏                          | 20kB 19.7MB/s eta 0:00:01\r\u001b[K     |███████▊                        | 30kB 10.6MB/s eta 0:00:01\r\u001b[K     |██████████▎                     | 40kB 8.5MB/s eta 0:00:01\r\u001b[K     |████████████▉                   | 51kB 4.3MB/s eta 0:00:01\r\u001b[K     |███████████████▍                | 61kB 4.4MB/s eta 0:00:01\r\u001b[K     |██████████████████              | 71kB 4.8MB/s eta 0:00:01\r\u001b[K     |████████████████████▌           | 81kB 5.0MB/s eta 0:00:01\r\u001b[K     |███████████████████████         | 92kB 5.4MB/s eta 0:00:01\r\u001b[K     |█████████████████████████▋      | 102kB 4.3MB/s eta 0:00:01\r\u001b[K     |████████████████████████████▏   | 112kB 4.3MB/s eta 0:00:01\r\u001b[K     |██████████████████████████████▊ | 122kB 4.3MB/s eta 0:00:01\r\u001b[K     |████████████████████████████████| 133kB 4.3MB/s \n",
            "\u001b[?25hInstalling collected packages: simplejson\n",
            "Successfully installed simplejson-3.17.2\n"
          ],
          "name": "stdout"
        }
      ]
    },
    {
      "cell_type": "code",
      "metadata": {
        "id": "0QL9UVdECOf0"
      },
      "source": [
        "from tqdm.auto import tqdm"
      ],
      "execution_count": null,
      "outputs": []
    },
    {
      "cell_type": "code",
      "metadata": {
        "id": "l97b-JQ8CWp3"
      },
      "source": [
        "import pandas as pd"
      ],
      "execution_count": null,
      "outputs": []
    },
    {
      "cell_type": "code",
      "metadata": {
        "id": "SSoY7RjABau6"
      },
      "source": [
        "import gzip\n",
        "import simplejson\n",
        "\n",
        "def parse(filename):\n",
        "    f = gzip.open(filename, 'rt')\n",
        "    entry = {}\n",
        "    for l in f:\n",
        "        l = l.strip()\n",
        "        colonPos = l.find(':')\n",
        "        if colonPos == -1:\n",
        "            yield entry\n",
        "            entry = {}\n",
        "          continue\n",
        "        eName = l[:colonPos]\n",
        "        rest = l[colonPos+2:]\n",
        "        entry[eName] = rest\n",
        "    yield entry\n",
        "\n",
        "\n",
        "all_data = []\n",
        "for e in parse(\"Cell_Phones_&_Accessories.txt.gz\"):\n",
        "    all_data.append(simplejson.dumps(e))"
      ],
      "execution_count": null,
      "outputs": []
    },
    {
      "cell_type": "code",
      "metadata": {
        "id": "fLBaeZlqZqMQ"
      },
      "source": [
        "data = []\n",
        "for el in all_data:\n",
        "    data.append(eval(el))"
      ],
      "execution_count": null,
      "outputs": []
    },
    {
      "cell_type": "code",
      "metadata": {
        "colab": {
          "base_uri": "https://localhost:8080/"
        },
        "id": "qeOZ-6zqaTce",
        "outputId": "d28b732f-414b-4abc-b6ea-87dc5dbfc369"
      },
      "source": [
        "type(data[0])"
      ],
      "execution_count": null,
      "outputs": [
        {
          "output_type": "execute_result",
          "data": {
            "text/plain": [
              "dict"
            ]
          },
          "metadata": {
            "tags": []
          },
          "execution_count": 5
        }
      ]
    },
    {
      "cell_type": "code",
      "metadata": {
        "colab": {
          "base_uri": "https://localhost:8080/"
        },
        "id": "HnjeYBhhaav8",
        "outputId": "92c987bf-5144-4698-c295-b819f4f0662b"
      },
      "source": [
        "data[0]"
      ],
      "execution_count": null,
      "outputs": [
        {
          "output_type": "execute_result",
          "data": {
            "text/plain": [
              "{'product/price': 'unknown',\n",
              " 'product/productId': 'B000JVER7W',\n",
              " 'product/title': 'Mobile Action MA730 Handset Manager - Bluetooth Data Suite',\n",
              " 'review/helpfulness': '0/0',\n",
              " 'review/profileName': 'A. Igoe',\n",
              " 'review/score': '1.0',\n",
              " 'review/summary': \"Don't buy!\",\n",
              " 'review/text': \"First of all, the company took my money and sent me an email telling me the product was shipped. A week and a half later I received another email telling me that they are sorry, but they don't actually have any of these items, and if I received an email telling me it has shipped, it was a mistake.When I finally got my money back, I went through another company to buy the product and it won't work with my phone, even though it depicts that it will. I have sent numerous emails to the company - I can't actually find a phone number on their website - and I still have not gotten any kind of response. What kind of customer service is that? No one will help me with this problem. My advice - don't waste your money!\",\n",
              " 'review/time': '1233360000',\n",
              " 'review/userId': 'A1RXYH9ROBAKEZ'}"
            ]
          },
          "metadata": {
            "tags": []
          },
          "execution_count": 6
        }
      ]
    },
    {
      "cell_type": "code",
      "metadata": {
        "colab": {
          "base_uri": "https://localhost:8080/",
          "height": 120
        },
        "id": "nqIQidpBcBJU",
        "outputId": "81fde594-849b-4929-dc7a-8ef63d900237"
      },
      "source": [
        "data[0]['review/text']"
      ],
      "execution_count": null,
      "outputs": [
        {
          "output_type": "execute_result",
          "data": {
            "application/vnd.google.colaboratory.intrinsic+json": {
              "type": "string"
            },
            "text/plain": [
              "\"First of all, the company took my money and sent me an email telling me the product was shipped. A week and a half later I received another email telling me that they are sorry, but they don't actually have any of these items, and if I received an email telling me it has shipped, it was a mistake.When I finally got my money back, I went through another company to buy the product and it won't work with my phone, even though it depicts that it will. I have sent numerous emails to the company - I can't actually find a phone number on their website - and I still have not gotten any kind of response. What kind of customer service is that? No one will help me with this problem. My advice - don't waste your money!\""
            ]
          },
          "metadata": {
            "tags": []
          },
          "execution_count": 89
        }
      ]
    },
    {
      "cell_type": "code",
      "metadata": {
        "colab": {
          "base_uri": "https://localhost:8080/",
          "height": 66,
          "referenced_widgets": [
            "8815e0833a314b40b76fdad70938e5c3",
            "70d64071e27e477b9da7b1dd23d57ef7",
            "f852a35ac8b047aab2196b7a97d31be1",
            "cd1f2d145c474291a72ebc04f67aa131",
            "868513e2a21a46f6b8e1e1d037ccc891",
            "41bf9e2822da4a0cba49726a0ac2f7b0",
            "951e97e7b95d4d91b337014c036d5a61",
            "dc8f2ff882bb43599df7c6a9a3372bfa"
          ]
        },
        "id": "dVM7IJKvdUc3",
        "outputId": "9afffa9c-2915-4764-bcd0-95e34551c425"
      },
      "source": [
        "texts = []\n",
        "for t in tqdm(data):\n",
        "    try:\n",
        "        texts.append(t['review/text'])\n",
        "    except KeyError:\n",
        "        pass"
      ],
      "execution_count": null,
      "outputs": [
        {
          "output_type": "display_data",
          "data": {
            "application/vnd.jupyter.widget-view+json": {
              "model_id": "8815e0833a314b40b76fdad70938e5c3",
              "version_minor": 0,
              "version_major": 2
            },
            "text/plain": [
              "HBox(children=(FloatProgress(value=0.0, max=78931.0), HTML(value='')))"
            ]
          },
          "metadata": {
            "tags": []
          }
        },
        {
          "output_type": "stream",
          "text": [
            "\n"
          ],
          "name": "stdout"
        }
      ]
    },
    {
      "cell_type": "code",
      "metadata": {
        "colab": {
          "base_uri": "https://localhost:8080/"
        },
        "id": "XFvqMcAdeCQm",
        "outputId": "dfec82ef-a8d0-4d56-9bac-5aafc854940e"
      },
      "source": [
        "len(texts)"
      ],
      "execution_count": null,
      "outputs": [
        {
          "output_type": "execute_result",
          "data": {
            "text/plain": [
              "78930"
            ]
          },
          "metadata": {
            "tags": []
          },
          "execution_count": 9
        }
      ]
    },
    {
      "cell_type": "markdown",
      "metadata": {
        "id": "guqcs5GBZ3bY"
      },
      "source": [
        "### (3 балла) Предложите 3 способа найти упоминания товаров в отзывах."
      ]
    },
    {
      "cell_type": "markdown",
      "metadata": {
        "id": "JlUn3qmuZ6un"
      },
      "source": [
        "#### Первый способ\n",
        "\n",
        "\n",
        "\n",
        "---\n",
        "\n",
        "\n",
        "Би-граммы и три-граммы для составления частотного словаря (по аналогии с семинаром)"
      ]
    },
    {
      "cell_type": "code",
      "metadata": {
        "id": "cgQofgiKaClo"
      },
      "source": [
        "import gensim\n",
        "\n",
        "import gensim.corpora as corpora\n",
        "from gensim.utils import simple_preprocess\n",
        "from gensim.models import CoherenceModel"
      ],
      "execution_count": null,
      "outputs": []
    },
    {
      "cell_type": "markdown",
      "metadata": {
        "id": "fmt_g_YuinfV"
      },
      "source": [
        "Штука с семинара работала не так как нужно, поэтому я просто брала из [докумнетации](https://radimrehurek.com/gensim/models/phrases.html)"
      ]
    },
    {
      "cell_type": "code",
      "metadata": {
        "id": "h_MsKYYYhu53"
      },
      "source": [
        "for_bgram = [t.split() for t in texts]"
      ],
      "execution_count": null,
      "outputs": []
    },
    {
      "cell_type": "code",
      "metadata": {
        "id": "NNKCCPcqdOp7"
      },
      "source": [
        "# Build the bigram and trigram models\n",
        "bigram = gensim.models.Phrases(for_bgram, min_count=5, threshold=50) # higher threshold fewer phrases."
      ],
      "execution_count": null,
      "outputs": []
    },
    {
      "cell_type": "code",
      "metadata": {
        "colab": {
          "base_uri": "https://localhost:8080/",
          "height": 120,
          "referenced_widgets": [
            "efd917298fdf4d60adfee8fb09918997",
            "22b672a65f754fa89d6042aca68bb758",
            "386e111942514d46b49bdc1cba9fa0bb",
            "89e797888374418eb3d53203c072bf0a",
            "0c1f5412d7884e8ca92631d4f2651c52",
            "9697ac1551394618a6c89421ea5e20b9",
            "76aebf1081cb4303b14d96e4c4bc3706",
            "d5e41df6b22c48329a89868e60e08343"
          ]
        },
        "id": "YZHbDcS3iERD",
        "outputId": "529eaef0-a25b-4065-ed14-4b9538de30eb"
      },
      "source": [
        "bigram_mod = []\n",
        "\n",
        "for sent in tqdm(for_bgram):\n",
        "    bg_sent = bigram[sent]\n",
        "    bigram_mod.append(bg_sent)"
      ],
      "execution_count": null,
      "outputs": [
        {
          "output_type": "display_data",
          "data": {
            "application/vnd.jupyter.widget-view+json": {
              "model_id": "efd917298fdf4d60adfee8fb09918997",
              "version_minor": 0,
              "version_major": 2
            },
            "text/plain": [
              "HBox(children=(FloatProgress(value=0.0, max=78930.0), HTML(value='')))"
            ]
          },
          "metadata": {
            "tags": []
          }
        },
        {
          "output_type": "stream",
          "text": [
            "/usr/local/lib/python3.6/dist-packages/gensim/models/phrases.py:598: UserWarning: For a faster implementation, use the gensim.models.phrases.Phraser class\n",
            "  warnings.warn(\"For a faster implementation, use the gensim.models.phrases.Phraser class\")\n"
          ],
          "name": "stderr"
        },
        {
          "output_type": "stream",
          "text": [
            "\n"
          ],
          "name": "stdout"
        }
      ]
    },
    {
      "cell_type": "markdown",
      "metadata": {
        "id": "PPO6pItpc2XL"
      },
      "source": [
        "По аналогии с семинаром, но с основой документации"
      ]
    },
    {
      "cell_type": "code",
      "metadata": {
        "id": "8AwuyVDveHcW"
      },
      "source": [
        "def make_bigrams(texts):\n",
        "    bigram_mod = []\n",
        "\n",
        "    for sent in tqdm(texts):\n",
        "        bg_sent = bigram[sent]\n",
        "        bigram_mod.append(bg_sent)\n",
        "\n",
        "    return bigram_mod\n",
        "\n",
        "\n",
        "def make_trigrams(texts):\n",
        "    tr_mod = []\n",
        "\n",
        "    for doc in tqdm(texts):\n",
        "        bg_sent = bigram[sent]\n",
        "        tr_sent = trigram[bg_sent]\n",
        "        tr_mod.append(tr_sent)\n",
        "    \n",
        "    return tr_mod "
      ],
      "execution_count": null,
      "outputs": []
    },
    {
      "cell_type": "code",
      "metadata": {
        "colab": {
          "base_uri": "https://localhost:8080/",
          "height": 120,
          "referenced_widgets": [
            "94448ca0657647f3822ad91b6df93470",
            "99a4d4a69ae9494ab6697d8b3b3ee83d",
            "7e92e421c8ed4e46a815b9c825bf3715",
            "bde26f15abe5404088f69b61d342ea29",
            "fa3facfae42543d0836978d5d7789c69",
            "053ac632977246d2a746736ea9a6549a",
            "ab0282e5fdad4f6586ebf096e1425de2",
            "05be7efe1c854af286733494078d277f"
          ]
        },
        "id": "d5425crdfLkQ",
        "outputId": "e1130e4c-9a89-471b-8c35-771be846942f"
      },
      "source": [
        "textb = make_bigrams(for_bgram)"
      ],
      "execution_count": null,
      "outputs": [
        {
          "output_type": "display_data",
          "data": {
            "application/vnd.jupyter.widget-view+json": {
              "model_id": "94448ca0657647f3822ad91b6df93470",
              "version_minor": 0,
              "version_major": 2
            },
            "text/plain": [
              "HBox(children=(FloatProgress(value=0.0, max=78930.0), HTML(value='')))"
            ]
          },
          "metadata": {
            "tags": []
          }
        },
        {
          "output_type": "stream",
          "text": [
            "/usr/local/lib/python3.6/dist-packages/gensim/models/phrases.py:598: UserWarning: For a faster implementation, use the gensim.models.phrases.Phraser class\n",
            "  warnings.warn(\"For a faster implementation, use the gensim.models.phrases.Phraser class\")\n"
          ],
          "name": "stderr"
        },
        {
          "output_type": "stream",
          "text": [
            "\n"
          ],
          "name": "stdout"
        }
      ]
    },
    {
      "cell_type": "code",
      "metadata": {
        "id": "KYKvk808l7hZ"
      },
      "source": [
        "trigram = gensim.models.Phrases(textb, threshold=50)  "
      ],
      "execution_count": null,
      "outputs": []
    },
    {
      "cell_type": "code",
      "metadata": {
        "colab": {
          "base_uri": "https://localhost:8080/",
          "height": 120,
          "referenced_widgets": [
            "2d586f03f75448eab460fd3df82bd055",
            "c79b99a32d924530825ddfee75e83acb",
            "5a89f2a9b70c4e0593bd2da551f24aa5",
            "9695c4de573e4a69a9238ad69c337494",
            "b644ca73ee3e440a96bb22deb590d549",
            "33416758d7af4df2b02ca814b29d8c2e",
            "2a1689bc47bd4c4d8b0909794119581e",
            "aa78f7e5245a4f3b97513105732b5776"
          ]
        },
        "id": "dMQfmV-PmJwn",
        "outputId": "1b18f704-19b9-4384-a9df-e186c0a42d67"
      },
      "source": [
        "text_tr = make_trigrams(for_bgram)"
      ],
      "execution_count": null,
      "outputs": [
        {
          "output_type": "display_data",
          "data": {
            "application/vnd.jupyter.widget-view+json": {
              "model_id": "2d586f03f75448eab460fd3df82bd055",
              "version_minor": 0,
              "version_major": 2
            },
            "text/plain": [
              "HBox(children=(FloatProgress(value=0.0, max=78930.0), HTML(value='')))"
            ]
          },
          "metadata": {
            "tags": []
          }
        },
        {
          "output_type": "stream",
          "text": [
            "/usr/local/lib/python3.6/dist-packages/gensim/models/phrases.py:598: UserWarning: For a faster implementation, use the gensim.models.phrases.Phraser class\n",
            "  warnings.warn(\"For a faster implementation, use the gensim.models.phrases.Phraser class\")\n"
          ],
          "name": "stderr"
        },
        {
          "output_type": "stream",
          "text": [
            "\n"
          ],
          "name": "stdout"
        }
      ]
    },
    {
      "cell_type": "code",
      "metadata": {
        "colab": {
          "base_uri": "https://localhost:8080/"
        },
        "id": "J8vj4MFolNGE",
        "outputId": "ac914181-fc67-463c-c23a-4e20bd65aaa3"
      },
      "source": [
        "import nltk\n",
        "nltk.download('stopwords')"
      ],
      "execution_count": null,
      "outputs": [
        {
          "output_type": "stream",
          "text": [
            "[nltk_data] Downloading package stopwords to /root/nltk_data...\n",
            "[nltk_data]   Unzipping corpora/stopwords.zip.\n"
          ],
          "name": "stdout"
        },
        {
          "output_type": "execute_result",
          "data": {
            "text/plain": [
              "True"
            ]
          },
          "metadata": {
            "tags": []
          },
          "execution_count": 24
        }
      ]
    },
    {
      "cell_type": "code",
      "metadata": {
        "id": "0Is7YrDtljRn"
      },
      "source": [
        "from nltk.corpus import stopwords"
      ],
      "execution_count": null,
      "outputs": []
    },
    {
      "cell_type": "code",
      "metadata": {
        "id": "hQ-d0E8WlNp9"
      },
      "source": [
        "stop = stopwords.words('english')"
      ],
      "execution_count": null,
      "outputs": []
    },
    {
      "cell_type": "code",
      "metadata": {
        "id": "4Pv2I5xfoYgZ"
      },
      "source": [
        "from sklearn.feature_extraction.text import TfidfVectorizer"
      ],
      "execution_count": null,
      "outputs": []
    },
    {
      "cell_type": "code",
      "metadata": {
        "id": "yi_Q6o6Pnj-u"
      },
      "source": [
        "def tf_vector(text, ran):\n",
        "    # есть два варианта, как на это посмотреть: взять н-грамм ранж. от 1\n",
        "    # (если мы хотим выделять в том числе штуки типа \"телефон\" и \"телефон новый\")\n",
        "\n",
        "    # или просто инициализировать векторайзер без н-грамм ранж. так как у нас уже есть н-граммы\n",
        "    \n",
        "    # я посмотрю на оба варианта: сначала с н-грамм ранж., потом без него, строчку закомментриую\n",
        "    \n",
        "    # vectorizer = TfidfVectorizer(min_df=5, stop_words=stop, ngram_range=(1, ran))\n",
        "    \n",
        "    vectorizer = TfidfVectorizer(min_df=5, stop_words=stop)\n",
        "    tfidf_matrix = vectorizer.fit_transform(\" \".join(t) for t in text)\n",
        "    text1_tfidf = vectorizer.transform([\" \".join(text[0])])\n",
        "    vocab = vectorizer.get_feature_names()\n",
        "    tfidf = vectorizer.idf_\n",
        "    top = list(sorted(zip(vocab, text1_tfidf.toarray()[0]), key=lambda x: x[1], reverse = True))\n",
        "    for el in top[:40]:\n",
        "        print(el)\n",
        "    \n",
        "    # найдем среди вхождений такие, где попадаются \"_\" при склейке\n",
        "    for el in top[:40]:\n",
        "        if '_' in str(el[0]):\n",
        "            print(\"-->\", el)"
      ],
      "execution_count": null,
      "outputs": []
    },
    {
      "cell_type": "code",
      "metadata": {
        "colab": {
          "base_uri": "https://localhost:8080/"
        },
        "id": "sV5tRIZPn3tS",
        "outputId": "0a471d84-1579-45cd-a61a-62be468377c6"
      },
      "source": [
        "# c n-gramm range\n",
        "print('Биграммы')\n",
        "tf_vector(textb, 2)"
      ],
      "execution_count": null,
      "outputs": [
        {
          "output_type": "stream",
          "text": [
            "Биграммы\n",
            "('email telling', 0.3897989724948018)\n",
            "('telling', 0.25987968091140634)\n",
            "('email', 0.18812526608003233)\n",
            "('company', 0.1814718557261209)\n",
            "('money', 0.15175306350503692)\n",
            "('shipped', 0.14125414555252114)\n",
            "('website still', 0.1379056145627919)\n",
            "('company took', 0.13587804027839723)\n",
            "('numerous emails', 0.13587804027839723)\n",
            "('half later', 0.13412167554391607)\n",
            "('items received', 0.1325724520536114)\n",
            "('money sent', 0.1325724520536114)\n",
            "('number website', 0.1325724520536114)\n",
            "('actually find', 0.13118662441809426)\n",
            "('company actually', 0.13118662441809426)\n",
            "('customer_service one', 0.13118662441809426)\n",
            "('another email', 0.12993299083160056)\n",
            "('company buy', 0.12993299083160056)\n",
            "('depicts', 0.12993299083160056)\n",
            "('help problem', 0.12993299083160056)\n",
            "('later received', 0.12993299083160056)\n",
            "('one help', 0.12993299083160056)\n",
            "('kind', 0.1283427894694591)\n",
            "('went another', 0.1267609387503409)\n",
            "('back went', 0.12345535052555505)\n",
            "('still gotten', 0.12345535052555505)\n",
            "('sent', 0.12082331327484438)\n",
            "('received another', 0.11812218801637454)\n",
            "('received email', 0.11548272679436372)\n",
            "('week half', 0.11470878609646269)\n",
            "--> ('customer_service one', 0.13118662441809426)\n",
            "--> ('my_advice', 0.10578094246902331)\n",
            "--> ('phone even_though', 0.10116599890065302)\n",
            "--> ('even_though', 0.06567234955742732)\n",
            "--> ('customer_service', 0.06401118328793767)\n",
            "--> ('00 _here', 0.0)\n",
            "--> ('00 including_shipping', 0.0)\n"
          ],
          "name": "stdout"
        }
      ]
    },
    {
      "cell_type": "code",
      "metadata": {
        "colab": {
          "base_uri": "https://localhost:8080/"
        },
        "id": "mgzB70jqtNSM",
        "outputId": "9aede2b3-1fe7-4349-c25d-7fd513470dc5"
      },
      "source": [
        "# без n-gramm range\n",
        "print('Биграммы')\n",
        "tf_vector(textb, 2)"
      ],
      "execution_count": null,
      "outputs": [
        {
          "output_type": "stream",
          "text": [
            "Биграммы\n",
            "('telling', 0.4209231694001017)\n",
            "('email', 0.3047036342546513)\n",
            "('company', 0.29392720662604205)\n",
            "('money', 0.2457921305455607)\n",
            "('shipped', 0.22878719270530262)\n",
            "('depicts', 0.21045049046799563)\n",
            "('kind', 0.207874865490354)\n",
            "('sent', 0.19569568418242853)\n",
            "('received', 0.17361377605576445)\n",
            "('my_advice', 0.17133178480917874)\n",
            "('actually', 0.16930604125431714)\n",
            "('another', 0.15030877687215732)\n",
            "('numerous', 0.1385803565420854)\n",
            "('sorry', 0.13124216083693685)\n",
            "('emails', 0.13119518389720833)\n",
            "('mistake', 0.12661093019034073)\n",
            "('response', 0.12653538389296784)\n",
            "('product', 0.11727529028268827)\n",
            "('gotten', 0.11721703892638537)\n",
            "('items', 0.11687887256365365)\n",
            "('waste', 0.11234179039325506)\n",
            "('website', 0.11148761673247545)\n",
            "('later', 0.10980672921858654)\n",
            "('even_though', 0.10636850645929201)\n",
            "('customer_service', 0.10367794069977619)\n",
            "('help', 0.10288060730151811)\n",
            "('half', 0.10092364655672013)\n",
            "('finally', 0.0964894695274278)\n",
            "('number', 0.09305478652614334)\n",
            "('went', 0.09272834109892153)\n",
            "--> ('my_advice', 0.17133178480917874)\n",
            "--> ('even_though', 0.10636850645929201)\n",
            "--> ('customer_service', 0.10367794069977619)\n",
            "--> ('00_more', 0.0)\n",
            "--> ('0_bars', 0.0)\n",
            "--> ('0_megapixel', 0.0)\n",
            "--> ('0_mp', 0.0)\n",
            "--> ('0_stars', 0.0)\n",
            "--> ('1000_anytime', 0.0)\n",
            "--> ('1000_mah', 0.0)\n",
            "--> ('1000_minutes', 0.0)\n",
            "--> ('100_free', 0.0)\n",
            "--> ('100_minutes', 0.0)\n",
            "--> ('10_cents', 0.0)\n",
            "--> ('10_days', 0.0)\n",
            "--> ('10_feet', 0.0)\n",
            "--> ('10_hours', 0.0)\n",
            "--> ('10_meters', 0.0)\n",
            "--> ('10_min', 0.0)\n",
            "--> ('10_mins', 0.0)\n",
            "--> ('10_minutes', 0.0)\n",
            "--> ('10_seconds', 0.0)\n"
          ],
          "name": "stdout"
        }
      ]
    },
    {
      "cell_type": "code",
      "metadata": {
        "colab": {
          "base_uri": "https://localhost:8080/"
        },
        "id": "WVFt5KK_niqK",
        "outputId": "2557dda3-97c4-4578-d303-af9a2d714170"
      },
      "source": [
        "# c n-gramm range\n",
        "print('Триграммы')\n",
        "tf_vector(text_tr, 3)"
      ],
      "execution_count": null,
      "outputs": [
        {
          "output_type": "stream",
          "text": [
            "Триграммы\n",
            "('phone', 0.2785430072655778)\n",
            "('earpiece', 0.18569533817705186)\n",
            "('earpieces', 0.18569533817705186)\n",
            "('earpieces one', 0.18569533817705186)\n",
            "('one', 0.18569533817705186)\n",
            "('anything', 0.09284766908852593)\n",
            "('anything product', 0.09284766908852593)\n",
            "('anything product would', 0.09284766908852593)\n",
            "('bluetooth', 0.09284766908852593)\n",
            "('bluetooth earpieces', 0.09284766908852593)\n",
            "('bluetooth earpieces one', 0.09284766908852593)\n",
            "('change', 0.09284766908852593)\n",
            "('change anything', 0.09284766908852593)\n",
            "('change anything product', 0.09284766908852593)\n",
            "('charging', 0.09284766908852593)\n",
            "('charging change', 0.09284766908852593)\n",
            "('charging change anything', 0.09284766908852593)\n",
            "('clarity', 0.09284766908852593)\n",
            "('clarity outstanding', 0.09284766908852593)\n",
            "('clarity outstanding even', 0.09284766908852593)\n",
            "('color', 0.09284766908852593)\n",
            "('color maybe', 0.09284766908852593)\n",
            "('color maybe size', 0.09284766908852593)\n",
            "('connects', 0.09284766908852593)\n",
            "('connects phone', 0.09284766908852593)\n",
            "('connects phone long_periods', 0.09284766908852593)\n",
            "('disconnect', 0.09284766908852593)\n",
            "('disconnect phone', 0.09284766908852593)\n",
            "('disconnect phone phone', 0.09284766908852593)\n",
            "('earpiece easily', 0.09284766908852593)\n",
            "--> ('connects phone long_periods', 0.09284766908852593)\n",
            "--> ('long_periods', 0.09284766908852593)\n",
            "--> ('long_periods idle', 0.09284766908852593)\n",
            "--> ('long_periods idle time', 0.09284766908852593)\n",
            "--> ('phone long_periods', 0.09284766908852593)\n",
            "--> ('phone long_periods idle', 0.09284766908852593)\n"
          ],
          "name": "stdout"
        }
      ]
    },
    {
      "cell_type": "code",
      "metadata": {
        "colab": {
          "base_uri": "https://localhost:8080/"
        },
        "id": "ttvLaGERtO29",
        "outputId": "768b59c8-4eba-41a1-a893-ddb10b20fa92"
      },
      "source": [
        "# без n-gramm range\n",
        "print('Триграммы')\n",
        "tf_vector(text_tr, 3)"
      ],
      "execution_count": null,
      "outputs": [
        {
          "output_type": "stream",
          "text": [
            "Триграммы\n",
            "('phone', 0.4375949744936837)\n",
            "('earpiece', 0.2917299829957891)\n",
            "('earpieces', 0.2917299829957891)\n",
            "('one', 0.2917299829957891)\n",
            "('anything', 0.14586499149789456)\n",
            "('bluetooth', 0.14586499149789456)\n",
            "('change', 0.14586499149789456)\n",
            "('charging', 0.14586499149789456)\n",
            "('clarity', 0.14586499149789456)\n",
            "('color', 0.14586499149789456)\n",
            "('connects', 0.14586499149789456)\n",
            "('disconnect', 0.14586499149789456)\n",
            "('easily', 0.14586499149789456)\n",
            "('even', 0.14586499149789456)\n",
            "('idle', 0.14586499149789456)\n",
            "('long_periods', 0.14586499149789456)\n",
            "('maybe', 0.14586499149789456)\n",
            "('noisy', 0.14586499149789456)\n",
            "('number', 0.14586499149789456)\n",
            "('outstanding', 0.14586499149789456)\n",
            "('performance', 0.14586499149789456)\n",
            "('places', 0.14586499149789456)\n",
            "('plugged', 0.14586499149789456)\n",
            "('product', 0.14586499149789456)\n",
            "('size', 0.14586499149789456)\n",
            "('time', 0.14586499149789456)\n",
            "('tops', 0.14586499149789456)\n",
            "('tried', 0.14586499149789456)\n",
            "('unlike', 0.14586499149789456)\n",
            "('would', 0.14586499149789456)\n",
            "--> ('long_periods', 0.14586499149789456)\n"
          ],
          "name": "stdout"
        }
      ]
    },
    {
      "cell_type": "markdown",
      "metadata": {
        "id": "QsufLERzorlg"
      },
      "source": [
        "**Метод: по словарю**\n",
        "\n",
        "Такой метод в теории позволит выделить нам все нужнные сущности из текста (или тайтла) и составить словарь, на котором мы найдем все нужные н-граммы с сущностями дальше в текстах => искать колокации.\n",
        "\n",
        "Для улучшения полуавтоматической собрки словаря мы могли бы **выделить** название товара с использованием description/feature из metadata для выделения нужных названий товаров (и проверять попадается ли часть этих данных в словаре --> своеобразная фильтрация).\n",
        "\n",
        "\n",
        "\n",
        "**Достоинства**:\n",
        "\n",
        "\n",
        "*   словарь можно апдейтить\n",
        "*   сводим действия разметчика к минимуму, все делается получавтоматически\n",
        "\n",
        "\n",
        "\n",
        "(На примере того, как попробовала выделить словарь: на триграммах мы можем получить информацию более точную, чем на би-граммах о специфике датасета (телефон, наушники, цвет, соединение и т.д.), но все еще не названия)\n",
        "\n",
        "\n",
        "**Недостатком** (как и в семинаре) служит то, что качество \n",
        "\n",
        "*   (как и в семинаре) служит то, что качество не очень - очень много мусора. (На три-граммах этого меньше, но мусор есть и не всегда получилось бы выделить название товара.) Необходимо улучшать полуавтоматическое создание словаря, например, давать морфологическую информацию о тексте. Вообще, главное недостаток - очень много неоднозначности (чаще всего это просто частотные слова, но не сущности, которые нам нужны)\n",
        "*   мы скорее хотим обучать все это на саммари или заголовках и искать в самих текстах. Но есть вероятность, что это будет работать плохо, так как в текстах может быть все написано не так, как в лейблах/саммари"
      ]
    },
    {
      "cell_type": "markdown",
      "metadata": {
        "id": "jmQuxsthZ9ad"
      },
      "source": [
        "#### Второй способ"
      ]
    },
    {
      "cell_type": "markdown",
      "metadata": {
        "id": "NQXA1iRwyfbi"
      },
      "source": [
        "**Метод: извлечения сущностей с помощью  rule-based подхода**\n",
        "\n",
        "\n",
        "Построить необходимые правила и с помощью парсера, который по заготовкам выделял бы нужные элементы из текста, выделить нужные элементы.\n",
        "\n",
        "\n",
        "**Иноформация, которая могла бы помочь:** по аналогии с предыдущим блоком могла бы помочь информация о фичах устройства (в меньшей степени) и его описании\n",
        "\n",
        "\n",
        "**Достоинства**: \n",
        "\n",
        "\n",
        "*   Рзаметчик в состоянии ограничить область включаемых в правила параметров (в нашем случае - одна область, легко выделить какие-то конкретные параметры про устройства)\n",
        "*   легкая формализация (все, что нам нужно - похожее друг на друга скорее всего)\n",
        "*   в рамках одной тематики (устройств) все будет работает очень хорошо, так как основывается на четко выделенных критериях\n",
        "*   будет возможность учитывать разную грамматическую информацию, если правило усложним\n",
        "\n",
        "\n",
        "\n",
        "\n",
        "\n",
        "**Недостатки**: \n",
        "\n",
        "\n",
        "\n",
        "*   Разметчик может что-то упустить/включить что-то лишнее в правила, тогда картинка будет неполной, так как не удастся учесть все случаи\n",
        "\n",
        "*   внутри отзывов может что-то не ловиться, так как там можно что-то упросить/не учитывать/сократить (когда отзывы пишут реальные люди)\n",
        "\n"
      ]
    },
    {
      "cell_type": "markdown",
      "metadata": {
        "id": "7jpxEWqtaACP"
      },
      "source": [
        "#### Третий способ"
      ]
    },
    {
      "cell_type": "markdown",
      "metadata": {
        "id": "4wTT9SVjzKTX"
      },
      "source": [
        "**Метод: теггинг последовательности**\n",
        "\n",
        "С помощью метода получится приписать каждому токену какой-то тег, с помощью чего мы могли бы выделить нужные токены из текста\n",
        "\n",
        "**Иноформация, которая могла бы помочь:** тут мало отличий от предыдущих блоков --> нам могут помочь здесь саммари, фичи и описание.\n",
        "\n",
        "\n",
        "**Достоинства**:\n",
        "\n",
        "\n",
        "\n",
        "*   каждый тег будет учитывать предыдущие/следующие  (текуший объект и контекст)\n",
        "*   для нас последовательность может быть очень важна в данной задаче, так как вряд ли в отзывах слова относящиеся к одному предмету будут сильно раскиданы про тексту (с другой стороны это может быть и минусом, но мне кажется, что это больше плюс в данном случае)\n",
        "\n",
        "\n",
        "\n",
        "\n",
        "**Недостатки**: \n",
        "\n",
        "\n",
        "*   Так как изначально нет разметки по токенам, придется опираться на словарь, где теги бы хранились бы со словами, а всему остальному - приписать, например, части речи (или просто смотреть по частям речи, но это кажется слишком простым)\n",
        "*   динамическое программирование --> последовательность тегов всегда будет разной\n",
        "\n"
      ]
    },
    {
      "cell_type": "markdown",
      "metadata": {
        "id": "Ee332kgBaHSB"
      },
      "source": [
        "### (2 балла) Реализуйте один из предложенных вами способов.\n",
        "\n",
        "\n",
        "---\n",
        "\n",
        "Попробуем сделать следующее: использовать небольшой словарь (составим полуавтоматически: выберем самое хорошее, что может получить на биграммах/триграммах и тф-айдф и посмотрим вместе с этим на именованные сущности, которые выделяются автоматически) дескриптеров, которые потом расширим с помощью эмбеддингов (word2vec) и почистим его от того мусора, который нам не нужен, выбрав только то, что будет макисмально похоже на сущности данного корпуса.\n",
        "\n",
        "\n",
        "Для этого пройдемся по тайтлам, чтобы вся информация о компаниях-производителях и их устройствах сохарнилась.\n"
      ]
    },
    {
      "cell_type": "code",
      "metadata": {
        "colab": {
          "base_uri": "https://localhost:8080/",
          "height": 66,
          "referenced_widgets": [
            "1471c46db3d948158bee5683e8adb811",
            "f2b214679cb14221a9e68ce908e55343",
            "282732a8ddc24d99ad13a51c95635585",
            "232d4bb819874968a5da56d22c6c33ad",
            "fe83b96299b847d4acf96936f6e7b798",
            "57dd3f50239b41219d4832f158d0f09f",
            "fb75b2c05f714ec181cfc8220f39cfd5",
            "77071bb8994045ddabaeebd4b899e177"
          ]
        },
        "id": "rtOmryn1U_4T",
        "outputId": "cdaa00fb-9739-4b78-efa0-977184cbe1da"
      },
      "source": [
        "# собирем датасет\n",
        "\n",
        "title = []\n",
        "helpfulness = []\n",
        "score = []\n",
        "summary = []\n",
        "\n",
        "for t in tqdm(data):\n",
        "    try:\n",
        "        title.append(t['product/title'])\n",
        "        helpfulness.append(t['review/helpfulness'])\n",
        "        score.append(t['review/score'])\n",
        "        summary.append(t['review/summary'])\n",
        "    except KeyError:\n",
        "        pass"
      ],
      "execution_count": null,
      "outputs": [
        {
          "output_type": "display_data",
          "data": {
            "application/vnd.jupyter.widget-view+json": {
              "model_id": "1471c46db3d948158bee5683e8adb811",
              "version_minor": 0,
              "version_major": 2
            },
            "text/plain": [
              "HBox(children=(FloatProgress(value=0.0, max=78931.0), HTML(value='')))"
            ]
          },
          "metadata": {
            "tags": []
          }
        },
        {
          "output_type": "stream",
          "text": [
            "\n"
          ],
          "name": "stdout"
        }
      ]
    },
    {
      "cell_type": "code",
      "metadata": {
        "id": "uXfsTKjRVDHu"
      },
      "source": [
        "df = pd.DataFrame({'title': title, 'helpfulness': helpfulness, \n",
        "                   \"score\": score, \"summary\": summary, \"text\": texts})"
      ],
      "execution_count": null,
      "outputs": []
    },
    {
      "cell_type": "code",
      "metadata": {
        "colab": {
          "base_uri": "https://localhost:8080/",
          "height": 289
        },
        "id": "p7q-8FpBWLmG",
        "outputId": "30ae0753-401c-427a-8f5d-9e0a4d45546e"
      },
      "source": [
        "df.head()"
      ],
      "execution_count": null,
      "outputs": [
        {
          "output_type": "execute_result",
          "data": {
            "text/html": [
              "<div>\n",
              "<style scoped>\n",
              "    .dataframe tbody tr th:only-of-type {\n",
              "        vertical-align: middle;\n",
              "    }\n",
              "\n",
              "    .dataframe tbody tr th {\n",
              "        vertical-align: top;\n",
              "    }\n",
              "\n",
              "    .dataframe thead th {\n",
              "        text-align: right;\n",
              "    }\n",
              "</style>\n",
              "<table border=\"1\" class=\"dataframe\">\n",
              "  <thead>\n",
              "    <tr style=\"text-align: right;\">\n",
              "      <th></th>\n",
              "      <th>title</th>\n",
              "      <th>helpfulness</th>\n",
              "      <th>score</th>\n",
              "      <th>summary</th>\n",
              "      <th>text</th>\n",
              "    </tr>\n",
              "  </thead>\n",
              "  <tbody>\n",
              "    <tr>\n",
              "      <th>0</th>\n",
              "      <td>Mobile Action MA730 Handset Manager - Bluetoot...</td>\n",
              "      <td>0/0</td>\n",
              "      <td>1.0</td>\n",
              "      <td>Don't buy!</td>\n",
              "      <td>First of all, the company took my money and se...</td>\n",
              "    </tr>\n",
              "    <tr>\n",
              "      <th>1</th>\n",
              "      <td>Mobile Action MA730 Handset Manager - Bluetoot...</td>\n",
              "      <td>0/0</td>\n",
              "      <td>5.0</td>\n",
              "      <td>Mobile Action Bluetooth Mobile Phone Tool Soft...</td>\n",
              "      <td>Great product- tried others and this is a ten ...</td>\n",
              "    </tr>\n",
              "    <tr>\n",
              "      <th>2</th>\n",
              "      <td>Mobile Action MA730 Handset Manager - Bluetoot...</td>\n",
              "      <td>0/0</td>\n",
              "      <td>4.0</td>\n",
              "      <td>good</td>\n",
              "      <td>works real good....a little hard to set up...w...</td>\n",
              "    </tr>\n",
              "    <tr>\n",
              "      <th>3</th>\n",
              "      <td>USB Data Cable for Sony-Ericsson Z600, Z500, Z...</td>\n",
              "      <td>4/5</td>\n",
              "      <td>4.0</td>\n",
              "      <td>No instructions included...</td>\n",
              "      <td>The price was right for this cable ($11.95+$4....</td>\n",
              "    </tr>\n",
              "    <tr>\n",
              "      <th>4</th>\n",
              "      <td>USB Data Cable for Sony-Ericsson Z600, Z500, Z...</td>\n",
              "      <td>0/0</td>\n",
              "      <td>1.0</td>\n",
              "      <td>NOT A DATA CABLE</td>\n",
              "      <td>this is NOT a DATA CABLE this is only a USB ch...</td>\n",
              "    </tr>\n",
              "  </tbody>\n",
              "</table>\n",
              "</div>"
            ],
            "text/plain": [
              "                                               title  ...                                               text\n",
              "0  Mobile Action MA730 Handset Manager - Bluetoot...  ...  First of all, the company took my money and se...\n",
              "1  Mobile Action MA730 Handset Manager - Bluetoot...  ...  Great product- tried others and this is a ten ...\n",
              "2  Mobile Action MA730 Handset Manager - Bluetoot...  ...  works real good....a little hard to set up...w...\n",
              "3  USB Data Cable for Sony-Ericsson Z600, Z500, Z...  ...  The price was right for this cable ($11.95+$4....\n",
              "4  USB Data Cable for Sony-Ericsson Z600, Z500, Z...  ...  this is NOT a DATA CABLE this is only a USB ch...\n",
              "\n",
              "[5 rows x 5 columns]"
            ]
          },
          "metadata": {
            "tags": []
          },
          "execution_count": 109
        }
      ]
    },
    {
      "cell_type": "code",
      "metadata": {
        "id": "pRrZyGxcWrgV"
      },
      "source": [
        "# уникальные тайтлы\n",
        "un_titles = df.title.unique().tolist()"
      ],
      "execution_count": null,
      "outputs": []
    },
    {
      "cell_type": "code",
      "metadata": {
        "colab": {
          "base_uri": "https://localhost:8080/"
        },
        "id": "2kiFCorIWxK5",
        "outputId": "aa0539de-a89f-4a6b-b0ef-91d6ad8a3430"
      },
      "source": [
        "un_titles[:3]"
      ],
      "execution_count": null,
      "outputs": [
        {
          "output_type": "execute_result",
          "data": {
            "text/plain": [
              "['Mobile Action MA730 Handset Manager - Bluetooth Data Suite',\n",
              " 'USB Data Cable for Sony-Ericsson Z600, Z500, Z200, S700, P900, P802, P800, K700, T637, T630,T628, T618, T616, T610, T316, T310, T237, T226, T68i, T68, T62u, T39, R380 + Internet + Driver CD',\n",
              " 'Motorola HT820 Stereo Bluetooth Headset with microphone , Wireless , 12 hours Music']"
            ]
          },
          "metadata": {
            "tags": []
          },
          "execution_count": 102
        }
      ]
    },
    {
      "cell_type": "code",
      "metadata": {
        "colab": {
          "base_uri": "https://localhost:8080/"
        },
        "id": "913oyk1gKXaF",
        "outputId": "aa2c648d-07cf-40c9-b955-f5fb450ba5b2"
      },
      "source": [
        "len(un_titles)"
      ],
      "execution_count": null,
      "outputs": [
        {
          "output_type": "execute_result",
          "data": {
            "text/plain": [
              "7150"
            ]
          },
          "metadata": {
            "tags": []
          },
          "execution_count": 103
        }
      ]
    },
    {
      "cell_type": "code",
      "metadata": {
        "id": "apE0zVpzXHVt"
      },
      "source": [
        "# очистка текста\n",
        "\n",
        "def clean_t(un_titles):\n",
        "    for_title = []\n",
        "    \n",
        "    # '+' оставляем, так как может быть в марке телефона/устройства\n",
        "    # числа не удаляем, так как может быть очень важным для каких-нибудь моделей\n",
        "    marks = [\"'\", '!', '(', ')', '-', '[', ']', '{', '}', ';', \n",
        "            '?', '@', '#', '$', '%', ':', '\"', ',', '.', '/', '\\\\',\n",
        "            '^', '&', '*', '_']\n",
        "\n",
        "    for t in un_titles:\n",
        "        list_t = []\n",
        "        new_t = t\n",
        "        # удаляем пунктуацию\n",
        "        for m in marks:\n",
        "            new_t = new_t.replace(m, ' ').replace('  ', ' ')\n",
        "        # удаляем стоп-слова\n",
        "        new = new_t.split(' ')\n",
        "        for word in new:\n",
        "            if word not in stop:\n",
        "                list_t.append(word)\n",
        "\n",
        "        for_title.append(list_t)\n",
        "        \n",
        "    return for_title"
      ],
      "execution_count": null,
      "outputs": []
    },
    {
      "cell_type": "code",
      "metadata": {
        "id": "mD492jGEqsu4"
      },
      "source": [
        "for_title = clean_t(un_titles)"
      ],
      "execution_count": null,
      "outputs": []
    },
    {
      "cell_type": "code",
      "metadata": {
        "colab": {
          "base_uri": "https://localhost:8080/"
        },
        "id": "ZB3hTQI_b5xE",
        "outputId": "fe32c4b7-4dc4-4763-f861-2284c08a422d"
      },
      "source": [
        "for_title[:1]"
      ],
      "execution_count": null,
      "outputs": [
        {
          "output_type": "execute_result",
          "data": {
            "text/plain": [
              "[['Mobile',\n",
              "  'Action',\n",
              "  'MA730',\n",
              "  'Handset',\n",
              "  'Manager',\n",
              "  'Bluetooth',\n",
              "  'Data',\n",
              "  'Suite']]"
            ]
          },
          "metadata": {
            "tags": []
          },
          "execution_count": 140
        }
      ]
    },
    {
      "cell_type": "code",
      "metadata": {
        "id": "0oVbGSh3YOM3"
      },
      "source": [
        "# Build the bigram and trigram models\n",
        "bigram = gensim.models.Phrases(for_title, min_count=5, threshold=50)"
      ],
      "execution_count": null,
      "outputs": []
    },
    {
      "cell_type": "code",
      "metadata": {
        "colab": {
          "base_uri": "https://localhost:8080/",
          "height": 120,
          "referenced_widgets": [
            "d30718a2ec8349398a7d2ebc98f71c35",
            "c5d96ad90aca4ff799ab1f619c010465",
            "999a53792d6a40459b7ee533d3c63270",
            "8cfa355af92d4c38b4e4c3b37bef2859",
            "7b881314ee1e45efae6d6acb856bb34c",
            "bedbb31afff1490d98581ebfec0c1844",
            "c675070562424a76b7854a559539060a",
            "b0191e1d152d4408ad67faf13f7470fa"
          ]
        },
        "id": "16eAhVWWYU8Z",
        "outputId": "2f6afdfa-0c30-46e3-f718-923e73e00f68"
      },
      "source": [
        "textb_2 = make_bigrams(for_title)"
      ],
      "execution_count": null,
      "outputs": [
        {
          "output_type": "display_data",
          "data": {
            "application/vnd.jupyter.widget-view+json": {
              "model_id": "d30718a2ec8349398a7d2ebc98f71c35",
              "version_minor": 0,
              "version_major": 2
            },
            "text/plain": [
              "HBox(children=(FloatProgress(value=0.0, max=7150.0), HTML(value='')))"
            ]
          },
          "metadata": {
            "tags": []
          }
        },
        {
          "output_type": "stream",
          "text": [
            "/usr/local/lib/python3.6/dist-packages/gensim/models/phrases.py:598: UserWarning: For a faster implementation, use the gensim.models.phrases.Phraser class\n",
            "  warnings.warn(\"For a faster implementation, use the gensim.models.phrases.Phraser class\")\n"
          ],
          "name": "stderr"
        },
        {
          "output_type": "stream",
          "text": [
            "\n"
          ],
          "name": "stdout"
        }
      ]
    },
    {
      "cell_type": "code",
      "metadata": {
        "colab": {
          "base_uri": "https://localhost:8080/"
        },
        "id": "Zo1OHG5hZTke",
        "outputId": "f8be7140-3fa6-431f-f7bc-465468c6799d"
      },
      "source": [
        "textb_2[4:8]"
      ],
      "execution_count": null,
      "outputs": [
        {
          "output_type": "execute_result",
          "data": {
            "text/plain": [
              "[['Belkin',\n",
              "  'Executive',\n",
              "  'Leather',\n",
              "  'Case',\n",
              "  'handheld',\n",
              "  'carrying',\n",
              "  'case',\n",
              "  'F8D0402'],\n",
              " ['Samsung',\n",
              "  'T809',\n",
              "  'M620',\n",
              "  'i607',\n",
              "  'U420',\n",
              "  'A303',\n",
              "  'A717',\n",
              "  'Car',\n",
              "  'Charger',\n",
              "  'CAD300MBEB'],\n",
              " ['For',\n",
              "  'Motorola',\n",
              "  'V9m',\n",
              "  'V3_V3c',\n",
              "  'V3i_V3m',\n",
              "  'V3t_V3v',\n",
              "  'Razr_Razor',\n",
              "  'Leather',\n",
              "  'Case',\n",
              "  'Pouch',\n",
              "  'Cover',\n",
              "  'Magnetic_Button',\n",
              "  'Expand',\n",
              "  'Cover',\n",
              "  'Belt',\n",
              "  'Clip',\n",
              "  'Black'],\n",
              " ['NEW',\n",
              "  'UNLOCKED',\n",
              "  'SAMSUNG',\n",
              "  'X830',\n",
              "  'PINK',\n",
              "  'MP3',\n",
              "  'CAMERA',\n",
              "  'GSM',\n",
              "  'CELL_PHONE']]"
            ]
          },
          "metadata": {
            "tags": []
          },
          "execution_count": 145
        }
      ]
    },
    {
      "cell_type": "code",
      "metadata": {
        "colab": {
          "base_uri": "https://localhost:8080/"
        },
        "id": "a3XIS-uMiDwb",
        "outputId": "13ece141-f99f-4c08-c8d4-93a0eb0cf617"
      },
      "source": [
        "tf_vector(textb_2, 3)"
      ],
      "execution_count": null,
      "outputs": [
        {
          "output_type": "stream",
          "text": [
            "('handset_manager', 0.5157976312808434)\n",
            "('suite', 0.5102109904576572)\n",
            "('mobile_action', 0.45665984154559564)\n",
            "('data', 0.44733991783367316)\n",
            "('bluetooth', 0.25492417659649586)\n",
            "('00', 0.0)\n",
            "('001', 0.0)\n",
            "('01', 0.0)\n",
            "('02', 0.0)\n",
            "('03', 0.0)\n",
            "('04', 0.0)\n",
            "('05', 0.0)\n",
            "('06', 0.0)\n",
            "('10', 0.0)\n",
            "('100', 0.0)\n",
            "('1000', 0.0)\n",
            "('1000_mah', 0.0)\n",
            "('1000mah', 0.0)\n",
            "('100_genuine', 0.0)\n",
            "('11', 0.0)\n",
            "('1100', 0.0)\n",
            "('1100mah', 0.0)\n",
            "('110_240v', 0.0)\n",
            "('12', 0.0)\n",
            "('120', 0.0)\n",
            "('1200', 0.0)\n",
            "('120c', 0.0)\n",
            "('1221', 0.0)\n",
            "('1260', 0.0)\n",
            "('1260_1261', 0.0)\n",
            "('12_volt', 0.0)\n",
            "('12v', 0.0)\n",
            "('13', 0.0)\n",
            "('14', 0.0)\n",
            "('1400', 0.0)\n",
            "('1400_mah', 0.0)\n",
            "('1400mah', 0.0)\n",
            "('15', 0.0)\n",
            "('1500_mah', 0.0)\n",
            "('1600', 0.0)\n",
            "--> ('handset_manager', 0.5157976312808434)\n",
            "--> ('mobile_action', 0.45665984154559564)\n",
            "--> ('1000_mah', 0.0)\n",
            "--> ('100_genuine', 0.0)\n",
            "--> ('110_240v', 0.0)\n",
            "--> ('1260_1261', 0.0)\n",
            "--> ('12_volt', 0.0)\n",
            "--> ('1400_mah', 0.0)\n",
            "--> ('1500_mah', 0.0)\n"
          ],
          "name": "stdout"
        }
      ]
    },
    {
      "cell_type": "code",
      "metadata": {
        "id": "96OrBe5Ti7kh"
      },
      "source": [
        "trigram = gensim.models.Phrases(textb_2, threshold=50)"
      ],
      "execution_count": null,
      "outputs": []
    },
    {
      "cell_type": "code",
      "metadata": {
        "colab": {
          "base_uri": "https://localhost:8080/",
          "height": 120,
          "referenced_widgets": [
            "7031626123414c77b3ac279d08719f13",
            "628c2f58470a454597ac891a452ace04",
            "a2a427798a2f4118be6e914cced92bb5",
            "7dbd166a22f647658162a7aea3bb7fcc",
            "4cdafe717b354d79880a1d115697dd76",
            "ddc42867ff6c435eb0eed7bb34d54092",
            "be2b5caa66994af197143083ce2ff9b5",
            "088b41d4a06545af82c459d2efd315ee"
          ]
        },
        "id": "ZDDcUjebjGQE",
        "outputId": "48a2da26-5b62-4f6d-c6fd-e0a35bbe39d9"
      },
      "source": [
        "text_tr_2 = make_trigrams(for_title)"
      ],
      "execution_count": null,
      "outputs": [
        {
          "output_type": "display_data",
          "data": {
            "application/vnd.jupyter.widget-view+json": {
              "model_id": "7031626123414c77b3ac279d08719f13",
              "version_minor": 0,
              "version_major": 2
            },
            "text/plain": [
              "HBox(children=(FloatProgress(value=0.0, max=7150.0), HTML(value='')))"
            ]
          },
          "metadata": {
            "tags": []
          }
        },
        {
          "output_type": "stream",
          "text": [
            "/usr/local/lib/python3.6/dist-packages/gensim/models/phrases.py:598: UserWarning: For a faster implementation, use the gensim.models.phrases.Phraser class\n",
            "  warnings.warn(\"For a faster implementation, use the gensim.models.phrases.Phraser class\")\n"
          ],
          "name": "stderr"
        },
        {
          "output_type": "stream",
          "text": [
            "\n"
          ],
          "name": "stdout"
        }
      ]
    },
    {
      "cell_type": "code",
      "metadata": {
        "colab": {
          "base_uri": "https://localhost:8080/"
        },
        "id": "nvtJekBCjTVk",
        "outputId": "82c9998a-68d8-4bcd-cbbc-fdaba2f6cffa"
      },
      "source": [
        "tf_vector(text_tr_2, 3)"
      ],
      "execution_count": null,
      "outputs": [
        {
          "output_type": "stream",
          "text": [
            "('phone', 0.43301270189221935)\n",
            "('earpiece', 0.2886751345948129)\n",
            "('earpieces', 0.2886751345948129)\n",
            "('one', 0.2886751345948129)\n",
            "('anything', 0.14433756729740646)\n",
            "('bluetooth', 0.14433756729740646)\n",
            "('change', 0.14433756729740646)\n",
            "('charging', 0.14433756729740646)\n",
            "('clarity', 0.14433756729740646)\n",
            "('color', 0.14433756729740646)\n",
            "('connects', 0.14433756729740646)\n",
            "('disconnect', 0.14433756729740646)\n",
            "('easily', 0.14433756729740646)\n",
            "('even', 0.14433756729740646)\n",
            "('idle', 0.14433756729740646)\n",
            "('long', 0.14433756729740646)\n",
            "('maybe', 0.14433756729740646)\n",
            "('noisy', 0.14433756729740646)\n",
            "('number', 0.14433756729740646)\n",
            "('outstanding', 0.14433756729740646)\n",
            "('performance', 0.14433756729740646)\n",
            "('periods', 0.14433756729740646)\n",
            "('places', 0.14433756729740646)\n",
            "('plugged', 0.14433756729740646)\n",
            "('product', 0.14433756729740646)\n",
            "('size', 0.14433756729740646)\n",
            "('time', 0.14433756729740646)\n",
            "('tops', 0.14433756729740646)\n",
            "('tried', 0.14433756729740646)\n",
            "('unlike', 0.14433756729740646)\n",
            "('would', 0.14433756729740646)\n"
          ],
          "name": "stdout"
        }
      ]
    },
    {
      "cell_type": "code",
      "metadata": {
        "id": "9f5wD-fCiPw-"
      },
      "source": [
        "# Запомним отсюда следующие слова (кажутся лучше всего относящимися к теме)\n",
        "# и то, что можно выхватить глазами просмотрев инфо о товарах\n",
        "\n",
        "from_b_gr = ['phone', 'earpiece', 'connect', 'bluetooth', 'item',\n",
        "             'product', 'headset', 'battery', 'adapter',\n",
        "             'flash', 'memory card', 'charger', 'watch', 'car vent',\n",
        "             'camera']"
      ],
      "execution_count": 533,
      "outputs": []
    },
    {
      "cell_type": "markdown",
      "metadata": {
        "id": "x0NsE0nbcqC-"
      },
      "source": [
        "Все получается очень неплохо: на н-граммах нам удалось выделить вот такие штуки, где видны нужные нам вещи. Теперь посмотрим на все это через призму именованных сущностей ддя выделения названий или других полезных штук.\n",
        "\n",
        "Cмотреть будем на модель [spacy](https://explosion.ai/demos/displacy-ent), потому что она умеет видеть продукты (делала также как [тут](https://dev.by/news/nlp-is-fun))"
      ]
    },
    {
      "cell_type": "code",
      "metadata": {
        "id": "HvFJxuc9eEUN"
      },
      "source": [
        "import spacy\n",
        "import en_core_web_sm\n",
        "model_sp = en_core_web_sm.load()"
      ],
      "execution_count": null,
      "outputs": []
    },
    {
      "cell_type": "markdown",
      "metadata": {
        "id": "746kly4F_cqY"
      },
      "source": [
        "Берем именно такие лейблы (если проверить на указанном сайте, то можно увидеть, что иногда такие штуки выделяются как личность или произведение искусства)"
      ]
    },
    {
      "cell_type": "code",
      "metadata": {
        "colab": {
          "base_uri": "https://localhost:8080/",
          "height": 66,
          "referenced_widgets": [
            "131ad2ef68c741b0ab0bd26388d2dfb0",
            "bd8f9bde388d4700b53c186784c28aa8",
            "e1458cc0dae84999881e4e6725c14277",
            "a80a2b2b9a1a4101b596419710010b57",
            "81c3b36798e74e8497de117b20e89c59",
            "13e6da3d6b79494589c1518f3067e3e1",
            "64ba8137b3c640038a2049aacb63c087",
            "4941397425b24f3aad6189e973becd78"
          ]
        },
        "id": "5EDQGY9ceBT_",
        "outputId": "77e4f445-4f2b-4458-ebdb-60d5d6df1cab"
      },
      "source": [
        "# нужные нам лейблы, которыми могут маркироваться ис\n",
        "\n",
        "enti = []\n",
        "\n",
        "lab = ['ORG', ' PRODUCT', 'WORK OF ART', 'PERSON', 'QUANTITY']\n",
        "\n",
        "for doc in tqdm(un_titles):\n",
        "    for ent in model_sp(doc).ents:\n",
        "        if str(ent.label_) in lab:\n",
        "            enti.append(str(ent.text.strip()))"
      ],
      "execution_count": null,
      "outputs": [
        {
          "output_type": "display_data",
          "data": {
            "application/vnd.jupyter.widget-view+json": {
              "model_id": "131ad2ef68c741b0ab0bd26388d2dfb0",
              "version_minor": 0,
              "version_major": 2
            },
            "text/plain": [
              "HBox(children=(FloatProgress(value=0.0, max=7150.0), HTML(value='')))"
            ]
          },
          "metadata": {
            "tags": []
          }
        },
        {
          "output_type": "stream",
          "text": [
            "\n"
          ],
          "name": "stdout"
        }
      ]
    },
    {
      "cell_type": "code",
      "metadata": {
        "colab": {
          "base_uri": "https://localhost:8080/"
        },
        "id": "eeLMC5eohZPI",
        "outputId": "6365c24b-3404-4c96-b1e1-51752bbd808b"
      },
      "source": [
        "enti[:5]"
      ],
      "execution_count": null,
      "outputs": [
        {
          "output_type": "execute_result",
          "data": {
            "text/plain": [
              "['USB Data Cable',\n",
              " 'Sony-Ericsson Z600',\n",
              " 'T610',\n",
              " 'Wireless',\n",
              " 'Belkin Executive Leather Case']"
            ]
          },
          "metadata": {
            "tags": []
          },
          "execution_count": 204
        }
      ]
    },
    {
      "cell_type": "code",
      "metadata": {
        "id": "k-PdR_98j7ou"
      },
      "source": [
        "from collections import Counter"
      ],
      "execution_count": null,
      "outputs": []
    },
    {
      "cell_type": "code",
      "metadata": {
        "id": "M6irFvlnkPns"
      },
      "source": [
        "cnt = Counter(enti)"
      ],
      "execution_count": null,
      "outputs": []
    },
    {
      "cell_type": "code",
      "metadata": {
        "id": "AkLNURVSltYf"
      },
      "source": [
        "keys = list(dict(cnt).keys())"
      ],
      "execution_count": null,
      "outputs": []
    },
    {
      "cell_type": "code",
      "metadata": {
        "colab": {
          "base_uri": "https://localhost:8080/"
        },
        "id": "na9i8On3l5_-",
        "outputId": "59a90b41-138f-40bb-aab8-2e4e1e38f14d"
      },
      "source": [
        "# столько именованных сущностей выделилось\n",
        "len(keys)"
      ],
      "execution_count": null,
      "outputs": [
        {
          "output_type": "execute_result",
          "data": {
            "text/plain": [
              "3985"
            ]
          },
          "metadata": {
            "tags": []
          },
          "execution_count": 208
        }
      ]
    },
    {
      "cell_type": "markdown",
      "metadata": {
        "id": "RBJvMIQgtgkn"
      },
      "source": [
        "Сначала я хотела брать топ-1000 ключей, но так как я выбираю только то, что напрямую может маркировать товар/организцию его выпускающую, то будет неуместно взять только часть, поэтому я рещила, что лучше взять все ключи (названия товаров) и дополнить этот словарь тем хорошим, что выдали нам н-граммы (тогда у нас будут и штуки типа \"телефон\" и штуки типа \"iphone10\")"
      ]
    },
    {
      "cell_type": "code",
      "metadata": {
        "id": "OKbK2y-DlwL4"
      },
      "source": [
        "# возьмем ключи и то, что мы выделили сами\n",
        "entities = set(keys).union(set(from_b_gr)) "
      ],
      "execution_count": 534,
      "outputs": []
    },
    {
      "cell_type": "markdown",
      "metadata": {
        "id": "67ThQw8lnRjq"
      },
      "source": [
        "Расширим с помощью ворд-ту век (возьмем модель по указанной ссылке)"
      ]
    },
    {
      "cell_type": "code",
      "metadata": {
        "id": "W4IXxqDOo4NK"
      },
      "source": [
        "from gensim.models import phrases, word2vec"
      ],
      "execution_count": null,
      "outputs": []
    },
    {
      "cell_type": "code",
      "metadata": {
        "id": "EhDxt2nWn87d"
      },
      "source": [
        "# сделаем на выделенных через н-граммы штуках\n",
        "\n",
        "model = word2vec.Word2Vec(textb_2, size=50, min_count=5)"
      ],
      "execution_count": 535,
      "outputs": []
    },
    {
      "cell_type": "code",
      "metadata": {
        "colab": {
          "base_uri": "https://localhost:8080/"
        },
        "id": "TXPK0VPMpG3l",
        "outputId": "94c29389-fa1f-4710-e36a-16220ff0fb95"
      },
      "source": [
        "new_ent = []\n",
        "\n",
        "for w in entities:\n",
        "    if w in model:\n",
        "        new_ent.append(model.wv.most_similar(w)[0][0])"
      ],
      "execution_count": 536,
      "outputs": [
        {
          "output_type": "stream",
          "text": [
            "/usr/local/lib/python3.6/dist-packages/ipykernel_launcher.py:4: DeprecationWarning: Call to deprecated `__contains__` (Method will be removed in 4.0.0, use self.wv.__contains__() instead).\n",
            "  after removing the cwd from sys.path.\n",
            "/usr/local/lib/python3.6/dist-packages/gensim/matutils.py:737: FutureWarning: Conversion of the second argument of issubdtype from `int` to `np.signedinteger` is deprecated. In future, it will be treated as `np.int64 == np.dtype(int).type`.\n",
            "  if np.issubdtype(vec.dtype, np.int):\n"
          ],
          "name": "stderr"
        }
      ]
    },
    {
      "cell_type": "code",
      "metadata": {
        "id": "_8ukBLrLpza0"
      },
      "source": [
        "# объединение сущностей\n",
        "fin_ent_1 = list(set(entities).union(set(new_ent)))"
      ],
      "execution_count": 537,
      "outputs": []
    },
    {
      "cell_type": "markdown",
      "metadata": {
        "id": "72fM3NjgfPAQ"
      },
      "source": [
        "Ограничим наш словарь по длине, чтобы не было очень длинных сущностей и, собственно, мусора, который перечислял бы кучу всего, что может привести к шумам"
      ]
    },
    {
      "cell_type": "code",
      "metadata": {
        "id": "7TXExA8Lexvr"
      },
      "source": [
        "fin_ent = []\n",
        "\n",
        "for el in fin_ent_1:\n",
        "    if len(el) < 30:\n",
        "        fin_ent.append(el)"
      ],
      "execution_count": 538,
      "outputs": []
    },
    {
      "cell_type": "markdown",
      "metadata": {
        "id": "2emkA2jlsDRf"
      },
      "source": [
        "Нам нужно сделать так, чтобы попадали именованные сущности в выборку, соответственно, кажется лишним приводить тексты к нижнему регистру, так как очень много названий (собственно упоминающих товар), а по условию задания нам необходимо это учитывать, поэтому оставляем так"
      ]
    },
    {
      "cell_type": "code",
      "metadata": {
        "id": "hQhRvTJap_I1"
      },
      "source": [
        "clean_texts = clean_t(texts)"
      ],
      "execution_count": 515,
      "outputs": []
    },
    {
      "cell_type": "code",
      "metadata": {
        "id": "kycjJp3XrBSQ"
      },
      "source": [
        "all_clean_texts = []\n",
        "\n",
        "for t in clean_texts:\n",
        "    new_t = ' '.join(t)\n",
        "    all_clean_texts.append(new_t)"
      ],
      "execution_count": 516,
      "outputs": []
    },
    {
      "cell_type": "code",
      "metadata": {
        "colab": {
          "base_uri": "https://localhost:8080/",
          "height": 66,
          "referenced_widgets": [
            "2fe3e55f72eb42cb8dbd280371a943a1",
            "8931e305b90640c6a211f7eee48ad876",
            "7ff7bae6aac6459280124071d8fcd6c9",
            "b72135012ba84d909681894c28ff128a",
            "74f81ba31e4c498d925b228f84e87080",
            "ea64292e001849d99c78d27f8ba75fbc",
            "393a1518816a4fd18f7c551dd93be4f6",
            "479fe4a19db64fe6ab1714d672054912"
          ]
        },
        "id": "Mz66BwyXrE1K",
        "outputId": "2877ef7a-4139-4b75-a1d6-ffdfc6e6675f"
      },
      "source": [
        "ent_in_texts = []\n",
        "for text in tqdm(all_clean_texts):\n",
        "    for_t = []\n",
        "    for el in fin_ent:\n",
        "        if el in text:\n",
        "            for_t.append(el)\n",
        "    ent_in_texts.append(for_t)"
      ],
      "execution_count": 539,
      "outputs": [
        {
          "output_type": "display_data",
          "data": {
            "application/vnd.jupyter.widget-view+json": {
              "model_id": "2fe3e55f72eb42cb8dbd280371a943a1",
              "version_minor": 0,
              "version_major": 2
            },
            "text/plain": [
              "HBox(children=(FloatProgress(value=0.0, max=78930.0), HTML(value='')))"
            ]
          },
          "metadata": {
            "tags": []
          }
        },
        {
          "output_type": "stream",
          "text": [
            "\n"
          ],
          "name": "stdout"
        }
      ]
    },
    {
      "cell_type": "code",
      "metadata": {
        "id": "DBeG_sP4jscd"
      },
      "source": [
        "df['enteties'] = ent_in_texts"
      ],
      "execution_count": 540,
      "outputs": []
    },
    {
      "cell_type": "markdown",
      "metadata": {
        "id": "Ro9tiIsXvKGc"
      },
      "source": [
        "Очистим для следующего задания (я делала н-граммы без нижнего регистра, мне казалось очень выжным оставить код с верхним регистром, но на всякий случай пусть будет этот момент)"
      ]
    },
    {
      "cell_type": "code",
      "metadata": {
        "id": "TaonqVGAuW7L"
      },
      "source": [
        "cl = []\n",
        "for s in all_clean_texts:\n",
        "    cl.append(s.lower())"
      ],
      "execution_count": 519,
      "outputs": []
    },
    {
      "cell_type": "code",
      "metadata": {
        "id": "zkMUzr_FunFT"
      },
      "source": [
        "cl_en = []\n",
        "for i in ent_in_texts:\n",
        "    n = []\n",
        "    for el in i:\n",
        "        n.append(el.lower())\n",
        "    cl_en.append(n)"
      ],
      "execution_count": 541,
      "outputs": []
    },
    {
      "cell_type": "code",
      "metadata": {
        "id": "LWQL8T_wuzMo"
      },
      "source": [
        "df['clean_text'] = cl\n",
        "df['clean_enteties'] = cl_en"
      ],
      "execution_count": 542,
      "outputs": []
    },
    {
      "cell_type": "code",
      "metadata": {
        "colab": {
          "base_uri": "https://localhost:8080/",
          "height": 578
        },
        "id": "aXsHLE_hE_eE",
        "outputId": "7a339b14-6aad-4cac-e779-adc2bc9b7c6b"
      },
      "source": [
        "df.head()"
      ],
      "execution_count": 543,
      "outputs": [
        {
          "output_type": "execute_result",
          "data": {
            "text/html": [
              "<div>\n",
              "<style scoped>\n",
              "    .dataframe tbody tr th:only-of-type {\n",
              "        vertical-align: middle;\n",
              "    }\n",
              "\n",
              "    .dataframe tbody tr th {\n",
              "        vertical-align: top;\n",
              "    }\n",
              "\n",
              "    .dataframe thead th {\n",
              "        text-align: right;\n",
              "    }\n",
              "</style>\n",
              "<table border=\"1\" class=\"dataframe\">\n",
              "  <thead>\n",
              "    <tr style=\"text-align: right;\">\n",
              "      <th></th>\n",
              "      <th>title</th>\n",
              "      <th>helpfulness</th>\n",
              "      <th>score</th>\n",
              "      <th>summary</th>\n",
              "      <th>text</th>\n",
              "      <th>enteties</th>\n",
              "      <th>clean_text</th>\n",
              "      <th>clean_enteties</th>\n",
              "      <th>bi_grams</th>\n",
              "      <th>tri_grams</th>\n",
              "    </tr>\n",
              "  </thead>\n",
              "  <tbody>\n",
              "    <tr>\n",
              "      <th>0</th>\n",
              "      <td>Mobile Action MA730 Handset Manager - Bluetoot...</td>\n",
              "      <td>0/0</td>\n",
              "      <td>1.0</td>\n",
              "      <td>Don't buy!</td>\n",
              "      <td>First of all, the company took my money and se...</td>\n",
              "      <td>[A, W, item, phone, product]</td>\n",
              "      <td>first company took money sent email telling pr...</td>\n",
              "      <td>[a, w, item, phone, product]</td>\n",
              "      <td>[(work, phone), (phone, even), (telling, produ...</td>\n",
              "      <td>[(product, work, phone), (phone, even, though)...</td>\n",
              "    </tr>\n",
              "    <tr>\n",
              "      <th>1</th>\n",
              "      <td>Mobile Action MA730 Handset Manager - Bluetoot...</td>\n",
              "      <td>0/0</td>\n",
              "      <td>5.0</td>\n",
              "      <td>Mobile Action Bluetooth Mobile Phone Tool Soft...</td>\n",
              "      <td>Great product- tried others and this is a ten ...</td>\n",
              "      <td>[product]</td>\n",
              "      <td>great product tried others ten compared real e...</td>\n",
              "      <td>[product]</td>\n",
              "      <td>[(Great, product), (product, tried)]</td>\n",
              "      <td>[]</td>\n",
              "    </tr>\n",
              "    <tr>\n",
              "      <th>2</th>\n",
              "      <td>Mobile Action MA730 Handset Manager - Bluetoot...</td>\n",
              "      <td>0/0</td>\n",
              "      <td>4.0</td>\n",
              "      <td>good</td>\n",
              "      <td>works real good....a little hard to set up...w...</td>\n",
              "      <td>[]</td>\n",
              "      <td>works real good little hard set web part doesn...</td>\n",
              "      <td>[]</td>\n",
              "      <td>[]</td>\n",
              "      <td>[]</td>\n",
              "    </tr>\n",
              "    <tr>\n",
              "      <th>3</th>\n",
              "      <td>USB Data Cable for Sony-Ericsson Z600, Z500, Z...</td>\n",
              "      <td>4/5</td>\n",
              "      <td>4.0</td>\n",
              "      <td>No instructions included...</td>\n",
              "      <td>The price was right for this cable ($11.95+$4....</td>\n",
              "      <td>[Sony Ericsson, A, W, CD, Ericsson, 5, phone, ...</td>\n",
              "      <td>the price right cable 11 95+ 4 94 s h compared...</td>\n",
              "      <td>[sony ericsson, a, w, cd, ericsson, 5, phone, ...</td>\n",
              "      <td>[(Files, Sony Ericsson), (Sony Ericsson, Mobil...</td>\n",
              "      <td>[(Program, Files, Sony Ericsson), (Sony Ericss...</td>\n",
              "    </tr>\n",
              "    <tr>\n",
              "      <th>4</th>\n",
              "      <td>USB Data Cable for Sony-Ericsson Z600, Z500, Z...</td>\n",
              "      <td>0/0</td>\n",
              "      <td>1.0</td>\n",
              "      <td>NOT A DATA CABLE</td>\n",
              "      <td>this is NOT a DATA CABLE this is only a USB ch...</td>\n",
              "      <td>[A, USB, charger]</td>\n",
              "      <td>not data cable usb charger dont buy</td>\n",
              "      <td>[a, usb, charger]</td>\n",
              "      <td>[(CABLE, USB), (USB, charger), (USB, charger),...</td>\n",
              "      <td>[(DATA, CABLE, USB), (USB, charger, dont), (CA...</td>\n",
              "    </tr>\n",
              "  </tbody>\n",
              "</table>\n",
              "</div>"
            ],
            "text/plain": [
              "                                               title  ...                                          tri_grams\n",
              "0  Mobile Action MA730 Handset Manager - Bluetoot...  ...  [(product, work, phone), (phone, even, though)...\n",
              "1  Mobile Action MA730 Handset Manager - Bluetoot...  ...                                                 []\n",
              "2  Mobile Action MA730 Handset Manager - Bluetoot...  ...                                                 []\n",
              "3  USB Data Cable for Sony-Ericsson Z600, Z500, Z...  ...  [(Program, Files, Sony Ericsson), (Sony Ericss...\n",
              "4  USB Data Cable for Sony-Ericsson Z600, Z500, Z...  ...  [(DATA, CABLE, USB), (USB, charger, dont), (CA...\n",
              "\n",
              "[5 rows x 10 columns]"
            ]
          },
          "metadata": {
            "tags": []
          },
          "execution_count": 543
        }
      ]
    },
    {
      "cell_type": "markdown",
      "metadata": {
        "id": "katb1__CuFUG"
      },
      "source": [
        "Как видим, у нас получилось выделить упоминание товара в отзывах, но не везде с помощью такой полуавтоматической сборки сущности вообще нашлись. В задании указано, что нам нужно выделить н-граммы с названиями товара, причем название может быть странным: watch / galaxy watch. Поэтому самым лучшим решением мне кажется выделить все возможные сущности/навзвания и т.д. с учетом апдейта с инфо об устройствах и получить н-граммы с ними."
      ]
    },
    {
      "cell_type": "markdown",
      "metadata": {
        "id": "kDBxTiWJcd5q"
      },
      "source": [
        "### (1 балл) Соберите n-граммы с полученными сущностями (NE + левый сосед / NE + правый сосед)"
      ]
    },
    {
      "cell_type": "code",
      "metadata": {
        "id": "-6w47AG_yaM_"
      },
      "source": [
        "import string"
      ],
      "execution_count": 523,
      "outputs": []
    },
    {
      "cell_type": "code",
      "metadata": {
        "id": "EojOEeC1zdgT"
      },
      "source": [
        "# би-граммы для сущностей\n",
        "\n",
        "def got_ner_grams(sentence, entities=ent_in_texts):\n",
        "    \n",
        "    all_grams = []\n",
        "    new_data = zip(sentence, entities)\n",
        "    \n",
        "    for s, e in tqdm(new_data):\n",
        "        text_bigrams = []\n",
        "        new_s = s.replace('  ', ' ')\n",
        "        sent = new_s.split(' ')\n",
        "        for w in e:\n",
        "\n",
        "            # чтобы были би-граммы допускаем отступы\n",
        "            entit = str(' ' + w + ' ')\n",
        "\n",
        "            if entit in new_s:\n",
        "                start = new_s.find(entit)\n",
        "                end = start + len(w) + 1\n",
        "                # print(s.find(w), w, s)\n",
        "                # print(s[start:end])\n",
        "                right = new_s[:start].split(' ')\n",
        "                # print(right)\n",
        "                left = new_s[end+1:].split(' ')\n",
        "                # print(left)\n",
        "                bg_r = (right[-1], w)\n",
        "                bg_l = (w, left[0])\n",
        "                # print(bg_r, bg_l)\n",
        "\n",
        "                # исключаем штуки, когда в не + сосед пустые\n",
        "                if bg_l[1] != '' and bg_r[0] != '':\n",
        "                    text_bigrams.append(bg_r)\n",
        "                    text_bigrams.append(bg_l)\n",
        "    \n",
        "        all_grams.append(text_bigrams)\n",
        "\n",
        "    return all_grams   "
      ],
      "execution_count": 544,
      "outputs": []
    },
    {
      "cell_type": "code",
      "metadata": {
        "colab": {
          "base_uri": "https://localhost:8080/",
          "height": 66,
          "referenced_widgets": [
            "4404b1eb1b894227a5e7276fedea8c05",
            "35d26f0ce7a24b1a83a9d44009226214",
            "07a4391a0d80437d9488fd3c94f009cd",
            "57531aae5fe743e4a59a625cdcbb325b",
            "0bc12cb2ff6548909764076a88811deb",
            "a3555553b9da45009e6b843247d218c5",
            "fe51972c4ee04b07aa4b8cf7f79eea0a",
            "de3cb4fda8c84fcda486c3300873adb4"
          ]
        },
        "id": "xR7ixnXgwxsh",
        "outputId": "503a0eb8-e9f8-400c-fba9-268680a6ef4e"
      },
      "source": [
        "n_grams_ent = got_ner_grams(all_clean_texts)"
      ],
      "execution_count": 545,
      "outputs": [
        {
          "output_type": "display_data",
          "data": {
            "application/vnd.jupyter.widget-view+json": {
              "model_id": "4404b1eb1b894227a5e7276fedea8c05",
              "version_minor": 0,
              "version_major": 2
            },
            "text/plain": [
              "HBox(children=(FloatProgress(value=1.0, bar_style='info', max=1.0), HTML(value='')))"
            ]
          },
          "metadata": {
            "tags": []
          }
        },
        {
          "output_type": "stream",
          "text": [
            "\n"
          ],
          "name": "stdout"
        }
      ]
    },
    {
      "cell_type": "code",
      "metadata": {
        "id": "cM0V2W4hAOa7"
      },
      "source": [
        "df['bi_grams'] = n_grams_ent"
      ],
      "execution_count": 546,
      "outputs": []
    },
    {
      "cell_type": "code",
      "metadata": {
        "id": "bXVBWwqhCJZL"
      },
      "source": [
        "# три-граммы для сущностей\n",
        "\n",
        "def got_ner_grams_2(sentence, entities=ent_in_texts):\n",
        "    \n",
        "    all_grams = []\n",
        "    new_data = zip(sentence, entities)\n",
        "    \n",
        "    for s, e in tqdm(new_data):\n",
        "        text_bigrams = []\n",
        "        new_s = s.replace('  ', ' ')\n",
        "        sent = new_s.split(' ')\n",
        "        for w in e:\n",
        "\n",
        "            # чтобы были би-граммы допускаем отступы\n",
        "            entit = str(' ' + w + ' ')\n",
        "\n",
        "            if entit in new_s:\n",
        "                start = new_s.find(entit)\n",
        "                end = start + len(w) + 1\n",
        "                # контексты\n",
        "                right = new_s[:start].split(' ')\n",
        "                left = new_s[end+1:].split(' ')\n",
        "                try:\n",
        "                    bg_r = (right[-2], right[-1], w)\n",
        "                    bg_l = (w, left[0], left[1])\n",
        "\n",
        "                    middle = (right[-1], w, left[0])\n",
        "\n",
        "                    # исключаем штуки, когда в не + сосед пустые\n",
        "                    if (bg_l[1] != '' and bg_r[0] != '' \n",
        "                        and bg_l[2] != '' and bg_r[1] != ''):\n",
        "                        text_bigrams.append(bg_r)\n",
        "                        text_bigrams.append(bg_l)\n",
        "                        text_bigrams.append(middle)\n",
        "                except :\n",
        "                    pass\n",
        "        \n",
        "        all_grams.append(text_bigrams)\n",
        "\n",
        "    return all_grams   "
      ],
      "execution_count": 547,
      "outputs": []
    },
    {
      "cell_type": "code",
      "metadata": {
        "colab": {
          "base_uri": "https://localhost:8080/",
          "height": 66,
          "referenced_widgets": [
            "3d03b60b2ef149f0adb87942266ef16a",
            "24a40bddccb84c3bb00ff6e8a2f45d62",
            "fdb2a2e267b04118a8adb28bd6801280",
            "6a76cf2a420e4ac4a486de3453c1de9b",
            "34d3a69f72fa4deaa3985b712c78eedd",
            "958789c6b8ce42b198f3af2796274464",
            "a7f1d849d3204d7ba76718dddb504b0e",
            "7b54689e606b4a4c96a5fe7c73884b8a"
          ]
        },
        "id": "nCbwuxzlCxVo",
        "outputId": "9ba3362a-e964-4c63-dd02-3ba69f51e7f9"
      },
      "source": [
        "trigrams_texts = got_ner_grams_2(all_clean_texts)"
      ],
      "execution_count": 548,
      "outputs": [
        {
          "output_type": "display_data",
          "data": {
            "application/vnd.jupyter.widget-view+json": {
              "model_id": "3d03b60b2ef149f0adb87942266ef16a",
              "version_minor": 0,
              "version_major": 2
            },
            "text/plain": [
              "HBox(children=(FloatProgress(value=1.0, bar_style='info', max=1.0), HTML(value='')))"
            ]
          },
          "metadata": {
            "tags": []
          }
        },
        {
          "output_type": "stream",
          "text": [
            "\n"
          ],
          "name": "stdout"
        }
      ]
    },
    {
      "cell_type": "code",
      "metadata": {
        "id": "92dP7YbTDib_"
      },
      "source": [
        "df['tri_grams'] = trigrams_texts"
      ],
      "execution_count": 549,
      "outputs": []
    },
    {
      "cell_type": "code",
      "metadata": {
        "colab": {
          "base_uri": "https://localhost:8080/",
          "height": 714
        },
        "id": "qHFX6Ct5A-_N",
        "outputId": "b24ee506-6a2f-407c-bcb3-9bc8d12a8b2b"
      },
      "source": [
        "df.tail()"
      ],
      "execution_count": 550,
      "outputs": [
        {
          "output_type": "execute_result",
          "data": {
            "text/html": [
              "<div>\n",
              "<style scoped>\n",
              "    .dataframe tbody tr th:only-of-type {\n",
              "        vertical-align: middle;\n",
              "    }\n",
              "\n",
              "    .dataframe tbody tr th {\n",
              "        vertical-align: top;\n",
              "    }\n",
              "\n",
              "    .dataframe thead th {\n",
              "        text-align: right;\n",
              "    }\n",
              "</style>\n",
              "<table border=\"1\" class=\"dataframe\">\n",
              "  <thead>\n",
              "    <tr style=\"text-align: right;\">\n",
              "      <th></th>\n",
              "      <th>title</th>\n",
              "      <th>helpfulness</th>\n",
              "      <th>score</th>\n",
              "      <th>summary</th>\n",
              "      <th>text</th>\n",
              "      <th>enteties</th>\n",
              "      <th>clean_text</th>\n",
              "      <th>clean_enteties</th>\n",
              "      <th>bi_grams</th>\n",
              "      <th>tri_grams</th>\n",
              "    </tr>\n",
              "  </thead>\n",
              "  <tbody>\n",
              "    <tr>\n",
              "      <th>78925</th>\n",
              "      <td>Sony Ericsson Bluetooth HBH-PV700 Headset - DP...</td>\n",
              "      <td>9/9</td>\n",
              "      <td>4.0</td>\n",
              "      <td>great sound quality, good battery life, averag...</td>\n",
              "      <td>I got this headset because I like the SonyEric...</td>\n",
              "      <td>[connect, Battery, A, headset, battery, Ericss...</td>\n",
              "      <td>i got headset i like sonyericsson brand price ...</td>\n",
              "      <td>[connect, battery, a, headset, battery, ericss...</td>\n",
              "      <td>[(headset, connect), (connect, automatically),...</td>\n",
              "      <td>[(phone, headset, connect), (connect, automati...</td>\n",
              "    </tr>\n",
              "    <tr>\n",
              "      <th>78926</th>\n",
              "      <td>Sony Ericsson Bluetooth HBH-PV700 Headset - DP...</td>\n",
              "      <td>2/2</td>\n",
              "      <td>4.0</td>\n",
              "      <td>Excellent quality at an affordable price</td>\n",
              "      <td>I have owned this product for over two weeks n...</td>\n",
              "      <td>[Sony Ericsson, A, W, headset, charger, phones...</td>\n",
              "      <td>i owned product two weeks sony ericsson w710i ...</td>\n",
              "      <td>[sony ericsson, a, w, headset, charger, phones...</td>\n",
              "      <td>[(weeks, Sony Ericsson), (Sony Ericsson, W710i...</td>\n",
              "      <td>[(two, weeks, Sony Ericsson), (Sony Ericsson, ...</td>\n",
              "    </tr>\n",
              "    <tr>\n",
              "      <th>78927</th>\n",
              "      <td>Sony Ericsson Bluetooth HBH-PV700 Headset - DP...</td>\n",
              "      <td>0/0</td>\n",
              "      <td>5.0</td>\n",
              "      <td>Sony Ericsson Bluetooth HBH-PV700 Headset - DP...</td>\n",
              "      <td>I bought this item for my husband. He really l...</td>\n",
              "      <td>[item]</td>\n",
              "      <td>i bought item husband he really likes he sheri...</td>\n",
              "      <td>[item]</td>\n",
              "      <td>[(bought, item), (item, husband)]</td>\n",
              "      <td>[(I, bought, item), (item, husband, He), (boug...</td>\n",
              "    </tr>\n",
              "    <tr>\n",
              "      <th>78928</th>\n",
              "      <td>Sony Ericsson Bluetooth HBH-PV700 Headset - DP...</td>\n",
              "      <td>0/0</td>\n",
              "      <td>5.0</td>\n",
              "      <td>works great, competitively priced</td>\n",
              "      <td>I bought this item after I shopped in the loca...</td>\n",
              "      <td>[item, headset, battery, Cingular, phone]</td>\n",
              "      <td>i bought item i shopped local cingular store i...</td>\n",
              "      <td>[item, headset, battery, cingular, phone]</td>\n",
              "      <td>[(bought, item), (item, I), (nice, headset), (...</td>\n",
              "      <td>[(I, bought, item), (item, I, shopped), (bough...</td>\n",
              "    </tr>\n",
              "    <tr>\n",
              "      <th>78929</th>\n",
              "      <td>Sony Ericsson Bluetooth HBH-PV700 Headset - DP...</td>\n",
              "      <td>0/0</td>\n",
              "      <td>5.0</td>\n",
              "      <td>Sony Ericsson Bluetooth HBH-PV700 Headset</td>\n",
              "      <td>I have tried a number of bluetooth earpieces, ...</td>\n",
              "      <td>[connect, bluetooth, phone, earpiece, product]</td>\n",
              "      <td>i tried number bluetooth earpieces one tops pe...</td>\n",
              "      <td>[connect, bluetooth, phone, earpiece, product]</td>\n",
              "      <td>[(number, bluetooth), (bluetooth, earpieces), ...</td>\n",
              "      <td>[(tried, number, bluetooth), (bluetooth, earpi...</td>\n",
              "    </tr>\n",
              "  </tbody>\n",
              "</table>\n",
              "</div>"
            ],
            "text/plain": [
              "                                                   title  ...                                          tri_grams\n",
              "78925  Sony Ericsson Bluetooth HBH-PV700 Headset - DP...  ...  [(phone, headset, connect), (connect, automati...\n",
              "78926  Sony Ericsson Bluetooth HBH-PV700 Headset - DP...  ...  [(two, weeks, Sony Ericsson), (Sony Ericsson, ...\n",
              "78927  Sony Ericsson Bluetooth HBH-PV700 Headset - DP...  ...  [(I, bought, item), (item, husband, He), (boug...\n",
              "78928  Sony Ericsson Bluetooth HBH-PV700 Headset - DP...  ...  [(I, bought, item), (item, I, shopped), (bough...\n",
              "78929  Sony Ericsson Bluetooth HBH-PV700 Headset - DP...  ...  [(tried, number, bluetooth), (bluetooth, earpi...\n",
              "\n",
              "[5 rows x 10 columns]"
            ]
          },
          "metadata": {
            "tags": []
          },
          "execution_count": 550
        }
      ]
    },
    {
      "cell_type": "markdown",
      "metadata": {
        "id": "Ey1E-Xacch_W"
      },
      "source": [
        "### (3 балла) Ранжируйте n-граммы с помощью 3 коллокационных метрик (t-score, PMI и т.д.)."
      ]
    },
    {
      "cell_type": "markdown",
      "metadata": {
        "id": "hKjlZi74YdBE"
      },
      "source": [
        "Мне в данной задаче кажется важным не приводить то, что в н-граммах к нижнему регистру, поэтому, все, что именованные сущности оставим такими какие есть, а все, что выделилось в н-граммах сделаем нижним регистром."
      ]
    },
    {
      "cell_type": "code",
      "metadata": {
        "id": "2C5fMnlKNBx7"
      },
      "source": [
        "all_bi_grams = []\n",
        "\n",
        "for g in n_grams_ent:\n",
        "    for b in g:\n",
        "        w1 = b[0]\n",
        "        w2 = b[1]\n",
        "        if w1 not in fin_ent:\n",
        "            w1 = w1.lower()\n",
        "        if w2 not in fin_ent:\n",
        "            w2 = w2.lower()\n",
        "        all_bi_grams.append((w1, w2))"
      ],
      "execution_count": 551,
      "outputs": []
    },
    {
      "cell_type": "code",
      "metadata": {
        "colab": {
          "base_uri": "https://localhost:8080/"
        },
        "id": "vreh72hkNNX-",
        "outputId": "48fb3c9e-7efb-4b9b-af90-5c5b4c9d7519"
      },
      "source": [
        "all_bi_grams[-100:-75]"
      ],
      "execution_count": 555,
      "outputs": [
        {
          "output_type": "execute_result",
          "data": {
            "text/plain": [
              "[('bling', 'camera'),\n",
              " ('camera', 'mp3'),\n",
              " ('mp3', 'bluetooth'),\n",
              " ('bluetooth', 'whatever'),\n",
              " ('the', 'battery'),\n",
              " ('battery', 'life'),\n",
              " ('former', 'Nokia'),\n",
              " ('Nokia', 'loyalist'),\n",
              " ('well', 'One'),\n",
              " ('One', 'important'),\n",
              " ('bought', 'Samsung t219'),\n",
              " ('Samsung t219', 'replacement'),\n",
              " ('replacement', 'phone'),\n",
              " ('phone', 'existing'),\n",
              " ('jack', 'Samsung'),\n",
              " ('Samsung', 'sells'),\n",
              " ('interest', 'A'),\n",
              " ('A', 'couple'),\n",
              " ('phone', 'camera'),\n",
              " ('camera', 'bluetooth'),\n",
              " ('proprietary', 'headset'),\n",
              " ('headset', 'jack'),\n",
              " ('camera', 'bluetooth'),\n",
              " ('bluetooth', 'i'),\n",
              " ('doubles', 'charger')]"
            ]
          },
          "metadata": {
            "tags": []
          },
          "execution_count": 555
        }
      ]
    },
    {
      "cell_type": "markdown",
      "metadata": {
        "id": "rReeTJI9oAxT"
      },
      "source": [
        "Вроде получилось неплохо, у нас выделяются штуки типа названий и того, к чему принадлежит объект (телефон, камера, наушники и т.д.)"
      ]
    },
    {
      "cell_type": "markdown",
      "metadata": {
        "id": "rOUjslwegza_"
      },
      "source": [
        "Вообще, здесь можно было бы лемматизировать тексты (и я хотела это сделать еще в начале), но решила оставить препроцессинг на уровне удаления пунктуации, так как у меня есть ощущение (особенно, что касается s на конце слов), что с названиями это могло все испортить (а нам нужно выделить именно устройства типа  \"Samsung Galaxy Watch\" и просто \"watch\", при том, что разные модели устройств могут идти в каких-то нестандартных формах, я побоялась делать лемматизацию, а разные модели могут отличаться только окнчанием)"
      ]
    },
    {
      "cell_type": "code",
      "metadata": {
        "id": "Hrmp8eHqQXgE"
      },
      "source": [
        "from nltk.collocations import *\n",
        "bigram_measures = nltk.collocations.BigramAssocMeasures()\n",
        "# trigram_measures = nltk.collocations.TrigramAssocMeasures()"
      ],
      "execution_count": 446,
      "outputs": []
    },
    {
      "cell_type": "code",
      "metadata": {
        "id": "15Tc3XDZPrpC"
      },
      "source": [
        "bigram_measures = nltk.collocations.BigramAssocMeasures()"
      ],
      "execution_count": 443,
      "outputs": []
    },
    {
      "cell_type": "code",
      "metadata": {
        "id": "5ODZMZdYQgp6"
      },
      "source": [
        "finder2 = BigramCollocationFinder.from_documents(all_bi_grams)"
      ],
      "execution_count": 558,
      "outputs": []
    },
    {
      "cell_type": "code",
      "metadata": {
        "colab": {
          "base_uri": "https://localhost:8080/"
        },
        "id": "N3EZAVB2Q5gD",
        "outputId": "6d7b89d9-8071-4f7b-f5e2-d0d65d0be946"
      },
      "source": [
        "finder2"
      ],
      "execution_count": 450,
      "outputs": [
        {
          "output_type": "execute_result",
          "data": {
            "text/plain": [
              "<nltk.collocations.BigramCollocationFinder at 0x7f73ec2eec88>"
            ]
          },
          "metadata": {
            "tags": []
          },
          "execution_count": 450
        }
      ]
    },
    {
      "cell_type": "code",
      "metadata": {
        "id": "hK78gWtCtZGh"
      },
      "source": [
        "# из семинара стащила частотный фильтр\n",
        "finder2.apply_freq_filter(10)"
      ],
      "execution_count": 561,
      "outputs": []
    },
    {
      "cell_type": "markdown",
      "metadata": {
        "id": "cZUDN2TFxuLX"
      },
      "source": [
        "Тут мне было не очень понятно, как лучше это делать: смотреть на уже выделенные н-граммы или искать н-граммы просто в текстах без учета того, что мы собрали. Мне кажется, что лучше всего было бы сделать это на тех н-граммах (би-граммах), которые уже были извлечены нами ранее. Поэтому я смотрела на них, мне кажется в условии данной задачи это правильнее"
      ]
    },
    {
      "cell_type": "markdown",
      "metadata": {
        "id": "CJViQbWeCCeP"
      },
      "source": [
        "#### likelihood_ratio"
      ]
    },
    {
      "cell_type": "code",
      "metadata": {
        "colab": {
          "base_uri": "https://localhost:8080/"
        },
        "id": "eWjM_rVmQatE",
        "outputId": "c37c5595-2116-42b1-80f5-52ece6df7f51"
      },
      "source": [
        "# выведу первые 50, чтобы не мешало\n",
        "finder2.score_ngrams(bigram_measures.likelihood_ratio)[:50]"
      ],
      "execution_count": 577,
      "outputs": [
        {
          "output_type": "execute_result",
          "data": {
            "text/plain": [
              "[(('battery', 'life'), 20231.796016069064),\n",
              " (('phone', 'phone'), 18082.83905979449),\n",
              " (('Sony', 'Ericsson'), 14336.404121248772),\n",
              " (('t', 'Mobile'), 14084.157095341809),\n",
              " (('cell', 'phone'), 12427.711728176233),\n",
              " (('Treo', '650'), 8770.958857478607),\n",
              " (('5', 'stars'), 7286.2469645553265),\n",
              " (('bluetooth', 'headset'), 7095.908023242313),\n",
              " (('Battery', 'life'), 6991.347652103896),\n",
              " (('car', 'charger'), 6051.774128261226),\n",
              " (('Voyager', '510'), 5884.195270105772),\n",
              " (('phone', 'product'), 4950.817054240096),\n",
              " (('product', 'phone'), 4854.4014627654815),\n",
              " (('USB', 'cable'), 4194.430561800289),\n",
              " (('headset', 'phone'), 4155.04488196241),\n",
              " (('battery', 'phone'), 4082.098860989531),\n",
              " (('plantronics', 'Voyager'), 3975.189226819174),\n",
              " (('SD', 'card'), 3752.59411328487),\n",
              " (('phone', 'headset'), 3660.5723499185506),\n",
              " (('phone', 'phones'), 3562.0721807702853),\n",
              " (('Plantronics Voyager', '510'), 3236.984905197439),\n",
              " (('phones', 'phone'), 3223.8975787640234),\n",
              " (('4', '5'), 3063.8737323502737),\n",
              " (('this', 'product'), 3029.1230280817917),\n",
              " (('bluetooth', 'headsets'), 3004.8380242635476),\n",
              " (('headphone', 'jack'), 2741.064682824405),\n",
              " (('Treo', '600'), 2727.893316355485),\n",
              " (('Razr', 'V3'), 2715.494479720171),\n",
              " (('5', 'phone'), 2625.0253474945102),\n",
              " (('cell', 'phones'), 2616.7037199851684),\n",
              " (('bluetooth', 'phone'), 2428.524420672806),\n",
              " (('phone', 'battery'), 2404.020147841721),\n",
              " (('the', 'camera'), 2374.1318660730217),\n",
              " (('phone', 'bluetooth'), 2357.847775388559),\n",
              " (('One', 'thing'), 2271.863763803872),\n",
              " (('RAZR', 'V3'), 2195.773776964239),\n",
              " (('the', 'battery'), 2149.893856160525),\n",
              " (('windows', 'Mobile'), 2075.5948165373907),\n",
              " (('phone', 'Motorola'), 2047.2218773228556),\n",
              " (('charger', 'phone'), 2003.0449997168034),\n",
              " (('Verizon', 'Wireless'), 1967.0143579555413),\n",
              " (('great', 'product'), 1962.9512463739607),\n",
              " (('Blackberry', 'Pearl'), 1949.8772112314323),\n",
              " (('mini', 'USB'), 1913.6123338307702),\n",
              " (('USB', 'port'), 1862.370673714537),\n",
              " (('Sprint', 'PCS'), 1825.6372587055016),\n",
              " (('phone', 'i'), 1819.618467485133),\n",
              " (('virgin', 'Mobile'), 1804.312855074847),\n",
              " (('By', 'way'), 1796.7752766812891),\n",
              " (('Wi', 'fi'), 1767.2184096797507)]"
            ]
          },
          "metadata": {
            "tags": []
          },
          "execution_count": 577
        }
      ]
    },
    {
      "cell_type": "markdown",
      "metadata": {
        "id": "57uOWT0FVTMl"
      },
      "source": [
        "#### PMI"
      ]
    },
    {
      "cell_type": "code",
      "metadata": {
        "colab": {
          "base_uri": "https://localhost:8080/"
        },
        "id": "1ha4wW7ytWo0",
        "outputId": "d2cbe138-9557-431b-be9b-85836e6bc526"
      },
      "source": [
        "finder2.score_ngrams(bigram_measures.pmi)[:50]"
      ],
      "execution_count": 565,
      "outputs": [
        {
          "output_type": "execute_result",
          "data": {
            "text/plain": [
              "[(('stowaway', 'Ultra Slim'), 14.14424010358553),\n",
              " (('aliph', 'Jawbone Noise'), 13.910015921891738),\n",
              " (('Jawbone Noise', 'shield'), 13.333024132279162),\n",
              " (('Leopard', 'print'), 12.9120666614565),\n",
              " (('RIZR', 'z3'), 12.702730392945497),\n",
              " (('Palm Tungsten', 'e2'), 12.69749374457935),\n",
              " (('Honda', 'accord'), 12.468077788481528),\n",
              " (('Honda', 'civic'), 12.342546906397668),\n",
              " (('Motorola Mobile Phone', 'tools'), 12.247050909169312),\n",
              " (('flexible', 'Boom Headset'), 12.132167271284958),\n",
              " (('Panasonic', 'kx'), 11.754077272945722),\n",
              " (('655', 'DSP'), 11.729202604306689),\n",
              " (('earwave', 'Boom'), 11.712461930963272),\n",
              " (('Cardo Systems', 'scala'), 11.520255714035192),\n",
              " (('ppc', '6700'), 11.477663837310725),\n",
              " (('Home', 'depot'), 11.412168116115595),\n",
              " (('Silicone', 'Skin'), 11.39966132530945),\n",
              " (('ultra', 'Slim'), 11.375329857415435),\n",
              " (('Wi', 'fi'), 11.21476762727577),\n",
              " (('Logitech Mobile', 'freedom'), 11.121520027085447),\n",
              " (('Explorer', '330'), 11.051846499278641),\n",
              " (('Explorer', '340'), 11.042568685690627),\n",
              " (('li', 'Ion'), 10.990738884314387),\n",
              " (('s', 'Pen'), 10.965689855528924),\n",
              " (('Series', '60'), 10.945442798661546),\n",
              " (('Explorer', '320'), 10.89056559224558),\n",
              " (('Wi', 'ex'), 10.853692956204158),\n",
              " (('AOL', 'instant'), 10.835432930431615),\n",
              " (('hp', 'IPAQ'), 10.811664764498662),\n",
              " (('lithium', 'Ion'), 10.77338205287524),\n",
              " (('google', 'Nexus'), 10.75228621741973),\n",
              " (('Dual', 'band'), 10.724353204645295),\n",
              " (('Samsung Galaxy', 'note'), 10.61383323984093),\n",
              " (('flexible', 'Boom'), 10.577470719630348),\n",
              " (('yahoo', 'AOL'), 10.557751748633414),\n",
              " (('Siemens', 'sx66'), 10.525808285272605),\n",
              " (('essentials', 'Kit'), 10.4604545472785),\n",
              " (('High', 'speed'), 10.428033069586121),\n",
              " (('krzr', 'K1'), 10.427966694529596),\n",
              " (('SGH', 'a707'), 10.401560858224936),\n",
              " (('BlueAnt', 'supertooth'), 10.394424676943304),\n",
              " (('Explorer', '350'), 10.283576785194423),\n",
              " (('BlueAnt', 'x3'), 10.25692115319337),\n",
              " (('V', 'cast'), 10.21908907966763),\n",
              " (('Antenna', 'booster'), 10.214629431476931),\n",
              " (('SLVR', 'l7'), 10.141526960570712),\n",
              " (('CAR', 'CHARGER'), 10.13056516668846),\n",
              " (('Card', 'reader'), 10.00257895436194),\n",
              " (('5100', '6100'), 9.985573279859471),\n",
              " (('Sanyo', '4900'), 9.941610937070514)]"
            ]
          },
          "metadata": {
            "tags": []
          },
          "execution_count": 565
        }
      ]
    },
    {
      "cell_type": "markdown",
      "metadata": {
        "id": "5xbW5nHjVUnP"
      },
      "source": [
        "#### Dice"
      ]
    },
    {
      "cell_type": "code",
      "metadata": {
        "colab": {
          "base_uri": "https://localhost:8080/"
        },
        "id": "KgPZ5VrQVYuV",
        "outputId": "2fb0250f-abfe-4a63-c921-a48bbea23584"
      },
      "source": [
        "finder2.score_ngrams(bigram_measures.dice)[:50]"
      ],
      "execution_count": 566,
      "outputs": [
        {
          "output_type": "execute_result",
          "data": {
            "text/plain": [
              "[(('stowaway', 'Ultra Slim'), 0.5614035087719298),\n",
              " (('aliph', 'Jawbone Noise'), 0.5428571428571428),\n",
              " (('Wi', 'fi'), 0.5333333333333333),\n",
              " (('Jawbone Noise', 'shield'), 0.5116279069767442),\n",
              " (('Voyager', '510'), 0.4412470023980815),\n",
              " (('Sony', 'Ericsson'), 0.43093649617000246),\n",
              " (('t', 'Mobile'), 0.4210388247639035),\n",
              " (('Logitech Mobile', 'freedom'), 0.36428571428571427),\n",
              " (('SD', 'card'), 0.3619861185264282),\n",
              " (('Plantronics Voyager', '510'), 0.3554778554778555),\n",
              " (('plantronics', 'Voyager'), 0.3383816529640848),\n",
              " (('ppc', '6700'), 0.33035714285714285),\n",
              " (('li', 'Ion'), 0.3021978021978022),\n",
              " (('flexible', 'Boom Headset'), 0.2982456140350877),\n",
              " (('RIZR', 'z3'), 0.29411764705882354),\n",
              " (('Treo', '650'), 0.29276513783556035),\n",
              " (('Samsung Galaxy', 'note'), 0.29080118694362017),\n",
              " (('Palm Tungsten', 'e2'), 0.25316455696202533),\n",
              " (('Dual', 'band'), 0.25287356321839083),\n",
              " (('Belt', 'Clip'), 0.25092250922509224),\n",
              " (('lithium', 'Ion'), 0.25),\n",
              " (('Battery', 'life'), 0.2475526049285473),\n",
              " (('Blue', 'tooth'), 0.24277456647398843),\n",
              " (('krzr', 'K1'), 0.23728813559322035),\n",
              " (('By', 'way'), 0.22920517560073936),\n",
              " (('Motorola Mobile Phone', 'tools'), 0.22807017543859648),\n",
              " (('battery', 'life'), 0.2250202356327008),\n",
              " (('Leopard', 'print'), 0.2247191011235955),\n",
              " (('Honda', 'accord'), 0.21301775147928995),\n",
              " (('Silicone', 'Skin'), 0.20689655172413793),\n",
              " (('LCD', 'screen'), 0.2030264817150063),\n",
              " (('SLVR', 'l7'), 0.20272904483430798),\n",
              " (('windows', 'Media Player'), 0.20053475935828877),\n",
              " (('headphone', 'jack'), 0.1999272991639404),\n",
              " (('Blue', 'ant'), 0.19488188976377951),\n",
              " (('micro', 'SD'), 0.1888680425265791),\n",
              " (('V', 'cast'), 0.18777943368107303),\n",
              " (('Cardo Systems', 'scala'), 0.176),\n",
              " (('AOL', 'instant'), 0.1758957654723127),\n",
              " (('BlueAnt', 'supertooth'), 0.17564870259481039),\n",
              " (('USB', 'cable'), 0.16654252942052733),\n",
              " (('Car', 'Charger'), 0.16153205661948378),\n",
              " (('Belt', 'clip'), 0.16101694915254236),\n",
              " (('ultra', 'Slim'), 0.15833333333333333),\n",
              " (('CAR', 'CHARGER'), 0.1568627450980392),\n",
              " (('earwave', 'Boom'), 0.1552511415525114),\n",
              " (('Explorer', '320'), 0.15384615384615385),\n",
              " (('flexible', 'Boom'), 0.15139442231075698),\n",
              " (('Razr', 'V3'), 0.15028712059064808),\n",
              " (('Portable', 'Handsfree'), 0.14925373134328357)]"
            ]
          },
          "metadata": {
            "tags": []
          },
          "execution_count": 566
        }
      ]
    },
    {
      "cell_type": "markdown",
      "metadata": {
        "id": "Bg6YnC2EwXSn"
      },
      "source": [
        "#### Хи-квадрат"
      ]
    },
    {
      "cell_type": "code",
      "metadata": {
        "colab": {
          "base_uri": "https://localhost:8080/"
        },
        "id": "VZv6MKb4wS9g",
        "outputId": "e4db3d17-6b99-4e4b-9ea3-2f918cb6ce15"
      },
      "source": [
        "finder2.score_ngrams(bigram_measures.chi_sq)[:50]"
      ],
      "execution_count": 567,
      "outputs": [
        {
          "output_type": "execute_result",
          "data": {
            "text/plain": [
              "[(('aliph', 'Jawbone Noise'), 292458.83110053156),\n",
              " (('stowaway', 'Ultra Slim'), 289695.3224897194),\n",
              " (('Wi', 'fi'), 275609.86358230334),\n",
              " (('Jawbone Noise', 'shield'), 226998.170489869),\n",
              " (('t', 'Mobile'), 179787.1344402095),\n",
              " (('Voyager', '510'), 174700.5752667685),\n",
              " (('Sony', 'Ericsson'), 164662.65377383662),\n",
              " (('SD', 'card'), 134881.75349438502),\n",
              " (('Logitech Mobile', 'freedom'), 113562.12364016681),\n",
              " (('li', 'Ion'), 111856.85822159881),\n",
              " (('Plantronics Voyager', '510'), 109663.93321851181),\n",
              " (('plantronics', 'Voyager'), 108973.06228185866),\n",
              " (('ppc', '6700'), 105470.71923300637),\n",
              " (('Honda', 'accord'), 101969.52284523832),\n",
              " (('RIZR', 'z3'), 99980.57126034568),\n",
              " (('Blue', 'ant'), 86834.38103630455),\n",
              " (('Treo', '650'), 81047.18330119137),\n",
              " (('battery', 'life'), 78984.98614720651),\n",
              " (('lithium', 'Ion'), 78706.39876501836),\n",
              " (('Leopard', 'print'), 77064.05398814661),\n",
              " (('Samsung Galaxy', 'note'), 76717.57747258781),\n",
              " (('flexible', 'Boom Headset'), 76288.58113809646),\n",
              " (('V', 'cast'), 75024.75487394133),\n",
              " (('Blue', 'tooth'), 67296.1670277827),\n",
              " (('Palm Tungsten', 'e2'), 66410.35725106797),\n",
              " (('headphone', 'jack'), 65749.49444238759),\n",
              " (('Motorola Mobile Phone', 'tools'), 63176.01149804693),\n",
              " (('BlueAnt', 'supertooth'), 59169.11877055121),\n",
              " (('SLVR', 'l7'), 58667.59885550405),\n",
              " (('Honda', 'civic'), 57119.58208838358),\n",
              " (('earwave', 'Boom'), 57030.0299890583),\n",
              " (('Dual', 'band'), 55780.818073410876),\n",
              " (('Belt', 'Clip'), 55510.747184449414),\n",
              " (('5', 'stars'), 54197.70251420065),\n",
              " (('micro', 'SD'), 53374.80712461641),\n",
              " (('Battery', 'life'), 52062.241017695815),\n",
              " (('Explorer', '320'), 51223.732832170404),\n",
              " (('Explorer', '330'), 50922.93754279119),\n",
              " (('ultra', 'Slim'), 50450.3190488998),\n",
              " (('AOL', 'instant'), 49298.58585571277),\n",
              " (('krzr', 'K1'), 48163.47884387375),\n",
              " (('By', 'way'), 47908.00143280995),\n",
              " (('Panasonic', 'kx'), 44889.58116976278),\n",
              " (('USB', 'cable'), 43472.69351249191),\n",
              " (('windows', 'Media Player'), 42238.109215934455),\n",
              " (('Home', 'depot'), 40862.66274499197),\n",
              " (('Silicone', 'Skin'), 40502.63821111489),\n",
              " (('scala', '700'), 40088.08890546081),\n",
              " (('pacific', 'Blue'), 39617.33624076017),\n",
              " (('LCD', 'screen'), 38804.803248642565)]"
            ]
          },
          "metadata": {
            "tags": []
          },
          "execution_count": 567
        }
      ]
    },
    {
      "cell_type": "markdown",
      "metadata": {
        "id": "B8Phk1VwunqK"
      },
      "source": [
        "#### Выводы\n",
        "\n",
        "\n",
        "\n",
        "\n",
        "*   Likelihood ratio кажется самым хорошим варинатом, если говорить о ранжировании (если просматривать выдачу топ результатов): у нас выдается много информации о телефонах, моделях и т.д. в самом верху (в других тоже этого много, но кажется, что мусора больше: появляются коллокации с номерами моделей в би-граммах, но выглядит это как-то не очень)\n",
        "\n",
        "*   Новый пункт\n",
        "\n"
      ]
    },
    {
      "cell_type": "markdown",
      "metadata": {
        "id": "eV1S8uJ7cqKJ"
      },
      "source": [
        "### (1 балл) Сгруппируйте полученные коллокации по NE, выведите примеры для 5 товаров."
      ]
    },
    {
      "cell_type": "markdown",
      "metadata": {
        "id": "mT_rhe86yTlC"
      },
      "source": [
        "Возьмем лучший варинат из прошлого пункта"
      ]
    },
    {
      "cell_type": "code",
      "metadata": {
        "id": "uFplkMfGyICT"
      },
      "source": [
        "# выведу первые 500\n",
        "l = finder2.score_ngrams(bigram_measures.likelihood_ratio)[:500]"
      ],
      "execution_count": 580,
      "outputs": []
    },
    {
      "cell_type": "code",
      "metadata": {
        "id": "gWXnBDYX0r-6"
      },
      "source": [
        "# выделим товары, которые точно есть в датасете\n",
        "\n",
        "group_d = {}\n",
        "\n",
        "# мы могли взять те нер, которые выделили мы, но для упрощения можно так\n",
        "device = ['phone', 'camera', 'watch', 'headset',\n",
        "          'battery', 'CD', 'adapter', 'bluetooth',\n",
        "          'card', 'car']\n",
        "\n",
        "\n",
        "# пройдемся по нашим результатам и выделим колокации по блокам\n",
        "for d in device:\n",
        "    list_gr = []\n",
        "    for el in l:\n",
        "        if d in el[0]:\n",
        "            list_gr.append(el[0])\n",
        "    group_d[d] = list_gr"
      ],
      "execution_count": 592,
      "outputs": []
    },
    {
      "cell_type": "markdown",
      "metadata": {
        "id": "l9s2DgZC07yu"
      },
      "source": [
        "Для 5 товаров"
      ]
    },
    {
      "cell_type": "code",
      "metadata": {
        "colab": {
          "base_uri": "https://localhost:8080/"
        },
        "id": "lVg0gaEi0JwK",
        "outputId": "a7851240-559b-414f-8618-f1b521eb75e9"
      },
      "source": [
        "group_d['watch']"
      ],
      "execution_count": 593,
      "outputs": [
        {
          "output_type": "execute_result",
          "data": {
            "text/plain": [
              "[('watch', 'movies'), ('watch', 'tv'), ('watch', 'videos')]"
            ]
          },
          "metadata": {
            "tags": []
          },
          "execution_count": 593
        }
      ]
    },
    {
      "cell_type": "code",
      "metadata": {
        "colab": {
          "base_uri": "https://localhost:8080/"
        },
        "id": "UjkRRF_o0xIJ",
        "outputId": "187dee9c-a401-4dc4-d8d3-6c5026bbd88c"
      },
      "source": [
        "group_d['adapter']"
      ],
      "execution_count": 594,
      "outputs": [
        {
          "output_type": "execute_result",
          "data": {
            "text/plain": [
              "[('AC', 'adapter'),\n",
              " ('cassette', 'adapter'),\n",
              " ('adapter', 'phone'),\n",
              " ('phone', 'adapter'),\n",
              " ('power', 'adapter')]"
            ]
          },
          "metadata": {
            "tags": []
          },
          "execution_count": 594
        }
      ]
    },
    {
      "cell_type": "code",
      "metadata": {
        "colab": {
          "base_uri": "https://localhost:8080/"
        },
        "id": "DgD_BN5N0zjL",
        "outputId": "1252848c-5ce0-467e-d04b-c49c663715fe"
      },
      "source": [
        "group_d['phone']"
      ],
      "execution_count": 597,
      "outputs": [
        {
          "output_type": "execute_result",
          "data": {
            "text/plain": [
              "[('phone', 'phone'),\n",
              " ('cell', 'phone'),\n",
              " ('phone', 'product'),\n",
              " ('product', 'phone'),\n",
              " ('headset', 'phone'),\n",
              " ('battery', 'phone'),\n",
              " ('phone', 'headset'),\n",
              " ('phone', 'phones'),\n",
              " ('phones', 'phone'),\n",
              " ('5', 'phone'),\n",
              " ('bluetooth', 'phone'),\n",
              " ('phone', 'battery'),\n",
              " ('phone', 'bluetooth'),\n",
              " ('phone', 'Motorola'),\n",
              " ('charger', 'phone'),\n",
              " ('phone', 'i'),\n",
              " ('phone', 'item'),\n",
              " ('item', 'phone'),\n",
              " ('phone', '5'),\n",
              " ('Motorola', 'phone'),\n",
              " ('phone', 'cell'),\n",
              " ('A', 'phone'),\n",
              " ('USB', 'phone'),\n",
              " ('got', 'phone'),\n",
              " ('phone', 'camera'),\n",
              " ('phone', 'charger'),\n",
              " ('Treo', 'phone'),\n",
              " ('phone', 'Nokia'),\n",
              " ('life', 'phone'),\n",
              " ('earpiece', 'phone'),\n",
              " ('phone', 'Treo'),\n",
              " ('adapter', 'phone'),\n",
              " ('phone', 'earpiece'),\n",
              " ('Sony', 'phone'),\n",
              " ('phone', 'adapter'),\n",
              " ('One', 'phone'),\n",
              " ('phone', 'calls'),\n",
              " ('phone', 'A'),\n",
              " ('phone', 'USB'),\n",
              " ('Palm', 'phone'),\n",
              " ('this', 'phone'),\n",
              " ('bought', 'phone'),\n",
              " ('phone', 'it'),\n",
              " ('Cingular', 'phone'),\n",
              " ('Verizon', 'phone'),\n",
              " ('camera', 'phone'),\n",
              " ('phone', 'RAZR'),\n",
              " ('phone', 'Razr'),\n",
              " ('phone', 'Samsung'),\n",
              " ('it', 'phone'),\n",
              " ('Blackberry', 'phone'),\n",
              " ('7', 'phone'),\n",
              " ('phone', 'Sony'),\n",
              " ('phone', 'Palm'),\n",
              " ('phone', 'connect'),\n",
              " ('love', 'phone'),\n",
              " ('black', 'phone'),\n",
              " ('phone', 'Blackberry'),\n",
              " ('phone', 'iPhone'),\n",
              " ('Mobile', 'phone'),\n",
              " ('phone', 'Battery'),\n",
              " ('phone', 'bought'),\n",
              " ('phone', 'black'),\n",
              " ('phone', 'LG'),\n",
              " ('iPod', 'phone'),\n",
              " ('650', 'phone'),\n",
              " ('speaker', 'phone'),\n",
              " ('mobile', 'phone'),\n",
              " ('t', 'phone'),\n",
              " ('phone', 'One'),\n",
              " ('Sprint', 'phone'),\n",
              " ('phone', 'Verizon'),\n",
              " ('Nokia', 'phone'),\n",
              " ('phone', 'Headset'),\n",
              " ('phone', 'this'),\n",
              " ('protect', 'phone'),\n",
              " ('phone', 'call'),\n",
              " ('works', 'phone'),\n",
              " ('phone', 'year'),\n",
              " ('protects', 'phone'),\n",
              " ('charge', 'phone'),\n",
              " ('phone', 'Cingular'),\n",
              " ('phone', 'pocket'),\n",
              " ('talking', 'phone'),\n",
              " ('phone', 'iPod'),\n",
              " ('phone', '7'),\n",
              " ('Samsung', 'phone'),\n",
              " ('phone', 'flash'),\n",
              " ('flash', 'phone'),\n",
              " ('jack', 'phone'),\n",
              " ('phone', 'case'),\n",
              " ('i', 'phone')]"
            ]
          },
          "metadata": {
            "tags": []
          },
          "execution_count": 597
        }
      ]
    },
    {
      "cell_type": "code",
      "metadata": {
        "colab": {
          "base_uri": "https://localhost:8080/"
        },
        "id": "kIpozydF01EN",
        "outputId": "54af2568-cdf7-40ba-9ebe-7a1655b764ea"
      },
      "source": [
        "group_d['camera']"
      ],
      "execution_count": 596,
      "outputs": [
        {
          "output_type": "execute_result",
          "data": {
            "text/plain": [
              "[('the', 'camera'),\n",
              " ('digital', 'camera'),\n",
              " ('camera', 'takes'),\n",
              " ('phone', 'camera'),\n",
              " ('camera', 'video'),\n",
              " ('megapixel', 'camera'),\n",
              " ('camera', 'lens'),\n",
              " ('camera', 'battery'),\n",
              " ('camera', 'phone'),\n",
              " ('built', 'camera'),\n",
              " ('i', 'camera'),\n",
              " ('2mp', 'camera'),\n",
              " ('phones', 'camera'),\n",
              " ('camera', 'charger'),\n",
              " ('camera', 'mp3'),\n",
              " ('vga', 'camera'),\n",
              " ('camera', 'button'),\n",
              " ('mp', 'camera'),\n",
              " ('bluetooth', 'camera')]"
            ]
          },
          "metadata": {
            "tags": []
          },
          "execution_count": 596
        }
      ]
    },
    {
      "cell_type": "code",
      "metadata": {
        "colab": {
          "base_uri": "https://localhost:8080/"
        },
        "id": "qNvviC3G0_Ei",
        "outputId": "428e9840-82bf-4aa8-8332-4769332c59a1"
      },
      "source": [
        "group_d['headset']"
      ],
      "execution_count": 598,
      "outputs": [
        {
          "output_type": "execute_result",
          "data": {
            "text/plain": [
              "[('bluetooth', 'headset'),\n",
              " ('headset', 'phone'),\n",
              " ('phone', 'headset'),\n",
              " ('battery', 'headset'),\n",
              " ('headset', 'headset'),\n",
              " ('headset', 'battery'),\n",
              " ('headset', 'product'),\n",
              " ('headset', 'i'),\n",
              " ('phones', 'headset'),\n",
              " ('headset', 'phones'),\n",
              " ('wireless', 'headset'),\n",
              " ('this', 'headset'),\n",
              " ('bt', 'headset'),\n",
              " ('headset', 'bluetooth'),\n",
              " ('5', 'headset'),\n",
              " ('headset', 'charger'),\n",
              " ('headset', 'works'),\n",
              " ('charger', 'headset'),\n",
              " ('wired', 'headset'),\n",
              " ('headset', '5'),\n",
              " ('headset', 'Motorola'),\n",
              " ('Motorola', 'headset'),\n",
              " ('using', 'headset'),\n",
              " ('Nokia', 'headset'),\n",
              " ('stereo', 'headset'),\n",
              " ('headset', 'comfortable'),\n",
              " ('A', 'headset'),\n",
              " ('bought', 'headset'),\n",
              " ('tooth', 'headset'),\n",
              " ('headset', 'A'),\n",
              " ('i', 'headset'),\n",
              " ('headset', 'Nokia'),\n",
              " ('headset', 'it'),\n",
              " ('headset', 'Samsung'),\n",
              " ('USB', 'headset'),\n",
              " ('headset', 'Verizon'),\n",
              " ('Samsung', 'headset'),\n",
              " ('headset', 'USB')]"
            ]
          },
          "metadata": {
            "tags": []
          },
          "execution_count": 598
        }
      ]
    },
    {
      "cell_type": "markdown",
      "metadata": {
        "id": "_VWExEXR1ErO"
      },
      "source": [
        "Для всех всех неров"
      ]
    },
    {
      "cell_type": "code",
      "metadata": {
        "id": "wHVJev0B1rPp"
      },
      "source": [
        "l_2 = finder2.score_ngrams(bigram_measures.likelihood_ratio)"
      ],
      "execution_count": 604,
      "outputs": []
    },
    {
      "cell_type": "code",
      "metadata": {
        "id": "TyozuAIk1HMq"
      },
      "source": [
        "# выделим товары, которые точно есть в датасете\n",
        "\n",
        "group_d_extra = {}\n",
        "\n",
        "# пройдемся по нашим результатам и выделим колокации по блокам\n",
        "for d in fin_ent:\n",
        "    list_gr = []\n",
        "    for el in l_2:\n",
        "        if d in el[0]:\n",
        "            # print(d)\n",
        "            list_gr.append(el[0])\n",
        "            l_2.remove(el)\n",
        "    if len(list_gr) >= 1:\n",
        "        group_d_extra[d] = list_gr"
      ],
      "execution_count": 608,
      "outputs": []
    },
    {
      "cell_type": "code",
      "metadata": {
        "colab": {
          "base_uri": "https://localhost:8080/"
        },
        "id": "-sVuBZ5i2v-Z",
        "outputId": "72371724-e1df-464d-b577-460ae789c3b3"
      },
      "source": [
        "# вывод для всех\n",
        "for k, v in group_d_extra.items():\n",
        "    cnt = 0\n",
        "    if cnt <= 1:\n",
        "        print(k, v)\n",
        "    cnt += 1"
      ],
      "execution_count": 617,
      "outputs": [
        {
          "output_type": "stream",
          "text": [
            "connect [('connect', 'computer')]\n",
            "Samsung [('Samsung', 'blackjack'), ('owned', 'Samsung')]\n",
            "A [('A', 'c'), ('its', 'A')]\n",
            "black [('shiny', 'black'), ('red', 'black')]\n",
            "Sprint [('went', 'Sprint')]\n",
            "camera [('vga', 'camera'), ('camera', '1'), ('camera', 'fine'), ('even', 'camera')]\n",
            "item [('item', 'this'), ('item', 'advertised'), ('item', 'defective'), ('item', 'still'), ('item', 'like')]\n",
            "headset [('headset', 'headset'), ('bt', 'headset'), ('headset', 'ear'), ('one', 'headset'), ('headset', 'based'), ('got', 'headset'), ('headset', 'performs'), ('headset', 'money'), ('headset', 'quite'), ('headset', 'seems'), ('included', 'headset'), ('headset', 'otherwise'), ('headset', 'finally'), ('headset', 'today'), ('ear', 'headset'), ('headset', 'however'), ('headset', 'they'), ('good', 'headset'), ('little', 'headset'), ('headset', 'though'), ('headset', 'wireless'), ('satisfied', 'headset'), ('headset', 'thought'), ('purchase', 'headset'), ('price', 'headset'), ('pair', 'headset'), ('need', 'headset'), ('headset', 'need'), ('headset', 'many'), ('sound', 'headset'), ('speaker', 'headset'), ('headset', 'make'), ('perfect', 'headset'), ('overall', 'headset')]\n",
            "bluetooth [('several', 'bluetooth'), ('bluetooth', 'stereo'), ('using', 'bluetooth'), ('bluetooth', 'set'), ('turn', 'bluetooth'), ('typical', 'bluetooth'), ('bluetooth', 'support'), ('experience', 'bluetooth'), ('bluetooth', 'functionality'), ('getting', 'bluetooth'), ('4', 'bluetooth'), ('music', 'bluetooth'), ('pair', 'bluetooth'), ('bluetooth', 'even'), ('want', 'bluetooth'), ('computer', 'bluetooth')]\n",
            "USB [('USB', 'port'), ('USB', 'cord')]\n",
            "charger [('home', 'charger'), ('plugged', 'charger'), ('charger', 'broke'), ('cradle', 'charger'), ('put', 'charger'), ('charger', 'instead'), ('charger', 'job'), ('charger', 'you'), ('charger', 'goes'), ('need', 'charger'), ('end', 'charger'), ('using', 'charger'), ('take', 'charger')]\n",
            "battery [('battery', 'this'), ('battery', 'runs'), ('battery', 'drains'), ('lasting', 'battery'), ('charged', 'battery'), ('great', 'battery'), ('removing', 'battery'), ('aa', 'battery'), ('battery', 'quickly'), ('ordered', 'battery'), ('replacing', 'battery'), ('battery', 'goes'), ('recharge', 'battery'), ('share', 'battery'), ('complained', 'battery'), ('battery', 'put'), ('battery', 'case'), ('battery', 'good'), ('battery', 'backup'), ('battery', 'shipped'), ('time', 'battery'), ('said', 'battery'), ('battery', 'issue'), ('battery', 'older'), ('battery', 'working'), ('size', 'battery'), ('open', 'battery'), ('battery', 'issues'), ('battery', 'need'), ('battery', 'so'), ('battery', 'needed'), ('but', 'battery'), ('battery', 'instead'), ('minutes', 'battery'), ('light', 'battery'), ('battery', 'week'), ('battery', 'perfect'), ('happy', 'battery')]\n",
            "Motorola [('Motorola', 'v600'), ('Motorola', 'h350'), ('purchased', 'Motorola'), ('better', 'Motorola'), ('Motorola', 'v60i'), ('Motorola', 'mpx'), ('fan', 'Motorola'), ('several', 'Motorola'), ('unit', 'Motorola'), ('fit', 'Motorola'), ('problems', 'Motorola'), ('plantronics', 'Motorola')]\n",
            "phones [('two', 'phones'), ('many', 'phones'), ('great', 'phones'), ('phones', 'years'), ('line', 'phones'), ('nextel', 'phones'), ('phones', 'ever'), ('phones', 'made'), ('phones', 'house'), ('phones', 'go'), ('phones', 'new'), ('phones', 'it'), ('enabled', 'phones'), ('phones', 'features'), ('phones', 'time'), ('switched', 'phones'), ('phones', 'my'), ('phones', 'free'), ('like', 'phones'), ('old', 'phones'), ('phones', 'as'), ('phones', 'take'), ('phones', 'far'), ('phones', 'bad'), ('phones', 'first')]\n",
            "PDA [('the', 'PDA')]\n",
            "Verizon [('local', 'Verizon'), ('service', 'Verizon'), ('Verizon', 'version')]\n",
            "Nokia [('Nokia', '6230'), ('Nokia', '6101'), ('Nokia', 'e61i'), ('Nokia', '6820'), ('Nokia', '8801'), ('original', 'Nokia')]\n",
            "One [('One', 'word'), ('One', 'reasons'), ('One', 'things'), ('One', 'week')]\n",
            "iPhone [('iPhone', 'i')]\n",
            "5 [('5', 'star'), ('5', 'months'), ('5', 'mm'), ('5', 'hrs'), ('5', 'i'), ('lasted', '5'), ('life', '5'), ('5', 'year'), ('5', '95'), ('9', '5'), ('5', '1'), ('last', '5'), ('day', '5'), ('5', 'cable'), ('time', '5')]\n",
            "phone [('got', 'phone'), ('phone', 'it'), ('mobile', 'phone'), ('phone', 'call'), ('charge', 'phone'), ('i', 'phone'), ('talk', 'phone'), ('answer', 'phone'), ('2', 'phone'), ('hold', 'phone'), ('phone', 'week'), ('phone', 'belt'), ('phone', 'love'), ('phone', 'use'), ('phone', 'conversations'), ('phone', 'really'), ('the', 'phone'), ('my', 'phone'), ('phone', 'got'), ('service', 'phone'), ('phone', 'lot'), ('phone', 'pretty'), ('phone', 'well'), ('phone', '2'), ('phone', 'could'), ('phone', 'right'), ('turn', 'phone'), ('phone', 'flip'), ('pairing', 'phone'), ('phone', 'little'), ('months', 'phone'), ('phone', 'every'), ('phone', 'power'), ('phone', 'however'), ('end', 'phone'), ('disconnected', 'phone'), ('phone', 'provider'), ('phone', 'couple'), ('phone', 'directory'), ('phone', 'motorola'), ('port', 'phone'), ('phone', 'you'), ('phone', 'lasts'), ('phone', 'cover'), ('buying', 'phone'), ('particular', 'phone'), ('set', 'phone'), ('phone', 'wall'), ('phone', 'cracked'), ('could', 'phone'), ('phone', 'but'), ('case', 'phone'), ('phone', 'unfortunately'), ('phone', 'gift'), ('top', 'phone'), ('phone', 'awesome'), ('static', 'phone'), ('phone', 'tight'), ('phone', 'there'), ('phone', 'standard'), ('phone', 'four'), ('phone', 'march'), ('makes', 'phone'), ('phone', 'device'), ('access', 'phone'), ('phone', 'years'), ('phone', 'hand'), ('chocolate', 'phone'), ('reviews', 'phone'), ('nextel', 'phone'), ('attached', 'phone'), ('phone', 'started'), ('phone', 'worked'), ('unit', 'phone'), ('phone', 'second'), ('protected', 'phone'), ('phone', 'bag'), ('distance', 'phone'), ('phone', 'breeze'), ('moto', 'phone'), ('replaced', 'phone'), ('person', 'phone'), ('button', 'phone'), ('software', 'phone'), ('poor', 'phone'), ('phone', 'say'), ('compared', 'phone'), ('phone', 'shuts'), ('phone', 'find'), ('enabled', 'phone'), ('phone', 'sounded'), ('great', 'phone'), ('come', 'phone'), ('know', 'phone'), ('phone', 'alright'), ('phone', 'standby'), ('nokia', 'phone'), ('held', 'phone'), ('phone', 'simply'), ('phone', 'slim'), ('phone', 'replacement'), ('damage', 'phone'), ('phone', 'matter'), ('plug', 'phone'), ('old', 'phone'), ('after', 'phone'), ('phone', '9'), ('phone', 'found'), ('match', 'phone'), ('face', 'phone'), ('phone', 'w'), ('phone', 'correctly'), ('phone', 'terrible'), ('phone', 'one'), ('phone', 'actually'), ('phone', 'pink'), ('uses', 'phone'), ('phone', 'charges'), ('phone', 'that'), ('head', 'phone'), ('phone', 'although'), ('phone', 'snug'), ('phone', 'trying'), ('phone', 'daughter'), ('terrible', 'phone'), ('wireless', 'phone'), ('phone', '3'), ('next', 'phone'), ('plugging', 'phone'), ('phone', 'held'), ('phone', 'of'), ('phone', 'requires'), ('phone', 'otherwise'), ('phone', 'open'), ('phone', 'time'), ('phone', 'another'), ('phone', 'anywhere'), ('phone', 'now'), ('phone', 'given'), ('phone', 'charging'), ('opening', 'phone'), ('decent', 'phone'), ('phone', 'junk'), ('phone', 'lets'), ('phone', 'as'), ('phone', 'screen'), ('phone', '4'), ('covers', 'phone'), ('phone', 'dying'), ('phone', 'arrived'), ('integrated', 'phone'), ('phone', 'provides'), ('phone', 'go'), ('break', 'phone'), ('phone', 'seems'), ('phone', 'home'), ('clear', 'phone'), ('push', 'phone'), ('ericsson', 'phone'), ('phone', 'ability'), ('phone', 'hold'), ('phone', 'thinking'), ('wife', 'phone'), ('phone', 'make'), ('awesome', 'phone'), ('phone', 'something'), ('phone', 'fact'), ('near', 'phone'), ('env', 'phone'), ('phone', 'function'), ('phone', 'available'), ('phone', 'doesnt'), ('phone', 'functionality'), ('phone', 'able'), ('phone', 'plus'), ('phone', 'worst'), ('phone', 'contacts'), ('outside', 'phone'), ('phone', 'past'), ('phone', 'had'), ('phone', 'fairly'), ('cingular', 'phone'), ('phone', 'piece'), ('phone', 'wanted'), ('phone', 'useless'), ('palm', 'phone'), ('phone', 'sent'), ('email', 'phone'), ('husband', 'phone'), ('phone', 'least'), ('phone', 'ipod'), ('compact', 'phone'), ('seen', 'phone'), ('either', 'phone'), ('when', 'phone'), ('money', 'phone'), ('line', 'phone'), ('phone', 'these'), ('player', 'phone'), ('phone', 'instead'), ('phone', 'unlocked'), ('hand', 'phone'), ('phone', 'read'), ('phone', 'warranty'), ('phone', 'unlike'), ('wonderful', 'phone'), ('phone', 'replaced'), ('color', 'phone'), ('large', 'phone'), ('phone', 'hard'), ('little', 'phone'), ('unless', 'phone'), ('fantastic', 'phone'), ('phone', 'issues'), ('phone', 'talking'), ('satisfied', 'phone'), ('feature', 'phone'), ('phone', 'great'), ('phone', 'job'), ('phone', 'mic'), ('ok', 'phone'), ('overall', 'phone'), ('phone', 'delivered'), ('phone', 'says'), ('phone', 'top'), ('phone', 'plastic'), ('issues', 'phone'), ('while', 'phone'), ('phone', 'small'), ('phone', 'makes'), ('previous', 'phone'), ('took', 'phone'), ('expensive', 'phone'), ('phone', 'keeps'), ('turned', 'phone')]\n",
            "earpiece [('earpiece', 'bit'), ('earpiece', 'could'), ('low', 'earpiece'), ('earpiece', 'best')]\n",
            "product [('this', 'product'), ('quality', 'product'), ('product', 'exactly'), ('product', 'arrived'), ('product', 'price'), ('product', 'worth'), ('like', 'product'), ('wonderful', 'product'), ('product', 'good'), ('give', 'product'), ('product', 'especially'), ('defective', 'product'), ('returned', 'product'), ('product', 'case'), ('awesome', 'product'), ('product', 'looks'), ('product', 'appears'), ('terrific', 'product'), ('recieved', 'product'), ('product', 'others'), ('product', 'charge'), ('product', 'says'), ('recommended', 'product'), ('product', 'month'), ('stars', 'product'), ('find', 'product'), ('know', 'product'), ('product', 'even'), ('product', 'low'), ('product', 'fits'), ('impressed', 'product'), ('product', 'quickly'), ('product', 'working'), ('listed', 'product'), ('product', 'horrible'), ('another', 'product'), ('amazing', 'product'), ('product', 'terrible'), ('shipping', 'product'), ('product', 'hard'), ('product', 'there'), ('use', 'product'), ('time', 'product'), ('product', 'well'), ('poor', 'product'), ('product', 'gets'), ('product', 'fine'), ('product', '4'), ('design', 'product'), ('product', 'compatible'), ('product', 'bit'), ('product', 'also'), ('version', 'product'), ('product', 'though'), ('far', 'product'), ('brand', 'product'), ('product', 'after'), ('product', 'looking'), ('product', 'fit'), ('product', 'quality'), ('star', 'product'), ('not', 'product'), ('product', 'want'), ('tried', 'product')]\n",
            "flash [('flash', 'drive'), ('there', 'flash')]\n",
            "200 [('paid', '200')]\n",
            "OEM [('OEM', 'cable')]\n",
            "adapter [('car', 'adapter'), ('adapter', 'i'), ('adapter', 'computer'), ('charging', 'adapter')]\n",
            "Sony [('phone', 'Sony'), ('Sony', 'clie')]\n"
          ],
          "name": "stdout"
        }
      ]
    }
  ]
}
